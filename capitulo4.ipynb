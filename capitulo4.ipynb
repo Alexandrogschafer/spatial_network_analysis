{
 "cells": [
  {
   "cell_type": "markdown",
   "id": "8f804762",
   "metadata": {},
   "source": [
    "# 4. ROTEAMENTO EM REDES ESPACIAIS: CÁLCULO E ANÁLISE DE CAMINHOS OTIMIZADOS\n",
    "\n",
    "\n",
    "**Roteamento** é o processo de determinar o melhor caminho ou sequência de caminhos entre dois ou mais pontos dentro de uma rede espacial, desempenhando um papel essencial em redes viárias. Ele otimiza deslocamentos para pedestres, ciclistas, veículos e transporte público, com base em critérios como menor distância, menor tempo de viagem ou menor custo operacional. \n",
    "\n",
    "Esse processo utiliza algoritmos matemáticos que analisam e calculam caminhos com base em pesos atribuídos às arestas da rede, representando fatores como distância, tempo ou custo monetário. Entre os algoritmos mais comuns estão o **algoritmo de Dijkstra**, que calcula o caminho mais curto em redes ponderadas; o **algoritmo A***, que utiliza heurísticas para acelerar a busca; e o **algoritmo de Bellman-Ford**, capaz de lidar com pesos negativos nas arestas.\n",
    "\n",
    "O roteamento possui aplicações práticas diversas. Na **logística e transporte**, é usado para planejar caminhos eficientes, reduzindo custos e tempos de operação. No **planejamento urbano**, contribui para avaliar e melhorar a infraestrutura de mobilidade. Também é essencial na **análise de acessibilidade**, identificando regiões com melhores ou piores acessos a serviços, e na **navegação em mapas digitais**, sendo a base de aplicativos como Google Maps e Waze.\n",
    "\n",
    "Por meio dessas ferramentas, o roteamento se torna indispensável para a gestão de redes espaciais, melhorando a eficiência dos sistemas de transporte e a qualidade de vida nas cidades.\n",
    "\n",
    "\n",
    "\n",
    "A **análise de tempos de viagem** é uma abordagem que examina os tempos necessários para percorrer caminhos em uma rede, considerando fatores como velocidades médias, condições de tráfego e topografia. Essa análise é fundamental para avaliar a acessibilidade urbana e planejar sistemas de transporte mais eficientes, promovendo mobilidade mais ágil para pessoas e maior eficiência logística para bens. \n",
    "\n",
    "A velocidade média, um dos principais componentes dessa análise, é definida com base no tipo de via, nos limites de velocidade impostos pela legislação ou em dados empíricos obtidos por medições reais. No caso de modos de transporte como bicicleta ou transporte público, considera-se também a interação com a infraestrutura urbana. Além disso, as condições de tráfego influenciam diretamente os tempos de viagem. Congestionamentos, semáforos, obras em vias e eventos inesperados, como acidentes, podem gerar variações significativas, especialmente quando analisadas ao longo do dia. \n",
    "\n",
    "Os diferentes modos de transporte também apresentam características específicas que impactam os tempos de deslocamento. Veículos motorizados, por exemplo, dependem das condições viárias e do fluxo de tráfego, enquanto pedestres e ciclistas enfrentam desafios relacionados à distância e à topografia. No transporte público, fatores como o tempo de espera nas paradas e a frequência dos serviços desempenham um papel importante. \n",
    "\n",
    "Ao integrar esses fatores, a análise de tempos de viagem identifica gargalos e oferece subsídios para otimizar os deslocamentos, contribuindo para o desenvolvimento de sistemas de transporte mais acessíveis, eficientes e sustentáveis.\n",
    "\n",
    "\n",
    "\n",
    "\n",
    "\n",
    "## 4.1 Algoritmos de Roteamento\n",
    "\n",
    "Os **algoritmos de roteamento** são métodos computacionais usados para encontrar o melhor caminho entre dois ou mais pontos em uma rede. Esses algoritmos consideram os **pesos** atribuídos às arestas da rede (como distância, tempo de viagem, custo, ou outros fatores) para determinar o trajeto mais eficiente de acordo com critérios específicos.\n",
    "\n",
    "Abaixo estão os principais algoritmos de roteamento utilizados, com explicação de seus funcionamentos e aplicações:\n",
    "\n",
    "\n",
    "\n",
    "**Algoritmo de Dijkstra**\n",
    "\n",
    "O **algoritmo de Dijkstra** é amplamente utilizado para encontrar o caminho mais curto em redes ponderadas, desde que todos os pesos das arestas sejam não negativos. \n",
    "Ele trabalha atribuindo custos cumulativos aos nós de uma rede, representando o custo mínimo necessário para alcançar cada nó a partir de um ponto inicial. \n",
    "O processo inicia atribuindo custo zero ao nó de partida e infinito a todos os outros nós. \n",
    "A partir daí, seleciona-se o nó não visitado com o menor custo acumulado, calculando o custo para alcançar os nós vizinhos através dele. \n",
    "Se o custo calculado for menor que o registrado previamente para um vizinho, o valor é atualizado e o nó atual é registrado como parte do caminho mais curto. \n",
    "O nó visitado é então marcado, e o processo se repete para o próximo nó com menor custo acumulado, até que todos os nós tenham sido visitados ou o nó de destino tenha sido alcançado.\n",
    "\n",
    "O algoritmo é simples e eficiente para redes com pesos positivos, garantindo sempre a identificação do caminho mais curto. \n",
    "No entanto, apresenta limitações em redes muito grandes, podendo ser ineficiente se não otimizado com estruturas como filas de prioridade, e não pode lidar com pesos negativos, pois pressupõe que os custos registrados para cada nó são definitivos após sua marcação. \n",
    "Entre suas principais aplicações estão o planejamento de rotas urbanas, como em sistemas de navegação e GPS, onde é utilizado para calcular a menor distância ou o menor tempo de deslocamento. \n",
    "Também é amplamente empregado em redes de computadores para determinar caminhos otimizadas em protocolos de roteamento, além de ser útil no planejamento de infraestrutura de transporte, logística e até em jogos e simulações. \n",
    "\n",
    "\n",
    "\n",
    "\n",
    "\n",
    "**Algoritmo A***\n",
    "\n",
    "O **algoritmo A*** (A-star) é uma extensão do algoritmo de Dijkstra que utiliza uma **função heurística** para guiar a busca de forma mais eficiente, priorizando os caminhos mais promissores. \n",
    "Essa abordagem reduz o número de nós explorados e, em muitos casos, torna o algoritmo significativamente mais rápido, especialmente em redes grandes ou aplicações em tempo real. \n",
    "\n",
    "O funcionamento do A* baseia-se no cálculo de uma função de custo total para cada nó, definida como $f(n) = g(n) + h(n)$, onde $g(n)$ representa o custo acumulado do caminho percorrido até o nó atual e $h(n)$ é uma estimativa heurística do custo restante para alcançar o destino. A heurística, em geral, baseia-se em uma métrica como a distância euclidiana ou a distância Manhattan, dependendo do problema. Durante a execução, o algoritmo prioriza explorar os nós com menor custo total estimado $(f(n))$, garantindo uma busca direcionada e eficiente.\n",
    "\n",
    "O A* oferece diversas vantagens, como a capacidade de reduzir significativamente o número de nós analisados em comparação com o Dijkstra puro, o que o torna mais rápido e ideal para aplicações que exigem respostas em tempo real, como sistemas de navegação GPS, jogos que envolvem movimentação de personagens ou planejamento de trajetórias em robótica. Contudo, a eficiência do algoritmo depende diretamente da qualidade da heurística utilizada. Uma heurística não informada ou mal calibrada pode levar o A* a se comportar de forma semelhante ao Dijkstra, perdendo sua vantagem em termos de rapidez. \n",
    "\n",
    "Apesar dessa limitação, o A* é amplamente utilizado devido à sua capacidade de equilibrar a busca exata do caminho mais curto com a eficiência computacional, sendo uma escolha padrão em muitos sistemas modernos que exigem planejamento de rotas ou trajetórias em redes complexas.\n",
    "\n",
    "\n",
    "\n",
    "**Algoritmo Bellman-Ford**\n",
    "\n",
    "O **algoritmo Bellman-Ford** é uma solução clássica para encontrar o caminho mais curto em redes que podem conter arestas com **pesos negativos**, o que o torna mais versátil que o Dijkstra em certos cenários. Sua capacidade de lidar com pesos negativos é essencial em aplicações onde os custos de transição entre estados podem incluir perdas ou ganhos.\n",
    "\n",
    "O funcionamento do Bellman-Ford inicia com a atribuição de custos infinitos a todos os nós da rede, exceto o nó de partida, que recebe custo zero. Em seguida, o algoritmo realiza o processo de **relaxamento das arestas**: para cada aresta, verifica se o custo acumulado para o nó de destino pode ser reduzido ao passar pelo nó de origem e, se isso ocorrer, atualiza o custo. Esse processo é repetido para cada aresta da rede, por por $V-1$ iterações ($V$) é o número de nós). Após essas iterações, os caminhos mínimos são garantidos. Uma etapa adicional verifica a existência de ciclos negativos na rede, onde o custo pode ser continuamente reduzido, indicando inconsistências ou problemas na modelagem.\n",
    "\n",
    "Entre suas vantagens, destaca-se a capacidade de lidar com pesos negativos e a detecção de ciclos negativos, tornando-o útil em aplicações como **redes financeiras**, onde os pesos podem representar ganhos ou perdas. Contudo, o Bellman-Ford é menos eficiente em termos de tempo quando comparado ao Dijkstra ou ao A*, especialmente em redes grandes, já que sua complexidade temporal é $O(V \\cdot E)$, onde $E$ é o número de arestas.\n",
    "\n",
    "\n",
    "\n",
    "\n",
    "**Algoritmo Floyd-Warshall**\n",
    "\n",
    "O **algoritmo Floyd-Warshall** é uma solução eficiente para calcular os caminhos mais curtos **entre todos os pares de nós** em uma rede. Ele é amplamente utilizado em cenários onde é necessário conhecer o custo mínimo para deslocar-se entre quaisquer dois pontos da rede, o que o torna útil para análises de acessibilidade e estudos que envolvem múltiplas consultas.\n",
    "\n",
    "O funcionamento do algoritmo começa com a criação de uma matriz que representa os custos iniciais entre os nós, baseando-se nos pesos das arestas. Se não há conexão direta entre dois nós, o custo inicial é definido como infinito. O algoritmo então percorre iterativamente cada nó como um possível ponto intermediário, atualizando os valores da matriz sempre que encontra um caminho mais curto ao passar por esse nó. Esse processo continua até que todos os nós tenham sido considerados como intermediários, garantindo que a matriz final contenha os menores custos possíveis entre todos os pares de nós.\n",
    "\n",
    "Entre as vantagens do Floyd-Warshall, destaca-se sua capacidade de fornecer resultados para todas as combinações de pares de nós em uma única execução, eliminando a necessidade de calcular caminhos individuais repetidamente. Além disso, sua lógica é direta, tornando-o relativamente simples de implementar.\n",
    "\n",
    "Por outro lado, o algoritmo é computacionalmente caro para redes grandes, com complexidade $O(n^3)$, onde $n$ é o número de nós. Isso o torna mais adequado para redes pequenas ou médias, onde sua eficiência computacional não é comprometida.\n",
    "\n",
    "As aplicações do Floyd-Warshall incluem estudos de **acessibilidade**, como determinar as menores distâncias entre pontos de interesse em uma cidade, e análises de redes em **sistemas de transporte** ou **logística**, onde é necessário otimizar caminhos entre múltiplos destinos. Além disso, ele é utilizado em contextos como **análises de conectividade em redes sociais** e sistemas de comunicação, permitindo a avaliação de distâncias ou latências entre diferentes nós de uma rede complexa.\n",
    "\n",
    "\n",
    "\n",
    "**Algoritmo Johnson**\n",
    "\n",
    "O **algoritmo Johnson** é uma abordagem híbrida que combina as técnicas dos algoritmos **Bellman-Ford** e **Dijkstra** para calcular os caminhos mais curtos **entre todos os pares de nós** em redes, especialmente aquelas grandes e esparsas. Esse algoritmo é eficaz porque utiliza a reponderação das arestas para garantir que todos os pesos sejam positivos, permitindo o uso do algoritmo de Dijkstra, que não funciona corretamente com pesos negativos.\n",
    "\n",
    "O funcionamento do algoritmo começa aplicando o **Bellman-Ford** em um nó adicional que é conectado a todos os outros nós da rede, criando uma rede modificada com pesos positivos. O Bellman-Ford ajusta os pesos das arestas para garantir que não existam valores negativos, permitindo que o algoritmo Dijkstra seja aplicado sem problemas. Depois, o **Dijkstra** é executado a partir de cada nó da rede para calcular os caminhos mais curtos, agora com os pesos ajustados. O algoritmo é eficiente para redes grandes, pois a reponderação facilita a aplicação do Dijkstra para múltiplos nós.\n",
    "\n",
    "Entre as vantagens do algoritmo Johnson, destaca-se sua **eficiência** em redes esparsas, ou seja, redes com um número relativamente pequeno de arestas em comparação com o número de nós. Em comparação com o algoritmo Floyd-Warshall, que tem uma complexidade de $O(n^3)$, o Johnson é mais eficiente em redes grandes, especialmente se a rede for esparsa, já que a complexidade do Johnson é $O(V^2 \\log V + VE)$, onde $V$ é o número de nós e $E$ o número de arestas.\n",
    "\n",
    "Porém, o Johnson é mais **complexo de implementar**, já que envolve tanto a execução do Bellman-Ford quanto o Dijkstra para cada nó, além da necessidade de ajustar os pesos das arestas. \n",
    "\n",
    "As aplicações do algoritmo incluem **redes de transporte**, onde a reponderação dos pesos das arestas pode representar, por exemplo, o ajuste de distâncias ou tempos de viagem com base em variáveis como tráfego ou outros fatores. Também é utilizado em problemas de **logística** e **planejamento urbano**, onde é necessário calcular múltiplos caminhos curtos em redes grandes e dinâmicas.\n",
    "\n",
    "\n",
    "A tabela a seguir apresenta uma comparação entre os principais algoritmos de roteamento, destacando suas características, limitações e aplicações ideais.\n",
    "\n",
    "| Algoritmo        | Tipo de Rede        | Suporta Pesos Negativos | Velocidade        | Melhor Aplicação                          |\n",
    "|-------------------|---------------------|--------------------------|-------------------|------------------------------------------|\n",
    "| Dijkstra          | Ponderada          | Não                      | Rápido para redes pequenas/médias | Menor distância ou tempo em redes positivas |\n",
    "| A*                | Ponderada          | Não                      | Muito rápido (com boa heurística) | GPS e jogos                              |\n",
    "| Bellman-Ford      | Ponderada          | Sim                      | Lento            | Redes com pesos negativos                |\n",
    "| Floyd-Warshall    | Completa           | Sim                      | Muito lento      | Análise de acessibilidade (todos os pares) |\n",
    "| Johnson           | Ponderada          | Sim                      | Moderadamente rápido | Redes grandes e esparsas                  |\n",
    "\n",
    "\n",
    "\n",
    "\n",
    "\n",
    "\n",
    "## 4.2 Cálculo de roteamento na biblioteca OSMnx**\n",
    "\n",
    "No OSMnx, o cálculo de roteamento utiliza algoritmos clássicos, como **Dijkstra** e **A***, para determinar o caminho mais curto entre dois pontos na rede. Os caminhos podem ser otimizados com base em diferentes critérios, como:\n",
    "- **Distância total**: Minimiza o comprimento das ruas percorridas.\n",
    "- **Tempo de viagem**: Calculado a partir de velocidades médias atribuídas às arestas.\n",
    "- **Custos personalizados**: Permite usar pesos específicos, como custos financeiros ou penalidades para certos tipos de vias.\n",
    "\n",
    "Os dados do OpenStreetMap são convertidos em um grafo direcionado e ponderado, no qual os pesos das arestas podem incluir atributos como comprimento, tipo de superfície, velocidade permitida ou restrições específicas. \n",
    "\n",
    "**Passos para Cálculo de Roteamento**\n",
    "\n",
    "**Construção do grafo**:\n",
    "   - O grafo viário é extraído da área de interesse com o comando `osmnx.graph_from_place()` ou funções similares, que permitem delimitar a rede viária por localizações específicas, como cidades ou bairros.\n",
    "\n",
    "**Atribuição de pesos às arestas**:\n",
    "   - Por padrão, o OSMnx utiliza o comprimento das ruas como peso. Contudo, é possível incluir atributos adicionais, como tempos de viagem, ajustando os pesos com base em dados externos (ex.: velocidades médias ou condições de tráfego).\n",
    "\n",
    "**Cálculo do caminho mais curto**:\n",
    "   - Usando funções como `osmnx.shortest_path()`, o usuário pode determinar o caminho mais curto entre dois nós da rede. Algoritmos como Dijkstra e A* são aplicados dependendo da configuração.\n",
    "\n",
    "**Visualização e análise**:\n",
    "   - Após o cálculo, o OSMnx permite visualizar o caminho encontrado diretamente no mapa e exportar os resultados para análises adicionais.\n",
    "\n",
    "\n",
    "**Personalização do Roteamento**\n",
    "\n",
    "A biblioteca permite personalizar os pesos das arestas para atender a diferentes necessidades. Por exemplo, ao calcular caminhos para pedestres, é possível evitar vias não acessíveis a pé, enquanto para ciclistas podem ser priorizadas ciclovias. Além disso, é possível integrar dados externos, como velocidades médias reais ou condições de tráfego, para tornar os cálculos mais precisos.\n",
    "\n",
    "\n",
    "**Aplicações do Roteamento com OSMnx**\n",
    "\n",
    "- Planejamento de caminhos personalizados para pedestres, ciclistas e motoristas.\n",
    "- Análises de acessibilidade para serviços essenciais, como hospitais e escolas.\n",
    "- Estudos de impacto de infraestrutura viária em mobilidade urbana.\n",
    "- Simulação e otimização de trajetos em estudos logísticos.\n",
    "\n",
    "\n",
    "\n",
    "\n",
    "## 4.3 Obtenção e análise preliminar da rede viária\n",
    "\n",
    "Inicialmente, vamos instalar as bibliotecas necessárias para trabalhar com o **OSMnx** e com outras ferramentas utilizadas para análise de redes e visualização."
   ]
  },
  {
   "cell_type": "code",
   "execution_count": null,
   "id": "7a4b1cd6",
   "metadata": {},
   "outputs": [],
   "source": [
    "!pip install osmnx\n",
    "!pip install shapely\n",
    "!pip install mapclassify"
   ]
  },
  {
   "cell_type": "markdown",
   "id": "6187dc93",
   "metadata": {},
   "source": [
    "Em seguida, importamos as bibliotecas necessárias para análise e visualização de redes. Além disso, configuramos o OSMnx para utilizar cache e exibir logs no console."
   ]
  },
  {
   "cell_type": "code",
   "execution_count": null,
   "id": "339462ba",
   "metadata": {},
   "outputs": [],
   "source": [
    "import geopandas as gpd\n",
    "import networkx as nx\n",
    "import osmnx as ox\n",
    "import matplotlib.pyplot as plt\n",
    "from matplotlib.lines import Line2D\n",
    "import matplotlib.colors as mcolors\n",
    "import folium\n",
    "import pandas as pd\n",
    "from shapely.geometry import mapping\n",
    "from shapely.geometry import Point\n",
    "import warnings\n",
    "\n",
    "# Configuração do OSMnx\n",
    "warnings.filterwarnings(\"ignore\")\n",
    "ox.config(use_cache=True, log_console=True)\n"
   ]
  },
  {
   "cell_type": "markdown",
   "id": "43836756",
   "metadata": {},
   "source": [
    "Utilize o **OSMnx** para baixar a rede viária de um local específico, neste caso, o bairro da Liberdade em São Paulo. Você pode especificar o tipo de rede desejada (por exemplo, \"drive\" para veículos motorizados)."
   ]
  },
  {
   "cell_type": "code",
   "execution_count": null,
   "id": "4a1c4a75",
   "metadata": {},
   "outputs": [],
   "source": [
    "bairro = \"Liberdade, São Paulo, Brasil\"\n",
    "\n",
    "G = ox.graph_from_place(bairro, network_type='drive')\n",
    "\n",
    "# Plotar a rede\n",
    "fig, ax = ox.plot_graph(G)\n",
    "plt.show()"
   ]
  },
  {
   "cell_type": "markdown",
   "id": "4d756405",
   "metadata": {},
   "source": [
    "Agora vamos verificar se temos vias de mão única no grafo do bairro da Liberdade.\n",
    "\n",
    "Neste passo, configuramos as cores das arestas com base no atributo \"oneway\" (mão única)."
   ]
  },
  {
   "cell_type": "code",
   "execution_count": null,
   "id": "3b7420dd",
   "metadata": {},
   "outputs": [],
   "source": [
    "# Configurar as cores das arestas com base no atributo 'mão única'\n",
    "cores_arestas = [\"red\" if dados.get('oneway') else \"blue\" for u, v, dados in G.edges(data=True)]\n",
    "\n",
    "# Plotar o grafo\n",
    "fig, ax = ox.plot_graph(\n",
    "    G,\n",
    "    edge_color=cores_arestas,\n",
    "    edge_linewidth=1,\n",
    "    node_size=0,\n",
    "    figsize=(10, 10),\n",
    "    show=False,\n",
    "    close=False\n",
    ")\n",
    "\n",
    "# Adicionar o título\n",
    "plt.suptitle(\"Vias de Mão Única (vermelho) e de Mão Dupla (azul)\", fontsize=16)\n",
    "plt.show()"
   ]
  },
  {
   "cell_type": "markdown",
   "id": "6d04383d",
   "metadata": {},
   "source": [
    "## 4.4 Roteamento básico por distância\n",
    "\n",
    "Após obter o grafo, vamos a um exemplo de cálculo de roteamento. Neste exemplo, queremos identificar o caminho de menor distância, ou caminho mínimo, entre dois pontos.\n",
    "\n",
    "\n",
    "\n",
    "### 4.4.1 Definição dos pontos para o roteamento\n",
    "\n",
    "Existem várias maneiras de definir os pontos inicial e final (e intermediários, se for o caso) para calcular um caminho. Aqui estão algumas das principais abordagens:\n",
    "\n",
    "a) Usando IDs de Nós Conhecidos\n",
    "\n",
    "Se você conhece os IDs dos nós do grafo, pode utilizá-los diretamente:\n",
    "```python\n",
    "no_origem = 123456\n",
    "no_destino = 789101\n",
    "rota = ox.shortest_path(G, no_origem, no_destino, weight=\"length\")\n",
    "```\n",
    "\n",
    "\n",
    "b) Encontrando Nós Próximos com Coordenadas Geográficas\n",
    "\n",
    "Você pode usar coordenadas geográficas para encontrar os nós mais próximos:\n",
    "```python\n",
    "ponto_origem = ox.distance.nearest_nodes(G, -46.6372, -23.5505)\n",
    "ponto_destino = ox.distance.nearest_nodes(G, -46.635, -23.5503)\n",
    "rota = ox.shortest_path(G, no_origem, no_destino, weight=\"length\")\n",
    "```\n",
    "\n",
    "\n",
    "\n",
    "c) Convertendo Endereços em Coordenadas\n",
    "\n",
    "Com o geocodificador integrado do OSMnx:\n",
    "```python\n",
    "coordenadas_origem = ox.geocode(\"Avenida Paulista, São Paulo, Brazil\")\n",
    "coordenadas_destino = ox.geocode(\"Praça da Sé, São Paulo, Brazil\")\n",
    "no_origem = ox.distance.nearest_nodes(G, coordenadas_origem[1], coordenadas_origem[0])\n",
    "no_destino = ox.distance.nearest_nodes(G, coordenadas_destino[1], coordenadas_destino[0])\n",
    "rota = ox.shortest_path(G, no_origem, no_destino, weight=\"length\")\n",
    "```\n",
    "\n",
    "No OSMnx, ao informar um endereço usando o método `ox.geocode()`, o resultado depende da precisão dos dados no serviço de geocodificação utilizado (por padrão, o Nominatim do OpenStreetMap). O geocodificador tentará localizar o endereço com base nas informações fornecidas, mas:\n",
    "\n",
    "**Se o número da casa estiver registrado no banco de dados do OpenStreetMap**, ele poderá retornar as coordenadas exatas do endereço.\n",
    "   \n",
    "**Caso contrário**, ele retornará uma localização aproximada, geralmente no ponto médio da rua correspondente ou próximo ao local mais relevante com base nas informações fornecidas.\n",
    "\n",
    "Portanto, se o número da casa não estiver registrado no OSM, você receberá apenas uma aproximação.\n",
    "\n",
    "\n",
    "Para precisão melhor:\n",
    "- Use serviços adicionais como o Google Maps API ou HERE API, que frequentemente têm dados mais precisos para endereços com números de casas.\n",
    "- Confirme os dados no OpenStreetMap para verificar se o número da casa está mapeado.\n",
    "\n",
    "Se a precisão for crucial para o projeto, é recomendável utilizar uma abordagem complementar para garantir que as coordenadas estejam corretas.\n",
    "\n",
    "\n",
    "d) Selecionando Nós com Base em Atributos\n",
    "\n",
    "Identifique nós com características específicas:\n",
    "```python\n",
    "for no, atributos in G.nodes(data=True):\n",
    "    if \"street_count\" in atributos and atributos[\"street_count\"] == 3:\n",
    "        print(no, atributos)\n",
    "```\n",
    "\n",
    "Neste código, \"and atributos[\"street_count\"] == 3:\" seleciona os nós onde o número de ruas conectadas é exatamente 3.\n",
    "Esses nós podem representar interseções (cruzamentos) em que três ruas convergem.\n",
    "\n",
    "\n",
    "\n",
    "\n",
    "e) Usando Interfaces Gráficas\n",
    "\n",
    "Com bibliotecas como **folium**, você pode interagir com o mapa e selecionar os pontos:\n",
    "```python\n",
    "import folium\n",
    "\n",
    "# Criar um mapa básico\n",
    "m = folium.Map(location=[-23.5505, -46.6333], zoom_start=14)\n",
    "folium.Marker(location=[-23.5505, -46.6333], popup=\"Origem\").add_to(m)\n",
    "folium.Marker(location=[-23.5525, -46.6320], popup=\"Destino\").add_to(m)\n",
    "m\n",
    "```\n",
    "\n",
    "\n",
    "Voltando ao processo de determinaçãor o caminho mínimo entre dois pontos, vamos informar as coordenadas de dois pontos no bairro da Liberdade, um ponto será a origem e o outro ponto, o destino de nosso trajeto.\n",
    "É importante destacar que esses pontos não são nós da rede.\n",
    "\n",
    "\n",
    "- **Ponto de Origem**:  \n",
    "  - Latitude: (23, 34, 22, \"S\")  \n",
    "  - Longitude: (46, 37, 45, \"W\")  \n",
    "\n",
    "- **Ponto de Destino**:  \n",
    "  - Latitude: (23, 33, 40, \"S\")  \n",
    "  - Longitude: (46, 38, 6, \"W\")\n",
    "\n",
    "Como as coordenadas dos pontos estão no formato graus, minutos e segundos (DMS), é necessário convertê-las para o formato decimal (DD) para poder utilizar em nosso estudo de caso. \n",
    "Para tanto, vamos criar uma função simples, que realiza esta conversão."
   ]
  },
  {
   "cell_type": "code",
   "execution_count": null,
   "id": "f7b9ee13",
   "metadata": {},
   "outputs": [],
   "source": [
    "def dms_para_decimal(graus, minutos, segundos, hemisferio):\n",
    "    \"\"\"\n",
    "    Converte coordenadas no formato DMS (graus, minutos, segundos)\n",
    "    para o formato decimal (DD), considerando o hemisfério.\n",
    "\n",
    "    Parâmetros:\n",
    "    - graus: int ou float (parte inteira dos graus)\n",
    "    - minutos: int ou float (minutos)\n",
    "    - segundos: int ou float (segundos)\n",
    "    - hemisferio: str (\"S\" para Sul, \"N\" para Norte, \"W\" para Oeste, \"E\" para Leste)\n",
    "\n",
    "    Retorno:\n",
    "    - float: coordenada no formato decimal, com sinal ajustado\n",
    "    \"\"\"\n",
    "    decimal = graus + (minutos / 60) + (segundos / 3600)\n",
    "\n",
    "    # Ajustar sinal com base no hemisfério\n",
    "    if hemisferio.upper() in [\"S\", \"W\"]:  # Sul ou Oeste -> negativo\n",
    "        decimal = -decimal\n",
    "\n",
    "    return decimal"
   ]
  },
  {
   "cell_type": "markdown",
   "id": "90890f05",
   "metadata": {},
   "source": [
    "Agora podemos converter as coordenadas dos pontos. Primeiro criamos variáveis e informamos as coordenadas."
   ]
  },
  {
   "cell_type": "code",
   "execution_count": null,
   "id": "20215fc0",
   "metadata": {},
   "outputs": [],
   "source": [
    "# Coordenadas de origem e destino\n",
    "latitude_dms_origem = (23, 34, 37, \"S\")\n",
    "longitude_dms_origem = (46, 37, 41, \"W\")\n",
    "\n",
    "latitude_dms_destino = (23, 33, 27, \"S\")\n",
    "longitude_dms_destino = (46, 38, 8, \"W\")"
   ]
  },
  {
   "cell_type": "markdown",
   "id": "34b1d991",
   "metadata": {},
   "source": [
    "E em seguida aplicamos a função criada anteriormente para realizar a conversão."
   ]
  },
  {
   "cell_type": "code",
   "execution_count": null,
   "id": "067c102c",
   "metadata": {},
   "outputs": [],
   "source": [
    "# Converter para decimal\n",
    "latitude_origem_decimal = dms_para_decimal(*latitude_dms_origem)\n",
    "longitude_origem_decimal = dms_para_decimal(*longitude_dms_origem)\n",
    "\n",
    "latitude_destino_decimal = dms_para_decimal(*latitude_dms_destino)\n",
    "longitude_destino_decimal = dms_para_decimal(*longitude_dms_destino)\n",
    "\n",
    "# Exibir resultados\n",
    "print(f\"Coordenadas Origem (Decimal): Latitude = {latitude_origem_decimal}, Longitude = {longitude_origem_decimal}\")\n",
    "print(f\"Coordenadas Destino (Decimal): Latitude = {latitude_destino_decimal}, Longitude = {longitude_destino_decimal}\")"
   ]
  },
  {
   "cell_type": "markdown",
   "id": "e1fae099",
   "metadata": {},
   "source": [
    "No código acima, o uso de asteriscos (`*`) em chamadas como `dms_para_decimal(*latitude_dms_origem)` e `dms_para_decimal(*longitude_dms_origem)` tem a função de **desempacotar** os valores da tupla antes de passá-los como argumentos para a função `dms_para_decimal`.\n",
    "\n",
    "**Entendendo o desempacotamento (`*`):**\n",
    "\n",
    "**Tupla de entrada**:\n",
    "   - `latitude_dms_origem = (23, 34, 37, \"S\")` é uma tupla contendo 4 elementos: graus, minutos, segundos e direção (norte/sul ou leste/oeste).\n",
    "\n",
    "**Função `dms_para_decimal`**:\n",
    "   - A função `dms_para_decimal` espera receber cada um desses valores como argumentos separados, assim:\n",
    "     ```python\n",
    "     def dms_para_decimal(graus, minutos, segundos, direcao):\n",
    "         # Conversão lógica aqui\n",
    "     ```\n",
    "   - Para que a tupla seja compatível com essa assinatura de função, seus elementos precisam ser separados ao serem passados para a função.\n",
    "\n",
    "**Uso do `*`**:\n",
    "   - O operador `*` em Python faz exatamente isso: ele **desempacota** os valores da tupla em argumentos individuais.\n",
    "   - Assim, a chamada:\n",
    "     ```python\n",
    "     dms_para_decimal(*latitude_dms_origem)\n",
    "     ```\n",
    "     É equivalente a:\n",
    "     ```python\n",
    "     dms_para_decimal(23, 34, 37, \"S\")\n",
    "     ```\n",
    "\n",
    "\n",
    "Agora criamos as variáveis para armazenar os pontos de origem e de destino."
   ]
  },
  {
   "cell_type": "code",
   "execution_count": null,
   "id": "ef683073",
   "metadata": {},
   "outputs": [],
   "source": [
    "ponto_origem = Point(longitude_origem_decimal, latitude_origem_decimal)\n",
    "ponto_destino = Point(longitude_destino_decimal, latitude_destino_decimal)"
   ]
  },
  {
   "cell_type": "markdown",
   "id": "3ee4864b",
   "metadata": {},
   "source": [
    "Agora podemos visualizar o polígono do bairro (Liberdade) com os pontos de origem e destino convertidos."
   ]
  },
  {
   "cell_type": "code",
   "execution_count": null,
   "id": "159d7bf4",
   "metadata": {},
   "outputs": [],
   "source": [
    "# Obter o centro do polígono para centralizar o mapa\n",
    "gdf_bairro = ox.geocode_to_gdf(bairro)\n",
    "centro_bairro = gdf_bairro.geometry.centroid.iloc[0]\n",
    "\n",
    "# Criar o mapa centrado no bairro\n",
    "mapa = folium.Map(location=[centro_bairro.y, centro_bairro.x], zoom_start=14)\n",
    "\n",
    "# Adicionar o polígono do bairro ao mapa\n",
    "for _, row in gdf_bairro.iterrows():\n",
    "    folium.GeoJson(\n",
    "        data=mapping(row.geometry),\n",
    "        style_function=lambda x: {\"color\": \"blue\", \"fillColor\": \"lightblue\", \"fillOpacity\": 0.5},\n",
    "        name=\"Bairro\",\n",
    "    ).add_to(mapa)\n",
    "\n",
    "# Adicionar o ponto de origem\n",
    "folium.Marker(\n",
    "    location=[ponto_origem.y, ponto_origem.x],\n",
    "    popup=\"Origem\",\n",
    "    icon=folium.Icon(color=\"red\", icon=\"info-sign\"),\n",
    ").add_to(mapa)\n",
    "\n",
    "# Adicionar o ponto de destino\n",
    "folium.Marker(\n",
    "    location=[ponto_destino.y, ponto_destino.x],\n",
    "    popup=\"Destino\",\n",
    "    icon=folium.Icon(color=\"green\", icon=\"info-sign\"),\n",
    ").add_to(mapa)\n",
    "\n",
    "# Adicionar controle de camadas\n",
    "folium.LayerControl().add_to(mapa)\n",
    "\n",
    "# Exibir o mapa\n",
    "mapa"
   ]
  },
  {
   "cell_type": "markdown",
   "id": "7e678743",
   "metadata": {},
   "source": [
    "### 4.4.2 Determinação do caminho mínimo\n",
    "\n",
    "Vamos calcular o caminho mínimo entre o ponto de origem e o ponto de destino com base na distância de cada aresta que compõe o grafo. \n",
    "Utilizaremos as coordenadas de origem e destino já convertidas para decimais. Os nós mais próximos no grafo serão localizados e utilizados para calcular esse caminho."
   ]
  },
  {
   "cell_type": "code",
   "execution_count": null,
   "id": "dfdf3bdf",
   "metadata": {},
   "outputs": [],
   "source": [
    "# Coordenadas da origem e do destino\n",
    "origem = (latitude_origem_decimal, longitude_origem_decimal)  # Latitude e longitude da origem\n",
    "destino = (latitude_destino_decimal, longitude_destino_decimal)  # Latitude e longitude do destino\n",
    "\n",
    "# Encontrar os nós mais próximos no grafo\n",
    "nó_origem = ox.distance.nearest_nodes(G, origem[1], origem[0])  # Inverter para (longitude, latitude)\n",
    "nó_destino = ox.distance.nearest_nodes(G, destino[1], destino[0])  # Inverter para (longitude, latitude)\n",
    "\n",
    "# Calcular o caminho mínimo com relação a distância\n",
    "rota = ox.shortest_path(G, nó_origem, nó_destino, weight=\"length\")\n",
    "\n",
    "# Visualizar o caminho\n",
    "ox.plot_graph_route(G, rota)"
   ]
  },
  {
   "cell_type": "markdown",
   "id": "c0bae15f",
   "metadata": {},
   "source": [
    "No código acima:\n",
    "\n",
    "**`ox.distance.nearest_nodes()`**: Encontra o nó no grafo `G` que está mais próximo de um par de coordenadas geográficas. O OSMnx organiza as coordenadas no formato `(longitude, latitude)`. Como o padrão é `(latitude, longitude)` em muitas APIs, as coordenadas precisam ser invertidas ao passá-las para a função.\n",
    "\n",
    "**Entradas**:\n",
    "  - `G`: Grafo representando a rede viária.\n",
    "  - `ponto_origem[1], ponto_origem[0]`: As coordenadas (longitude, latitude) do ponto de origem.\n",
    "  - `ponto_destino[1], ponto_destino[0]`: As coordenadas (longitude, latitude) do ponto de destino.\n",
    "\n",
    "**Saídas**:\n",
    "  - `nó_origem`: O nó do grafo mais próximo ao ponto de origem.\n",
    "  - `nó_destino`: O nó do grafo mais próximo ao ponto de destino.\n",
    "\n",
    "\n",
    "\n",
    "**`ox.shortest_path()`**: Calcula o caminho mais curto entre dois nós (`nó_origem` e `nó_destino`) em um grafo `G`.\n",
    "\n",
    "**Parâmetros**:\n",
    "  - `G`: O grafo viário.\n",
    "  - `nó_origem`: O nó de partida.\n",
    "  - `nó_destino`: O nó de chegada.\n",
    "  - `weight=\"length\"`: Define que o critério para calcular o caminho mínimo é a distância física das arestas. Isso assume que cada aresta no grafo tem um atributo `\"length\"` (geralmente em metros).\n",
    "\n",
    "**Saída**:\n",
    "  - `rota`: Uma lista de nós que define o caminho mínimo no grafo.\n",
    "\n",
    "\n",
    "\n",
    "- **`ox.plot_graph_route()`**: Plota o grafo `G` e destaca o caminho calculado.\n",
    "\n",
    "**Entradas**:\n",
    "  - `G`: O grafo da rede viária.\n",
    "  - `rota`: A lista de nós que formam o caminho mínimo.\n",
    "  \n",
    "**Saída**:\n",
    "  - Um gráfico exibindo o grafo, com a rota destacada.\n",
    "\n",
    "\n",
    "\n",
    "Definido o caminho mínimo, vamos calcular o comprimento total do caminho obtido somando o comprimento de cada aresta percorrida."
   ]
  },
  {
   "cell_type": "code",
   "execution_count": null,
   "id": "05f83dfb",
   "metadata": {},
   "outputs": [],
   "source": [
    "comprimento_total = sum(\n",
    "    G[u][v][0][\"length\"] for u, v in zip(rota[:-1], rota[1:])\n",
    ")\n",
    "print(f\"Comprimento total da rota: {comprimento_total:.2f} metros\")"
   ]
  },
  {
   "cell_type": "markdown",
   "id": "f6c1bc1f",
   "metadata": {},
   "source": [
    "No código acima:\n",
    "\n",
    "**`rota`**: é uma lista de nós que define o caminho mínimo no grafo. Exemplo: `rota = [nó1, nó2, nó3, nó4]`.\n",
    "\n",
    "**`zip(rota[:-1], rota[1:])`**: Combina pares consecutivos de nós na rota.\n",
    "     - `rota[:-1]`: Exclui o último nó da lista → `[nó1, nó2, nó3]`.\n",
    "     - `rota[1:]`: Exclui o primeiro nó da lista → `[nó2, nó3, nó4]`.\n",
    "   - `zip` une os dois em pares:\n",
    "     - `[(nó1, nó2), (nó2, nó3), (nó3, nó4)]`.\n",
    "\n",
    "**`G[u][v][0][\"length\"]`**: Acessa o grafo `G` para obter o comprimento da aresta entre os nós `u` e `v`:\n",
    "     - `G[u][v]`: Dicionário que contém as arestas entre os nós `u` e `v`.\n",
    "     - `[0]`: Seleciona a primeira aresta no caso de grafos direcionados ou multigrafos (onde pode haver várias arestas entre dois nós).\n",
    "     - `[\"length\"]`: Retorna o comprimento (geralmente em metros) da aresta entre `u` e `v`.\n",
    "\n",
    "**`sum(...)`**: Soma os comprimentos de todas as arestas no caminho (`rota`). O resultado é o comprimento total do caminho em metros.\n",
    "Por exemplo, para uma caminho `rota = [1, 2, 3, 4]` e arestas no grafo:\n",
    "\n",
    "- Comprimento das arestas:\n",
    "  - `G[1][2][0][\"length\"] = 120.5` (de nó 1 para nó 2)\n",
    "  - `G[2][3][0][\"length\"] = 180.3` (de nó 2 para nó 3)\n",
    "  - `G[3][4][0][\"length\"] = 95.2` (de nó 3 para nó 4)\n",
    "- Total:\n",
    "  \\[\n",
    "  \\text{Comprimento total} = 120.5 + 180.3 + 95.2 = 396.0 \\, \\text{metros}\n",
    "  \\]\n",
    "- Saída:\n",
    "  ```\n",
    "  Comprimento total da rota: 396.00 metros\n",
    "  ```\n",
    "\n",
    "\n",
    "\n",
    "\n",
    "## 4.5 Roteamento considerando velocidade e tempo de viagem\n",
    "\n",
    "O roteamento com base em velocidade e tempo de viagem é uma abordagem que considera não apenas a distância, mas também o tempo necessário para percorrer cada trecho de uma rede. Essa análise é útil em contextos onde as condições de deslocamento variam significativamente em função da velocidade permitida ou das características das vias.\n",
    "\n",
    "Para estimar o tempo de viagem, utilizamos a fórmula básica:\n",
    "\n",
    "$$\n",
    "\\text{tempo} = \\frac{\\text{comprimento}}{\\text{velocidade}}\n",
    "$$\n",
    "\n",
    "Nessa fórmula, o **comprimento** representa a extensão de cada aresta da rede (geralmente em metros), enquanto a **velocidade** é o valor atribuído à aresta (em metros por segundo ou convertido de unidades como km/h). Ao aplicar essa equação, é possível calcular o tempo total necessário para percorrer um caminho, permitindo determinar não apenas o caminho mínimo, mas também o mais rápido. \n",
    "\n",
    "\n",
    "Para realizar essa análise, é fundamental que o grafo contenha informações sobre os valores de velocidade associados às arestas. Essas informações são essenciais para calcular o tempo de viagem em cada trecho da rede. Antes de prosseguir, vamos verificar os atributos do grafo para confirmar a presença desses dados e garantir que eles estejam disponíveis para o cálculo."
   ]
  },
  {
   "cell_type": "code",
   "execution_count": null,
   "id": "4bde6b7e",
   "metadata": {},
   "outputs": [],
   "source": [
    "# Criar DataFrame com atributos das arestas\n",
    "df_arestas = pd.DataFrame.from_dict(dict(((u, v), d) for u, v, d in G.edges(data=True)), orient='index')\n",
    "print(\"\\nAtributos das Arestas:\")\n",
    "print(df_arestas.head())"
   ]
  },
  {
   "cell_type": "markdown",
   "id": "0ad4ac51",
   "metadata": {},
   "source": [
    "Por padrão, o atributo que armazena informações de velocidade das arestas no OSM é `maxspeed`. Podemos verificar que temos esse atributo no grafo. \n",
    "Vamos verificar se todas as arestas possuem valor de `maxspeed`. Para tanto, vamos verificar a existência de dados ausentes."
   ]
  },
  {
   "cell_type": "code",
   "execution_count": null,
   "id": "714ba94b",
   "metadata": {},
   "outputs": [],
   "source": [
    "# Contar o número total de arestas\n",
    "total_arestas = len(df_arestas)\n",
    "\n",
    "# Contar os valores NaN no atributo 'maxspeed'\n",
    "nan_maxspeed_count = df_arestas['maxspeed'].isna().sum()\n",
    "\n",
    "# Exibir os resultados\n",
    "print(f\"Total de arestas: {total_arestas}\")\n",
    "print(f\"Quantidade de arestas com maxspeed = NaN: {nan_maxspeed_count}\")"
   ]
  },
  {
   "cell_type": "markdown",
   "id": "caae977a",
   "metadata": {},
   "source": [
    "Podemos verificar que existe uma grande quantidade de arestas sem dados de velocidade. Vamos identificar visualmente essas arestas."
   ]
  },
  {
   "cell_type": "code",
   "execution_count": null,
   "id": "d03be1f4",
   "metadata": {},
   "outputs": [],
   "source": [
    "# Categorizar as arestas com base no atributo maxspeed\n",
    "cores_arestas = [\n",
    "    \"gray\" if data.get(\"maxspeed\") is None else \"red\"\n",
    "    for u, v, data in G.edges(data=True)\n",
    "]\n",
    "\n",
    "# Plotar o grafo com as cores configuradas\n",
    "fig, ax = ox.plot_graph(\n",
    "    G,\n",
    "    edge_color=cores_arestas,\n",
    "    edge_linewidth=1.5,\n",
    "    node_size=0,\n",
    "    figsize=(12, 12),\n",
    "    show=False,\n",
    "    close=False,\n",
    ")\n",
    "\n",
    "# Adicionar legenda manual\n",
    "handles = [\n",
    "    plt.Line2D([0], [0], color=\"gray\", lw=3, label=\"Maxspeed = NaN\"),\n",
    "    plt.Line2D([0], [0], color=\"red\", lw=3, label=\"Maxspeed definido\"),\n",
    "]\n",
    "ax.legend(handles=handles, loc=\"upper left\")\n",
    "\n",
    "# Adicionar título\n",
    "plt.suptitle(\"Rede Viária com Maxspeed Categorizada\", fontsize=16)\n",
    "plt.show()"
   ]
  },
  {
   "cell_type": "markdown",
   "id": "1ccc3b6b",
   "metadata": {},
   "source": [
    "Além da questão dos dados faltantes, o atributo `maxspeed` pode conter valores inconsistentes (como strings ou valores múltiplos). Para realizar os cálculos de tempo de viagem, é necessário garantir que `maxspeed` seja numérico. Desta maneira, antes de trabalhar com os dados de `maxspeed`, é importante entender sua estrutura. \n",
    "\n",
    "Vamos verificar os tipos de valores armazenados na coluna `maxspeed`:"
   ]
  },
  {
   "cell_type": "code",
   "execution_count": null,
   "id": "8e80ddbb",
   "metadata": {},
   "outputs": [],
   "source": [
    "# Exibir informações sobre as arestas\n",
    "df_arestas.info()\n",
    "\n",
    "# Contar e exibir os tipos de valores armazenados na coluna 'maxspeed'\n",
    "print(\"Tipos de valores em maxspeed:\")\n",
    "print(df_arestas['maxspeed'].apply(type).value_counts())\n",
    "\n",
    "# Listar exemplos de cada tipo armazenado\n",
    "print(\"\\nExemplos de valores armazenados:\")\n",
    "for tipo in df_arestas['maxspeed'].apply(type).unique():\n",
    "    exemplos = df_arestas[df_arestas['maxspeed'].apply(type) == tipo]['maxspeed'].head(5)\n",
    "    print(f\"\\nTipo: {tipo}\")\n",
    "    print(exemplos)"
   ]
  },
  {
   "cell_type": "markdown",
   "id": "0e07e196",
   "metadata": {},
   "source": [
    "Como `maxspeed` contém valores inconsistentes (como listas e valores ausentes), será necessário ajustar os dados para realizar cálculos.\n",
    "\n",
    "\n",
    "Para garantir que alterações sejam feitas sem comprometer os dados originais, criaremos uma cópia do grafo. Em seguida, iremos imprimir os nós dos grafos original e cópia, para verificar se estão coerentes."
   ]
  },
  {
   "cell_type": "code",
   "execution_count": null,
   "id": "9cf01d1b",
   "metadata": {},
   "outputs": [],
   "source": [
    "# Criar uma cópia do grafo original\n",
    "grafo_editado = G.copy()\n",
    "\n",
    "# Verificar se a cópia foi criada com sucesso\n",
    "print(f\"Número de nós no grafo original: {len(G.nodes)}\")\n",
    "print(f\"Número de nós no grafo editado: {len(grafo_editado.nodes)}\")"
   ]
  },
  {
   "cell_type": "markdown",
   "id": "175f5d15",
   "metadata": {},
   "source": [
    "Inicialmente vamos abordar os registros que estão armazenados como listas em `maxspeed` (ex.: `[\"30\", \"50\"]`). Quanto tivermos esse tipo de ocorrência, converteremos os valores armazenados como listas para garantir que cada aresta tenha um único valor, escolhendo o menor valor como medida de segurança."
   ]
  },
  {
   "cell_type": "code",
   "execution_count": null,
   "id": "3a907a66",
   "metadata": {},
   "outputs": [],
   "source": [
    "# Transformar listas de maxspeed em inteiros, mantendo o valor mais baixo\n",
    "for u, v, data in grafo_editado.edges(data=True):\n",
    "    if isinstance(data.get(\"maxspeed\"), list):  # Verificar se maxspeed é uma lista\n",
    "        menor_valor = min(map(int, data[\"maxspeed\"]))  # Obter o menor valor da lista\n",
    "        data[\"maxspeed\"] = str(menor_valor)  # Converter para string\n",
    "\n",
    "# Verificar se ainda existem listas em maxspeed\n",
    "listas_remanescentes = [\n",
    "    (u, v, data[\"maxspeed\"]) for u, v, data in grafo_editado.edges(data=True) if isinstance(data.get(\"maxspeed\"), list)\n",
    "]\n",
    "print(f\"Número de arestas com maxspeed como lista: {len(listas_remanescentes)}\")"
   ]
  },
  {
   "cell_type": "markdown",
   "id": "d4939ff6",
   "metadata": {},
   "source": [
    "No código acima:\n",
    "\n",
    "**Etapa 1: Transformar listas de `maxspeed` em inteiros**:\n",
    "\n",
    "```python\n",
    "for u, v, data in grafo_editado.edges(data=True):\n",
    "    if isinstance(data.get(\"maxspeed\"), list):  # Verificar se maxspeed é uma lista\n",
    "        menor_valor = min(map(int, data[\"maxspeed\"]))  # Obter o menor valor da lista\n",
    "        data[\"maxspeed\"] = str(menor_valor)  # Converter para string\n",
    "```\n",
    "\n",
    "**`grafo_editado.edges(data=True)`**: Itera por todas as arestas do grafo `grafo_editado`. Cada aresta é definida pelos nós `u` (origem) e `v` (destino), e possui um dicionário de atributos `data`.\n",
    "\n",
    "**`data.get(\"maxspeed\")`**: Verifica o valor associado ao atributo `maxspeed` para a aresta atual. Esse atributo pode ser:\n",
    "    - Uma string (ex.: `\"50\"`).\n",
    "    - Uma lista de strings (ex.: `[\"30\", \"50\"]`).\n",
    "    - `None` (se o atributo não estiver presente na aresta).\n",
    "\n",
    "**`if isinstance(data.get(\"maxspeed\"), list):`**: Garante que o código manipule apenas arestas onde o valor de `maxspeed` seja uma lista.\n",
    "\n",
    "**`min(map(int, data[\"maxspeed\"]))`**: Converte os valores da lista (originalmente strings) em inteiros usando `map(int, ...)`. Determina o menor valor da lista com a função `min()`.\n",
    "\n",
    "**`data[\"maxspeed\"] = str(menor_valor)`**: Substitui o valor original da lista por uma string contendo o menor valor.\n",
    "\n",
    "\n",
    "**Etapa 2. Verificar se ainda existem listas em `maxspeed`**\n",
    "\n",
    "```python\n",
    "listas_remanescentes = [\n",
    "    (u, v, data[\"maxspeed\"]) for u, v, data in grafo_editado.edges(data=True) if isinstance(data.get(\"maxspeed\"), list)\n",
    "]\n",
    "print(f\"Número de arestas com maxspeed como lista: {len(listas_remanescentes)}\")\n",
    "```\n",
    "\n",
    "**Lista de arestas remanescentes**: Este trecho cria uma lista com todas as arestas (`u`, `v`) cujos valores de `maxspeed` ainda são listas.\n",
    "  - **Compreensão de lista**:\n",
    "    - Itera novamente por todas as arestas do grafo.\n",
    "    - Filtra apenas aquelas onde `maxspeed` ainda é uma lista.\n",
    "    - Para cada aresta filtrada, inclui uma tupla com:\n",
    "      - Os nós `u` e `v`.\n",
    "      - O valor atual de `maxspeed`.\n",
    "\n",
    "**`len(listas_remanescentes)`**:\n",
    "  - Conta quantas arestas ainda possuem `maxspeed` como lista.\n",
    "\n",
    "**`print`**:\n",
    "  - Exibe o número de arestas remanescentes com o problema original.\n",
    "\n",
    "\n",
    "**Exemplo**\n",
    "Suponha que uma aresta tenha o seguinte atributo antes do processamento:\n",
    "```python\n",
    "{\"maxspeed\": [\"30\", \"50\"]}\n",
    "```\n",
    "\n",
    "Após o código:\n",
    "\n",
    "**Transformação**:\n",
    "   - `min(map(int, [\"30\", \"50\"]))` → `30`\n",
    "   - Substitui `maxspeed` pela string `\"30\"`.\n",
    "   \n",
    "**Verificação**:\n",
    "   - Se todas as listas forem tratadas, o diagnóstico (`listas_remanescentes`) será vazio, e o número de arestas problemáticas será `0`.\n",
    "\n",
    "\n",
    "\n",
    "\n",
    "Agora podemos tratar a questão dos dados faltantes. Para garantir que todas as arestas tenham um valor de `maxspeed`, valores ausentes serão imputados com um valor padrão. Inicialmente vamos criar uma cópia do grafo editado e imputar o valor de 40 km/h."
   ]
  },
  {
   "cell_type": "code",
   "execution_count": null,
   "id": "d49bc2aa",
   "metadata": {},
   "outputs": [],
   "source": [
    "# Criar uma cópia do grafo editado\n",
    "grafo_40 = grafo_editado.copy()\n",
    "\n",
    "# Preencher maxspeed = NaN com 40 no grafo\n",
    "for u, v, data in grafo_40.edges(data=True):\n",
    "    if \"maxspeed\" not in data or data[\"maxspeed\"] is None:  # Verificar ausência ou NaN\n",
    "        data[\"maxspeed\"] = 40  # Preencher com 40\n",
    "\n",
    "# Verificar os valores únicos de maxspeed\n",
    "valores_unicos_maxspeed = set(\n",
    "    data[\"maxspeed\"] for _, _, data in grafo_40.edges(data=True) if \"maxspeed\" in data\n",
    ")\n",
    "print(\"Valores únicos de maxspeed no grafo:\")\n",
    "print(valores_unicos_maxspeed)"
   ]
  },
  {
   "cell_type": "markdown",
   "id": "ac19ab9f",
   "metadata": {},
   "source": [
    "Vamos analisar o código passo a passo:\n",
    "\n",
    "**1. Criar uma cópia do grafo**\n",
    "```python\n",
    "grafo_40 = grafo_editado.copy()\n",
    "```\n",
    "\n",
    "**`grafo_editado.copy()`**: Cria uma cópia independente do grafo `grafo_editado` e a armazena na variável `grafo_40`.\n",
    "Essa abordagem é importante para preservar o grafo original (`grafo_editado`), pois iremos utilizá-lo em seu estado inicial mais adiante.\n",
    "\n",
    "\n",
    "**2. Preencher valores ausentes de `maxspeed` com 40**\n",
    "```python\n",
    "for u, v, data in grafo_40.edges(data=True):\n",
    "    if \"maxspeed\" not in data or data[\"maxspeed\"] is None:  # Verificar ausência ou NaN\n",
    "        data[\"maxspeed\"] = 40  # Preencher com 40\n",
    "```\n",
    "\n",
    "**`grafo_40.edges(data=True)`**: Itera por todas as arestas do grafo `grafo_40`, retornando:\n",
    "    - `u`: Nó de origem da aresta.\n",
    "    - `v`: Nó de destino da aresta.\n",
    "    - `data`: Dicionário contendo os atributos da aresta, incluindo `maxspeed`.\n",
    "\n",
    "**Condição para preencher `maxspeed`**:\n",
    "  - `if \"maxspeed\" not in data`: Verifica se o atributo `maxspeed` não está presente no dicionário de atributos da aresta.\n",
    "  - `or data[\"maxspeed\"] is None`: Verifica se o valor de `maxspeed` é `None`, indicando que o atributo está vazio ou inválido.\n",
    "\n",
    "**Substituição do valor**:\n",
    "  - `data[\"maxspeed\"] = 40`: Define o valor de `maxspeed` como 40 para essas arestas.\n",
    "  - O valor 40 pode representar um padrão de velocidade em locais onde os dados estão ausentes.\n",
    "\n",
    "\n",
    "\n",
    "**3. Verificar os valores únicos de `maxspeed`**\n",
    "```python\n",
    "valores_unicos_maxspeed = set(\n",
    "    data[\"maxspeed\"] for _, _, data in grafo_40.edges(data=True) if \"maxspeed\" in data\n",
    ")\n",
    "print(\"Valores únicos de maxspeed no grafo:\")\n",
    "print(valores_unicos_maxspeed)\n",
    "```\n",
    "\n",
    "**`set()`**: Cria um conjunto (`set`) com os valores únicos de `maxspeed` presentes no grafo. Isso é útil para verificar a consistência e a diversidade dos valores.\n",
    "\n",
    "**Compreensão de lista**:\n",
    "  - Itera novamente pelas arestas do grafo.\n",
    "  - Filtra apenas arestas que possuem o atributo `maxspeed` (`if \"maxspeed\" in data`).\n",
    "  - Extrai o valor de `maxspeed` para cada aresta.\n",
    "\n",
    "\n",
    "### **Exemplo**\n",
    "Suponha que `grafo_editado` tenha as seguintes arestas e valores de `maxspeed`:\n",
    "\n",
    "| Aresta (u → v) | maxspeed         |\n",
    "|----------------|------------------|\n",
    "| (1 → 2)        | `50`            |\n",
    "| (2 → 3)        | `None`          |\n",
    "| (3 → 4)        | `30`            |\n",
    "| (4 → 5)        | Não definido     |\n",
    "\n",
    "Após o código:\n",
    "1. Arestas com `None` ou sem o atributo `maxspeed` terão o valor preenchido como `40`.\n",
    "   - `(2 → 3)`: `maxspeed` será `40`.\n",
    "   - `(4 → 5)`: `maxspeed` será `40`.\n",
    "\n",
    "2. Os valores únicos de `maxspeed` serão:\n",
    "   ```\n",
    "   {30, 40, 50}\n",
    "   ```\n",
    "\n",
    "   \n",
    "\n",
    "A próxima etapa consiste em verificar se ainda existem arestas sem registros de `maxspeed`."
   ]
  },
  {
   "cell_type": "code",
   "execution_count": null,
   "id": "04909990",
   "metadata": {},
   "outputs": [],
   "source": [
    "# Verificar se ainda existem arestas com maxspeed = None\n",
    "arestas_sem_maxspeed = sum(1 for u, v, data in grafo_40.edges(data=True) if data.get(\"maxspeed\") is None)\n",
    "\n",
    "print(f\"Arestas sem maxspeed após imputação: {arestas_sem_maxspeed}\")"
   ]
  },
  {
   "cell_type": "markdown",
   "id": "75f8d907",
   "metadata": {},
   "source": [
    "Agora que nos certificamos que todas as arestas contém valores de velocidade, vamos garantir que esses valores sejam do tipo integer (inteiro), para que seja possível utilizá-los para calcular os tempos de viagem. O código abaixo força a conversão de todos os registros, sejam eles integer, float ou string, para o tipo integer."
   ]
  },
  {
   "cell_type": "code",
   "execution_count": null,
   "id": "fbcea701",
   "metadata": {},
   "outputs": [],
   "source": [
    "# Converter maxspeed para valores consistentes (inteiro) no grafo\n",
    "for u, v, data in grafo_40.edges(data=True):\n",
    "    if isinstance(data[\"maxspeed\"], str):\n",
    "        try:\n",
    "            data[\"maxspeed\"] = int(data[\"maxspeed\"])  # Converter strings numéricas para inteiros\n",
    "        except ValueError:\n",
    "            data[\"maxspeed\"] = None  # Definir como None se não for possível converter\n",
    "    elif isinstance(data[\"maxspeed\"], float) and not math.isnan(data[\"maxspeed\"]):\n",
    "        data[\"maxspeed\"] = int(data[\"maxspeed\"])  # Converter floats para inteiros"
   ]
  },
  {
   "cell_type": "markdown",
   "id": "d5c7e6e8",
   "metadata": {},
   "source": [
    "Para facilitar as consultas e visualizações, vamos criar um dataframe das arestas do grafo."
   ]
  },
  {
   "cell_type": "code",
   "execution_count": null,
   "id": "4172c79d",
   "metadata": {},
   "outputs": [],
   "source": [
    "df_arestas_40 = pd.DataFrame.from_dict(dict(((u, v), d) for u, v, d in grafo_40.edges(data=True)), orient='index')\n",
    "print(\"\\nAtributos das Arestas:\")\n",
    "print(df_arestas_40.head())"
   ]
  },
  {
   "cell_type": "markdown",
   "id": "98bd03e4",
   "metadata": {},
   "source": [
    "Para verificar se todos os registros de `maxspeed` agora são do tipo inteiro:"
   ]
  },
  {
   "cell_type": "code",
   "execution_count": null,
   "id": "0702fbb0",
   "metadata": {},
   "outputs": [],
   "source": [
    "# Verificar os tipos de dados únicos em maxspeed\n",
    "tipos_maxspeed = df_arestas_40['maxspeed'].map(type).unique()\n",
    "print(\"Tipos únicos em maxspeed:\", tipos_maxspeed)"
   ]
  },
  {
   "cell_type": "markdown",
   "id": "a8c30b1c",
   "metadata": {},
   "source": [
    "Para verificar quais são os valores de velocidade no nosso conjunto de dados após o processamento realizado:"
   ]
  },
  {
   "cell_type": "code",
   "execution_count": null,
   "id": "e7cf0bca",
   "metadata": {},
   "outputs": [],
   "source": [
    "# Verificar valores únicos de maxspeed\n",
    "valores_unicos = df_arestas_40['maxspeed'].unique()\n",
    "print(\"Valores únicos de maxspeed:\", valores_unicos)"
   ]
  },
  {
   "cell_type": "markdown",
   "id": "aad63761",
   "metadata": {},
   "source": [
    "Para verificar visualmente como ficou a distribuição das velocidades no grafo da rede viária, vamos plotá-lo."
   ]
  },
  {
   "cell_type": "code",
   "execution_count": null,
   "id": "c7a73458",
   "metadata": {},
   "outputs": [],
   "source": [
    "# Criar um dicionário de cores para cada valor único de maxspeed\n",
    "mapa_cores = {valor: plt.cm.tab20(i % 20) for i, valor in enumerate(valores_unicos)}\n",
    "\n",
    "# Adicionar cores às arestas com base no valor de maxspeed\n",
    "cores_arestas = [\n",
    "    mapa_cores.get(data['maxspeed'], mcolors.to_rgba(\"gray\"))  # Usar cinza para valores fora do mapa\n",
    "    for u, v, data in grafo_40.edges(data=True)\n",
    "]\n",
    "\n",
    "# Plotar o grafo com as cores configuradas\n",
    "fig, ax = ox.plot_graph(\n",
    "    grafo_40,\n",
    "    edge_color=cores_arestas,\n",
    "    edge_linewidth=1.5,\n",
    "    node_size=0,\n",
    "    figsize=(12, 12),\n",
    "    show=False,\n",
    "    close=False,\n",
    ")\n",
    "\n",
    "# Criar legenda para as cores\n",
    "handles = [\n",
    "    plt.Line2D([0], [0], color=mapa_cores[valor], lw=3, label=str(valor))\n",
    "    for valor in list(mapa_cores.keys())[:10]  # Limitar a 10 valores na legenda\n",
    "]\n",
    "ax.legend(handles=handles, loc=\"upper left\", fontsize=8)\n",
    "\n",
    "plt.suptitle(\"Visualização das Arestas por Limites de Velocidade (Maxspeed)\", fontsize=16)\n",
    "plt.show()"
   ]
  },
  {
   "cell_type": "markdown",
   "id": "d7e719b6",
   "metadata": {},
   "source": [
    "Confirmando que todas as arestas possuem dados de velocidade, o próximo passo é adicionar o atributo \"tempo\" ao grafo. Esse atributo se refere ao tempo necessário para percorrer cada aresta existente no grafo, tendo como base seus valores de velocidade e comprimento."
   ]
  },
  {
   "cell_type": "code",
   "execution_count": null,
   "id": "43b9ba05",
   "metadata": {},
   "outputs": [],
   "source": [
    "# Adicionar atributo 'tempo' às arestas\n",
    "for u, v, data in grafo_40.edges(data=True):\n",
    "    maxspeed = data.get(\"maxspeed\")  # Obter maxspeed da aresta\n",
    "    if maxspeed is not None:  # Verificar se maxspeed está definido\n",
    "        velocidade_m_s = maxspeed * 1000 / 3600  # Converter para m/s\n",
    "        data[\"tempo\"] = data.get(\"length\", float('inf')) / velocidade_m_s  # Tempo = comprimento / velocidade\n",
    "    else:\n",
    "        data[\"tempo\"] = float('inf')  # Definir tempo como infinito se maxspeed não estiver disponível"
   ]
  },
  {
   "cell_type": "markdown",
   "id": "75a57cad",
   "metadata": {},
   "source": [
    "O código acima adiciona um novo atributo chamado `tempo` às arestas de um grafo viário (`grafo_40`), baseado na velocidade máxima (`maxspeed`) e no comprimento da aresta (`length`).Vamos explicá-lo detalhadamente:\n",
    "\n",
    "\n",
    "**Iterar sobre as arestas do grafo**:\n",
    "   - `grafo_40.edges(data=True)` retorna todas as arestas do grafo, representadas pelos nós `u` (origem) e `v` (destino), além de um dicionário `data` contendo os atributos associados à aresta.\n",
    "\n",
    "**Obter o valor de `maxspeed`**:\n",
    "   - `data.get(\"maxspeed\")`: Busca o valor do atributo `maxspeed` associado à aresta. Se o atributo não existir, retorna `None`.\n",
    "\n",
    "**Calcular a velocidade em metros por segundo (`m/s`)**:\n",
    "   - Se `maxspeed` estiver definido, ele é convertido de quilômetros por hora (`km/h`) para metros por segundo (`m/s`) usando a fórmula:\n",
    "     \\[\n",
    "     \\text{velocidade\\_m\\_s} = \\text{maxspeed} \\times \\frac{1000}{3600}\n",
    "     \\]\n",
    "\n",
    "**Calcular o tempo de travessia**:\n",
    "   - **Se `length` estiver definido**:\n",
    "     - O tempo de travessia da aresta é calculado como:\n",
    "       \\[\n",
    "       \\text{tempo} = \\frac{\\text{comprimento}}{\\text{velocidade}}\n",
    "       \\]\n",
    "     - `data.get(\"length\", float('inf'))`: Obtém o valor do atributo `length` (em metros). Se o atributo não existir, assume `float('inf')` (tempo infinito).\n",
    "   - **Se `maxspeed` não estiver disponível**:\n",
    "     - Define o tempo como infinito (`float('inf')`), representando uma aresta intransitável devido à ausência de dados.\n",
    "\n",
    "**Adicionar o atributo `tempo` ao dicionário**:\n",
    "   - `data[\"tempo\"] = ...`: Adiciona o atributo `tempo` com o valor calculado.\n",
    "\n",
    "\n",
    "**Exemplo**\n",
    "\n",
    "Suponha que uma aresta no grafo tenha os seguintes atributos:\n",
    "\n",
    "| Atributo   | Valor  |\n",
    "|------------|--------|\n",
    "| `length`   | 200    |\n",
    "| `maxspeed` | 50     |\n",
    "\n",
    "1. **Cálculo da velocidade**:\n",
    "   \\[\n",
    "   \\text{velocidade\\_m\\_s} = 50 \\times \\frac{1000}{3600} = 13.89 \\, \\text{m/s}\n",
    "   \\]\n",
    "\n",
    "2. **Cálculo do tempo**:\n",
    "   \\[\n",
    "   \\text{tempo} = \\frac{\\text{length}}{\\text{velocidade\\_m\\_s}} = \\frac{200}{13.89} \\approx 14.4 \\, \\text{segundos}\n",
    "   \\]\n",
    "\n",
    "O DataFrame resultante incluirá o atributo `tempo` calculado para essa aresta.\n",
    "\n",
    "\n",
    "\n",
    "\n",
    "Agora, convertemos o grafo em um dataframe para facilitar a consulta de seus atributos."
   ]
  },
  {
   "cell_type": "code",
   "execution_count": null,
   "id": "f98d7379",
   "metadata": {},
   "outputs": [],
   "source": [
    "df_arestas_40 = pd.DataFrame.from_dict(dict(((u, v), d) for u, v, d in grafo_40.edges(data=True)), orient='index')\n",
    "print(\"\\nAtributos das Arestas:\")\n",
    "print(df_arestas_40.head())"
   ]
  },
  {
   "cell_type": "markdown",
   "id": "1382249c",
   "metadata": {},
   "source": [
    "Por fim, o caminho mais rápido é calculado, utilizando o atributo `tempo` como peso."
   ]
  },
  {
   "cell_type": "code",
   "execution_count": null,
   "id": "3533b534",
   "metadata": {},
   "outputs": [],
   "source": [
    "# Calcular a rota mais rápida\n",
    "rota_mais_rapida = ox.shortest_path(grafo_40, nó_origem, nó_destino, weight=\"tempo\")\n",
    "\n",
    "# Visualizar a rota mais rápida\n",
    "ox.plot_graph_route(grafo_40, rota_mais_rapida, route_linewidth=4, node_size=0)\n",
    "\n",
    "# Calcular o tempo total da rota\n",
    "tempo_total = sum(\n",
    "    grafo_40[u][v][0][\"tempo\"] for u, v in zip(rota_mais_rapida[:-1], rota_mais_rapida[1:])\n",
    ")\n",
    "print(f\"Tempo total da rota: {tempo_total:.2f} segundos ({tempo_total / 60:.2f} minutos)\")"
   ]
  },
  {
   "cell_type": "markdown",
   "id": "234e57c7",
   "metadata": {},
   "source": [
    "Esse código calcula e visualiza a **rota mais rápida** em um grafo com base no atributo `tempo`, já calculado previamente. Além disso, soma os tempos de travessia de todas as arestas da rota para determinar o tempo total de viagem. Vamos explicá-lo em detalhes:\n",
    "\n",
    "\n",
    "**`ox.shortest_path()`**:\n",
    "  - Calcula o caminho mínimo entre dois nós (`nó_origem` e `nó_destino`) no grafo `grafo_40`.\n",
    "  - O parâmetro `weight=\"tempo\"` especifica que o critério de otimização é o tempo (`tempo`), ao invés de distância ou outro atributo.\n",
    "  - O algoritmo percorre o grafo procurando o caminho que minimiza a soma dos tempos de travessia (`tempo`) das arestas.\n",
    "\n",
    "**Entradas**:\n",
    "  - `grafo_40`: Grafo com as arestas que possuem o atributo `tempo`.\n",
    "  - `nó_origem`: Nó inicial da rota.\n",
    "  - `nó_destino`: Nó final da rota.\n",
    "\n",
    "**Saída**:\n",
    "  - `rota_mais_rapida`: Uma lista ordenada de nós que define a rota mais rápida no grafo.\n",
    "\n",
    "\n",
    "**`ox.plot_graph_route()`**:\n",
    "  - Plota o grafo e destaca a rota mais rápida (`rota_mais_rapida`).\n",
    "\n",
    "**Parâmetros**:\n",
    "  - `grafo_40`: O grafo onde a rota foi calculada.\n",
    "  - `rota_mais_rapida`: A lista de nós que define a rota.\n",
    "  - `route_linewidth=4`: Controla a espessura da linha que representa a rota no gráfico.\n",
    "  - `node_size=0`: Oculta os nós do grafo no gráfico para um visual mais limpo.\n",
    "\n",
    "\n",
    "\n",
    "**`zip(rota_mais_rapida[:-1], rota_mais_rapida[1:])`**:\n",
    "  - Gera pares consecutivos de nós ao longo da rota:\n",
    "    - Exemplo: Para `rota_mais_rapida = [1, 2, 3, 4]`, o resultado será:\n",
    "      \\[\n",
    "      [(1, 2), (2, 3), (3, 4)]\n",
    "      \\]\n",
    "\n",
    "**`grafo_40[u][v][0][\"tempo\"]`**:\n",
    "  - Acessa o atributo `tempo` da aresta entre os nós `u` e `v` no grafo `grafo_40`.\n",
    "  - O índice `[0]` é usado para selecionar a primeira aresta em caso de multigrafos (várias arestas entre os mesmos nós).\n",
    "\n",
    "**`sum(...)`**:\n",
    "  - Soma os tempos de travessia de todas as arestas na rota para calcular o tempo total.\n",
    "\n",
    "\n",
    "**`tempo_total`**:\n",
    "  - Exibe o tempo total da rota em segundos, com duas casas decimais.\n",
    "**`tempo_total / 60`**:\n",
    "  - Converte o tempo total de segundos para minutos, para facilitar a interpretação.\n",
    "\n",
    "\n",
    "\n",
    "**Exemplo**\n",
    "\n",
    "*Suponha que:*\n",
    "- Rota calculada: `rota_mais_rapida = [1, 2, 3, 4]`.\n",
    "- Arestas têm os seguintes tempos:\n",
    "  - `(1, 2)`: `tempo = 10.5` segundos.\n",
    "  - `(2, 3)`: `tempo = 15.0` segundos.\n",
    "  - `(3, 4)`: `tempo = 20.3` segundos.\n",
    "\n",
    "*Cálculos:*\n",
    "1. **Tempo total**:\n",
    "   \\[\n",
    "   \\text{tempo\\_total} = 10.5 + 15.0 + 20.3 = 45.8 \\, \\text{segundos}\n",
    "   \\]\n",
    "2. **Tempo em minutos**:\n",
    "   \\[\n",
    "   \\text{tempo\\_total} / 60 = 45.8 / 60 \\approx 0.76 \\, \\text{minutos}\n",
    "   \\]\n",
    "\n",
    "*Saída:*\n",
    "```\n",
    "Tempo total da rota: 45.80 segundos (0.76 minutos)\n",
    "```\n",
    "\n",
    "\n",
    "Ao comparar os plots das rotas obtidas com base na menor distância e no menor tempo, considerando uma velocidade padrão de 40 km/h para as arestas sem registro, observamos que ambas as rotas são idênticas. Isso significa que, neste caso, a rota mais curta também corresponde à rota mais rápida.\n",
    "\n",
    "\n",
    "\n",
    "Agora, recalcularemos a rota mais rápida, alterando a velocidade padrão para 50 km/h em todas as arestas originalmente sem registro de velocidade. Seguiremos o mesmo fluxo de tarefas utilizado no exercício anterior para garantir a consistência na análise.\n",
    "\n",
    "\n",
    "Inicialmente, criamos a cópia do grafo editado."
   ]
  },
  {
   "cell_type": "code",
   "execution_count": null,
   "id": "f13368fb",
   "metadata": {},
   "outputs": [],
   "source": [
    "# Criar uma cópia do grafo editado\n",
    "grafo_50 = grafo_editado.copy()\n",
    "\n",
    "# Preencher maxspeed = NaN com 50 no grafo\n",
    "for u, v, data in grafo_50.edges(data=True):\n",
    "    if \"maxspeed\" not in data or data[\"maxspeed\"] is None:  # Verificar ausência ou NaN\n",
    "        data[\"maxspeed\"] = 50  # Preencher com 50\n",
    "\n",
    "# Verificar os valores únicos de maxspeed\n",
    "valores_unicos_maxspeed = set(\n",
    "    data[\"maxspeed\"] for _, _, data in grafo_50.edges(data=True) if \"maxspeed\" in data\n",
    ")\n",
    "print(\"Valores únicos de maxspeed no grafo:\")\n",
    "print(valores_unicos_maxspeed)"
   ]
  },
  {
   "cell_type": "markdown",
   "id": "dfcefac9",
   "metadata": {},
   "source": [
    "A próxima etapa consiste em verificar se ainda existem arestas sem registros de `maxspeed`."
   ]
  },
  {
   "cell_type": "code",
   "execution_count": null,
   "id": "1e289e2e",
   "metadata": {},
   "outputs": [],
   "source": [
    "# Verificar se ainda existem arestas com maxspeed = None\n",
    "arestas_sem_maxspeed = sum(1 for u, v, data in grafo_50.edges(data=True) if data.get(\"maxspeed\") is None)\n",
    "\n",
    "print(f\"Arestas sem maxspeed após imputação: {arestas_sem_maxspeed}\")"
   ]
  },
  {
   "cell_type": "markdown",
   "id": "76b8c685",
   "metadata": {},
   "source": [
    "Conferir se todos os valores de `maxspeed` são do tipo integer."
   ]
  },
  {
   "cell_type": "code",
   "execution_count": null,
   "id": "020ed5f3",
   "metadata": {},
   "outputs": [],
   "source": [
    "# Converter maxspeed para valores consistentes (inteiro) no grafo\n",
    "for u, v, data in grafo_50.edges(data=True):\n",
    "    if isinstance(data[\"maxspeed\"], str):\n",
    "        try:\n",
    "            data[\"maxspeed\"] = int(data[\"maxspeed\"])  # Converter strings numéricas para inteiros\n",
    "        except ValueError:\n",
    "            data[\"maxspeed\"] = None  # Definir como None se não for possível converter\n",
    "    elif isinstance(data[\"maxspeed\"], float) and not math.isnan(data[\"maxspeed\"]):\n",
    "        data[\"maxspeed\"] = int(data[\"maxspeed\"])  # Converter floats para inteiros"
   ]
  },
  {
   "cell_type": "markdown",
   "id": "88e146bf",
   "metadata": {},
   "source": [
    "Criar um dataframe das arestas do grafo."
   ]
  },
  {
   "cell_type": "code",
   "execution_count": null,
   "id": "64c82c2c",
   "metadata": {},
   "outputs": [],
   "source": [
    "df_arestas_50 = pd.DataFrame.from_dict(dict(((u, v), d) for u, v, d in grafo_40.edges(data=True)), orient='index')\n",
    "print(\"\\nAtributos das Arestas:\")\n",
    "print(df_arestas_50.head())"
   ]
  },
  {
   "cell_type": "markdown",
   "id": "1e4bf4e4",
   "metadata": {},
   "source": [
    "Para verificar visualmente como ficou a distribuição das velocidades no grafo da rede viária, vamos plotá-lo."
   ]
  },
  {
   "cell_type": "code",
   "execution_count": null,
   "id": "3bb44705",
   "metadata": {},
   "outputs": [],
   "source": [
    "# Verificar valores únicos de maxspeed\n",
    "valores_unicos = df_arestas_50['maxspeed'].dropna().unique()\n",
    "print(\"Valores únicos de maxspeed:\", valores_unicos)\n",
    "\n",
    "# Criar um dicionário de cores para cada valor único de maxspeed\n",
    "mapa_cores = {valor: plt.cm.tab20(i % 20) for i, valor in enumerate(valores_unicos)}\n",
    "\n",
    "# Adicionar cores às arestas com base no valor de maxspeed\n",
    "cores_arestas = [\n",
    "    mapa_cores.get(data['maxspeed'], mcolors.to_rgba(\"gray\"))  # Usar cinza para valores fora do mapa\n",
    "    for u, v, data in grafo_50.edges(data=True)\n",
    "]\n",
    "\n",
    "# Plotar o grafo com as cores configuradas\n",
    "fig, ax = ox.plot_graph(\n",
    "    grafo_50,\n",
    "    edge_color=cores_arestas,\n",
    "    edge_linewidth=1.5,\n",
    "    node_size=0,\n",
    "    figsize=(12, 12),\n",
    "    show=False,\n",
    "    close=False,\n",
    ")\n",
    "\n",
    "# Criar legenda para as cores\n",
    "handles = [\n",
    "    plt.Line2D([0], [0], color=mapa_cores[valor], lw=3, label=str(valor))\n",
    "    for valor in list(mapa_cores.keys())[:10]  # Limitar a 10 valores na legenda\n",
    "]\n",
    "ax.legend(handles=handles, loc=\"upper left\", fontsize=8)\n",
    "\n",
    "plt.suptitle(\"Visualização das Arestas por Limites de Velocidade (Maxspeed)\", fontsize=16)\n",
    "plt.show()"
   ]
  },
  {
   "cell_type": "markdown",
   "id": "2c0e3aba",
   "metadata": {},
   "source": [
    "Adicionar o atributo \"tempo\" ao grafo."
   ]
  },
  {
   "cell_type": "code",
   "execution_count": null,
   "id": "f4b361dc",
   "metadata": {},
   "outputs": [],
   "source": [
    "# Adicionar atributo 'tempo' às arestas\n",
    "for u, v, data in grafo_50.edges(data=True):\n",
    "    maxspeed = data.get(\"maxspeed\")  # Obter maxspeed da aresta\n",
    "    if maxspeed is not None:  # Verificar se maxspeed está definido\n",
    "        velocidade_m_s = maxspeed * 1000 / 3600  # Converter para m/s\n",
    "        data[\"tempo\"] = data.get(\"length\", float('inf')) / velocidade_m_s  # Tempo = comprimento / velocidade\n",
    "    else:\n",
    "        data[\"tempo\"] = float('inf')  # Definir tempo como infinito se maxspeed não estiver disponível"
   ]
  },
  {
   "cell_type": "markdown",
   "id": "ad648343",
   "metadata": {},
   "source": [
    "Por fim, a rota mais rápida é calculada, utilizando o atributo `tempo` como peso."
   ]
  },
  {
   "cell_type": "code",
   "execution_count": null,
   "id": "7e7cae53",
   "metadata": {},
   "outputs": [],
   "source": [
    "# Calcular a rota mais rápida\n",
    "rota_mais_rapida = ox.shortest_path(grafo_50, nó_origem, nó_destino, weight=\"tempo\")\n",
    "\n",
    "# Visualizar a rota mais rápida\n",
    "ox.plot_graph_route(grafo_50, rota_mais_rapida, route_linewidth=4, node_size=0)\n",
    "\n",
    "# Calcular o tempo total da rota\n",
    "tempo_total = sum(\n",
    "    grafo_50[u][v][0][\"tempo\"] for u, v in zip(rota_mais_rapida[:-1], rota_mais_rapida[1:])\n",
    ")\n",
    "print(f\"Tempo total da rota: {tempo_total:.2f} segundos ({tempo_total / 60:.2f} minutos)\")"
   ]
  },
  {
   "cell_type": "markdown",
   "id": "87384206",
   "metadata": {},
   "source": [
    "Ao comparar os plots da rota obtida utilizando a velocidade padrão de 50 km/h com a rota obtida utilizando a velocidade padrão de 50 km/h, constatamos que as rotas são diferentes. Essa diferença reflete o impacto das velocidades atribuídas na definição da rota mais rápida, evidenciando como alterações nos pesos das arestas podem influenciar os resultados do roteamento.\n",
    "\n",
    "\n",
    "\n",
    "\n",
    "\n",
    "\n",
    "\n",
    "## 4.6 Cálculo de roteamento a partir de nós do grafo da rede viária\n",
    "\n",
    "\n",
    "O **`osmid`** é um identificador único atribuído aos elementos de uma rede viária extraídos do **OpenStreetMap (OSM)**, uma base de dados colaborativa de mapas. Esse identificador está presente tanto em nós (interseções ou pontos de conexão) quanto em arestas (trechos de vias) de um grafo gerado com ferramentas como o **OSMnx**.\n",
    "\n",
    "- **Nos Nós (Nodes):** O `osmid` identifica pontos específicos na rede viária, como cruzamentos, bifurcações ou pontos de extremidade de ruas.\n",
    "\n",
    "- **Nas Arestas (Edges):** Em arestas, o `osmid` pode representar a via ou conjunto de vias associadas ao trecho correspondente. Algumas vezes, as arestas possuem múltiplos identificadores `osmid` quando representam trechos de vias combinadas.\n",
    "\n",
    "\n",
    "Esses identificadores únicos podem ser utilizados diretamente para definir os pontos de origem e destino para o cálculo de rotas. Segue uma explicação e os passos do processo.\n",
    "\n",
    "Inicialmente vamos plotar o grafo e exibir os IDs dos nós diretamente no mapa para identificar quais usar como origem e destino:"
   ]
  },
  {
   "cell_type": "code",
   "execution_count": null,
   "id": "eba24226",
   "metadata": {},
   "outputs": [],
   "source": [
    "# Plotar o grafo\n",
    "fig, ax = ox.plot_graph(\n",
    "    grafo_editado,\n",
    "    node_size=30,  # Tamanho dos nós\n",
    "    node_color=\"red\",  # Cor dos nós\n",
    "    edge_linewidth=0.5,  # Espessura das arestas\n",
    "    edge_color=\"gray\",  # Cor das arestas\n",
    "    show=False,\n",
    "    close=False,\n",
    "    figsize=(12, 12),\n",
    ")\n",
    "\n",
    "# Adicionar os IDs dos nós no plot\n",
    "for no, atributos in grafo_editado.nodes(data=True):\n",
    "    x, y = atributos[\"x\"], atributos[\"y\"]  # Coordenadas do nó\n",
    "    ax.text(\n",
    "        x, y, str(no),  # ID do nó como texto\n",
    "        color=\"white\", fontsize=6, ha=\"center\", va=\"center\",  # Estilo do texto\n",
    "        bbox=dict(facecolor=\"black\", alpha=0.5, edgecolor=\"none\"),  # Fundo preto\n",
    "    )\n",
    "\n",
    "# Exibir o plot\n",
    "plt.show()"
   ]
  },
  {
   "cell_type": "markdown",
   "id": "91e7ce60",
   "metadata": {},
   "source": [
    "Com base no mapa interativo definimos que o nó de origem será o nó com osmid 2082358176 e o nó de destino, será o nó com osmid 296286010.\n",
    "Agora podemos utilizá-los para calcular rotas.\n",
    "\n",
    "Para calcular a rota mais curta com base no comprimento:"
   ]
  },
  {
   "cell_type": "code",
   "execution_count": null,
   "id": "14769800",
   "metadata": {},
   "outputs": [],
   "source": [
    "# Usar IDs dos nós conhecidos\n",
    "no_origem = 2082358176\n",
    "no_destino = 296286010\n",
    "\n",
    "# Calcular a rota mais curta\n",
    "rota = ox.shortest_path(grafo_editado, no_origem, no_destino, weight=\"length\")\n",
    "fig, ax = ox.plot_graph_route(grafo_editado, rota, route_color=\"y\", route_linewidth=6, node_size=0)"
   ]
  },
  {
   "cell_type": "markdown",
   "id": "5887d770",
   "metadata": {},
   "source": [
    "Rota Mais Rápida com Base no Tempo:"
   ]
  },
  {
   "cell_type": "code",
   "execution_count": null,
   "id": "8dd4f37f",
   "metadata": {},
   "outputs": [],
   "source": [
    "# Usar IDs dos nós conhecidos\n",
    "no_origem = 296286010 \n",
    "no_destino = 2082358176\n",
    "\n",
    "# Calcular a rota mais rápida\n",
    "rota = ox.shortest_path(grafo_50, no_origem, no_destino, weight=\"tempo\")\n",
    "fig, ax = ox.plot_graph_route(grafo_50, rota, route_color=\"y\", route_linewidth=6, node_size=0)"
   ]
  },
  {
   "cell_type": "markdown",
   "id": "a05c4959",
   "metadata": {},
   "source": [
    "### 4.7 Calculo de roteamento a partir de pontos de interesse \n",
    "\n",
    "\n",
    "Neste exemplo, definiremos os pontos de origem e destino com base em localizações de paradas de ônibus, utilizando uma rede configurada para pedestres. Essa abordagem permite analisar rotas que refletem a mobilidade urbana associada ao transporte público, considerando a infraestrutura destinada ao deslocamento a pé, como calçadas, travessias e passarelas.\n",
    "\n",
    "Inicialmente obtemos os dados referentes aos pontos de ônibus disponíveis no OSM."
   ]
  },
  {
   "cell_type": "code",
   "execution_count": null,
   "id": "7a9a2df9",
   "metadata": {},
   "outputs": [],
   "source": [
    "# Baixar os pontos de ônibus na área especificada\n",
    "pontos_onibus = ox.geometries_from_place(\"Liberdade, São Paulo, Brazil\", tags={\"highway\": \"bus_stop\"})\n",
    "\n",
    "# Visualizar os primeiros registros e seus atributos\n",
    "print(pontos_onibus.head())\n",
    "\n",
    "# Listar todas as colunas disponíveis (atributos)\n",
    "print(\"Atributos disponíveis nos pontos de ônibus:\")\n",
    "print(pontos_onibus.columns)"
   ]
  },
  {
   "cell_type": "markdown",
   "id": "a8bbe1a5",
   "metadata": {},
   "source": [
    "Em seguida, visualizamos os dados obtidos em um mapa interativo."
   ]
  },
  {
   "cell_type": "code",
   "execution_count": null,
   "id": "d35001dd",
   "metadata": {},
   "outputs": [],
   "source": [
    "# Criar um mapa centralizado\n",
    "m = folium.Map(location=[-23.565, -46.6333], zoom_start=14.5)\n",
    "\n",
    "# Adicionar os pontos de ônibus ao mapa com números\n",
    "for i, row in pontos_onibus.iterrows():\n",
    "    if row.geometry.geom_type == \"Point\":\n",
    "        folium.Marker(\n",
    "            location=[row.geometry.y, row.geometry.x],\n",
    "            popup=f\"Ponto {i}\",  # Exibir o número do ponto\n",
    "            icon=folium.Icon(color=\"blue\", icon=\"info-sign\"),\n",
    "        ).add_to(m)\n",
    "\n",
    "# Exibir o mapa\n",
    "m"
   ]
  },
  {
   "cell_type": "markdown",
   "id": "afc71c05",
   "metadata": {},
   "source": [
    "Queremos calcular a rota partindo da parada de ônibus com OSMID 5446623411 até a parada de ônibus com OSMID 8420594618. \n",
    "Primeiramente filtramos esses dois pontos."
   ]
  },
  {
   "cell_type": "code",
   "execution_count": null,
   "id": "0bd89531",
   "metadata": {},
   "outputs": [],
   "source": [
    "# Filtrar os pontos de ônibus pelos `osmid` desejados\n",
    "ponto_origem = pontos_onibus.loc[(\"node\", 5446623411), \"geometry\"]\n",
    "ponto_destino = pontos_onibus.loc[(\"node\", 8420594618), \"geometry\"]\n",
    "\n",
    "print(f\"Ponto origem: {ponto_origem}\")\n",
    "print(f\"Ponto destino: {ponto_destino}\")"
   ]
  },
  {
   "cell_type": "markdown",
   "id": "799ba0b1",
   "metadata": {},
   "source": [
    "Vamos plotar os pontos de origem e de destino em um mapa interativo."
   ]
  },
  {
   "cell_type": "code",
   "execution_count": null,
   "id": "faeeb924",
   "metadata": {},
   "outputs": [],
   "source": [
    "# Criar um mapa centralizado no ponto de origem com tile diferente\n",
    "m = folium.Map(location=[-23.565, -46.6333], zoom_start=14.7,  tiles=\"CartoDB positron\")\n",
    "\n",
    "# Adicionar marcador para o ponto de origem\n",
    "folium.Marker(\n",
    "    location=[ponto_origem.y, ponto_origem.x],\n",
    "    popup=\"Origem\",\n",
    "    icon=folium.Icon(color=\"green\"),\n",
    ").add_to(m)\n",
    "\n",
    "# Adicionar marcador para o ponto de destino\n",
    "folium.Marker(\n",
    "    location=[ponto_destino.y, ponto_destino.x],\n",
    "    popup=\"Destino\",\n",
    "    icon=folium.Icon(color=\"red\"),\n",
    ").add_to(m)\n",
    "\n",
    "# Exibir o mapa\n",
    "m"
   ]
  },
  {
   "cell_type": "markdown",
   "id": "5eeda6ff",
   "metadata": {},
   "source": [
    "Após definir os pontos de origem e de destino, vamos extrair o grafo de ruas para pedestres do bairro da Liberdade:"
   ]
  },
  {
   "cell_type": "code",
   "execution_count": null,
   "id": "6eb1f771",
   "metadata": {},
   "outputs": [],
   "source": [
    "# Obter o grafo de ruas para pedestres no bairro da Liberdade\n",
    "grafo_pedestre = ox.graph_from_place(\"Liberdade, São Paulo, Brazil\", network_type=\"walk\")\n",
    "\n",
    "# Exibir informações básicas sobre o grafo\n",
    "print(ox.basic_stats(grafo_pedestre))\n",
    "\n",
    "# Visualizar o grafo\n",
    "ox.plot_graph(grafo_pedestre)"
   ]
  },
  {
   "cell_type": "markdown",
   "id": "7942f4da",
   "metadata": {},
   "source": [
    "A próxima etapa consiste em utilizar as coordenadas dos pontos de ônibus para encontrar os nós mais próximos no grafo de pedestres."
   ]
  },
  {
   "cell_type": "code",
   "execution_count": null,
   "id": "b853fe2b",
   "metadata": {},
   "outputs": [],
   "source": [
    "# Encontrar os nós mais próximos no grafo de pedestres\n",
    "no_origem = ox.distance.nearest_nodes(grafo_pedestre, ponto_origem.x, ponto_origem.y)\n",
    "no_destino = ox.distance.nearest_nodes(grafo_pedestre, ponto_destino.x, ponto_destino.y)\n",
    "\n",
    "print(f\"Nó origem: {no_origem}\")\n",
    "print(f\"Nó destino: {no_destino}\")"
   ]
  },
  {
   "cell_type": "markdown",
   "id": "461b1daf",
   "metadata": {},
   "source": [
    "Por fim, calculamos e plotamos a rota mais curta entre os nós de origem e destino com base no comprimento das arestas."
   ]
  },
  {
   "cell_type": "code",
   "execution_count": null,
   "id": "5db8836b",
   "metadata": {},
   "outputs": [],
   "source": [
    "# Calcular a rota a pé\n",
    "rota = ox.shortest_path(grafo_pedestre, no_origem, no_destino, weight=\"length\")\n",
    "\n",
    "# Plotar a rota no grafo\n",
    "ox.plot_graph_route(\n",
    "    grafo_pedestre,\n",
    "    rota,\n",
    "    route_linewidth=4,\n",
    "    node_size=10,\n",
    "    bgcolor=\"white\",  # Cor de fundo\n",
    "    edge_color=\"gray\",  # Cor das arestas\n",
    "    route_color=\"red\",  # Cor da rota\n",
    ")"
   ]
  },
  {
   "cell_type": "markdown",
   "id": "65efc1b4",
   "metadata": {},
   "source": [
    "Agora vamos calcular o comprimento total da rota."
   ]
  },
  {
   "cell_type": "code",
   "execution_count": null,
   "id": "b2824b94",
   "metadata": {},
   "outputs": [],
   "source": [
    "# Comprimento total da rota\n",
    "comprimento_total = sum(grafo_pedestre[u][v][0]['length'] for u, v in zip(rota[:-1], rota[1:]))\n",
    "print(f\"Comprimento total da rota (em metros): {comprimento_total:.2f}\")"
   ]
  },
  {
   "cell_type": "markdown",
   "id": "f20f04fc",
   "metadata": {},
   "source": [
    "Além disso, consultamos todos os nós que compõem a rota."
   ]
  },
  {
   "cell_type": "code",
   "execution_count": null,
   "id": "1d9caefc",
   "metadata": {},
   "outputs": [],
   "source": [
    "# Exibir os nós da rota\n",
    "print(\"Nós visitados na rota:\")\n",
    "print(rota)"
   ]
  },
  {
   "cell_type": "markdown",
   "id": "1ece12f3",
   "metadata": {},
   "source": [
    "Por fim, criamos um mapa interativo para exibir a rota, os nós visitados e os pontos de ônibus:"
   ]
  },
  {
   "cell_type": "code",
   "execution_count": null,
   "id": "fc2f9a36",
   "metadata": {},
   "outputs": [],
   "source": [
    "# Criar um mapa centralizado no ponto de origem\n",
    "m = folium.Map(location=[-23.565, -46.6333], zoom_start=14.7, tiles=\"CartoDB positron\")\n",
    "\n",
    "# Adicionar os nós da rota ao mapa\n",
    "for u, v in zip(rota[:-1], rota[1:]):\n",
    "    # Obter coordenadas dos nós\n",
    "    coord_origem = grafo_pedestre.nodes[u]\n",
    "    coord_destino = grafo_pedestre.nodes[v]\n",
    "\n",
    "    # Adicionar linha entre os nós\n",
    "    folium.PolyLine(\n",
    "        locations=[[coord_origem['y'], coord_origem['x']], [coord_destino['y'], coord_destino['x']]],\n",
    "        color=\"blue\",\n",
    "        weight=5,\n",
    "    ).add_to(m)\n",
    "\n",
    "# Adicionar marcadores para o ponto de origem e destino\n",
    "folium.Marker([ponto_origem.y, ponto_origem.x], popup=\"Origem\", icon=folium.Icon(color=\"green\")).add_to(m)\n",
    "folium.Marker([ponto_destino.y, ponto_destino.x], popup=\"Destino\", icon=folium.Icon(color=\"red\")).add_to(m)\n",
    "\n",
    "# Exibir o mapa\n",
    "m"
   ]
  },
  {
   "cell_type": "markdown",
   "id": "888c0296",
   "metadata": {},
   "source": [
    "Agora vamos calcular a rota com relação ao tempo de viagem. Inicialmente, consultamos os valores únicos de `maxspeed`."
   ]
  },
  {
   "cell_type": "code",
   "execution_count": null,
   "id": "f77da50e",
   "metadata": {},
   "outputs": [],
   "source": [
    "# Obter valores únicos de maxspeed, lidando com listas\n",
    "valores_unicos_maxspeed = set()\n",
    "for _, _, data in grafo_pedestre.edges(data=True):\n",
    "    maxspeed = data.get(\"maxspeed\", None)\n",
    "    if isinstance(maxspeed, list):\n",
    "        # Se for uma lista, converta para uma tupla para torná-la hashable\n",
    "        valores_unicos_maxspeed.add(tuple(maxspeed))\n",
    "    else:\n",
    "        valores_unicos_maxspeed.add(maxspeed)\n",
    "\n",
    "# Exibir os valores únicos\n",
    "print(\"Valores únicos de maxspeed no grafo de pedestres:\")\n",
    "print(valores_unicos_maxspeed)"
   ]
  },
  {
   "cell_type": "markdown",
   "id": "cc50680d",
   "metadata": {},
   "source": [
    "Como é possível verificar, embora tenhamos baixado o grafo para pedestres do OSM, a coluna `maxspeed` continua com os valores de velocidade no contexto dos automóveis.\n",
    "Para considerar o tempo necessário para caminhar ao invés de usar apenas o comprimento das arestas, é necessário adicionar um novo atributo ao grafo, que chamaremos de `tempo_caminhada`. Esse atributo será calculado com base em uma velocidade média de caminhada e no comprimento de cada aresta. Adotaremos uma velocidade média de caminhada de 5km/h, a qual será convertida em m/s."
   ]
  },
  {
   "cell_type": "code",
   "execution_count": null,
   "id": "280f8c9f",
   "metadata": {},
   "outputs": [],
   "source": [
    "# Definir a velocidade média de caminhada (em m/s)\n",
    "velocidade_caminhada_m_s = 5 * 1000 / 3600  # 5 km/h convertido para m/s\n",
    "\n",
    "# Adicionar o atributo 'tempo_caminhada' às arestas\n",
    "for u, v, data in grafo_pedestre.edges(data=True):\n",
    "    data[\"tempo_caminhada\"] = data.get(\"length\", 0) / velocidade_caminhada_m_s"
   ]
  },
  {
   "cell_type": "markdown",
   "id": "461d8981",
   "metadata": {},
   "source": [
    "Agora, calcularemos a rota mais curta entre dois pontos usando o atributo `tempo_caminhada` como peso:"
   ]
  },
  {
   "cell_type": "code",
   "execution_count": null,
   "id": "9a53a27d",
   "metadata": {},
   "outputs": [],
   "source": [
    "# Calcular a rota mais curta baseada no tempo de caminhada\n",
    "rota_tempo_caminhada = ox.shortest_path(grafo_pedestre, no_origem, no_destino, weight=\"tempo_caminhada\")"
   ]
  },
  {
   "cell_type": "markdown",
   "id": "afbbb050",
   "metadata": {},
   "source": [
    "Para calcular o tempo total de caminhada:"
   ]
  },
  {
   "cell_type": "code",
   "execution_count": null,
   "id": "10859c70",
   "metadata": {},
   "outputs": [],
   "source": [
    "# Calcular o tempo total de caminhada\n",
    "tempo_total_caminhada = sum(\n",
    "    grafo_pedestre[u][v][0][\"tempo_caminhada\"] for u, v in zip(rota_tempo_caminhada[:-1], rota_tempo_caminhada[1:])\n",
    ")\n",
    "\n",
    "# Converter para minutos\n",
    "tempo_total_caminhada_minutos = tempo_total_caminhada / 60\n",
    "print(f\"Tempo total de caminhada: {tempo_total_caminhada_minutos:.2f} minutos\")"
   ]
  },
  {
   "cell_type": "markdown",
   "id": "4976ea37",
   "metadata": {},
   "source": [
    "Por fim, visualizamos a rota no grafo para verificar o trajeto calculado."
   ]
  },
  {
   "cell_type": "code",
   "execution_count": null,
   "id": "9e426a18",
   "metadata": {},
   "outputs": [],
   "source": [
    "ox.plot_graph_route(\n",
    "    grafo_pedestre,\n",
    "    rota_tempo_caminhada,\n",
    "    route_linewidth=4,\n",
    "    node_size=10,\n",
    "    bgcolor=\"white\",\n",
    "    edge_color=\"gray\",\n",
    "    route_color=\"blue\",\n",
    ")"
   ]
  },
  {
   "cell_type": "markdown",
   "id": "dd3a158b",
   "metadata": {},
   "source": [
    "Como estamos considerando uma velocidade de caminhada uniforme para todas as arestas, o caminho mais curto e o caminho mais rápido coincidem, resultando na mesma rota em ambos os casos."
   ]
  }
 ],
 "metadata": {
  "kernelspec": {
   "display_name": "Python 3",
   "language": "python",
   "name": "python3"
  }
 },
 "nbformat": 4,
 "nbformat_minor": 5
}
