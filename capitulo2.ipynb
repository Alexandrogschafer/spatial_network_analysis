{
  "cells": [
    {
      "cell_type": "markdown",
      "id": "8ee797db",
      "metadata": {
        "id": "8ee797db"
      },
      "source": [
        "# 2. ANÁLISE DE REDES COM OSMnx\n",
        "\n",
        "\n",
        "A biblioteca OSMnx é uma ferramenta de código aberto desenvolvida para facilitar o acesso e a análise de dados geoespaciais do OpenStreetMap (OSM). Com ela, é possível baixar e modelar redes viárias e outras infraestruturas urbanas em qualquer localidade do mundo, usando apenas algumas linhas de código. A OSMnx é construída sobre a biblioteca NetworkX, voltada para criação e manipulação de grafos, e a GeoPandas, que permite o trabalho com dados geoespaciais em Python. Essa integração com a NetworkX possibilita a criação de grafos direcionados que representam redes de ruas e, ao mesmo tempo, a manipulação de dados espaciais complexos por meio da estrutura de GeoDataFrames da GeoPandas.\n",
        "\n",
        "Em termos práticos, a OSMnx permite a criação de representações de redes urbanas, além da análise de elementos como conectividade, acessibilidade e distribuição espacial de infraestruturas. Por exemplo, é possível baixar a rede viária de uma cidade e, em seguida, calcular o caminho mais curto entre dois pontos, analisar a densidade de interseções ou mesmo visualizar a inclinação média das ruas em áreas com declives, integrando dados de elevação.\n",
        "\n",
        "As principais funcionalidades da OSMnx para modelagem e análise de redes espaciais incluem a obtenção de redes viárias e infraestruturas urbanas: com um único comando, é possível baixar redes viárias completas, limites administrativos e outros elementos geoespaciais, como edificações e pontos de interesse. Em termos de modelagem e manipulação de infraestruturas, a biblioteca permite construir grafos complexos que representam redes urbanas, como ruas, ciclovias e trilhas, com suporte para diferentes tipos de mobilidade (carro, bicicleta, caminhada). A OSMnx também realiza uma simplificação automática da topologia das redes, consolidando interseções complexas e removendo nós redundantes, o que gera uma representação precisa e funcional da infraestrutura urbana. Outro recurso importante é o cálculo de métricas de rede, como centralidade, conectividade e densidade de interseções, proporcionando uma compreensão mais aprofundada sobre a acessibilidade e o fluxo na rede. Além disso, as redes modeladas podem ser exportadas em formatos compatíveis com outros softwares SIG e de análise de redes, como GraphML, GeoPackage e XML.\n",
        "\n",
        "Essas funcionalidades tornam a OSMnx uma ferramenta abrangente para quem deseja estudar redes espaciais urbanas e realizar análises detalhadas de infraestrutura, transporte e acessibilidade. Assim, o uso da OSMnx é adequado para uma variedade de projetos e estudos que envolvem análise e modelagem de redes espaciais, incluindo planejamento urbano, acessibilidade e otimização de rotas. No planejamento urbano, a OSMnx permite obter e analisar dados sobre a conectividade de ruas, a distribuição de pontos de interesse e a acessibilidade de diferentes áreas, auxiliando profissionais a avaliar a estrutura de bairros e a infraestrutura de transporte. Em estudos de acessibilidade, a biblioteca facilita o cálculo de distâncias e tempos de viagem entre pontos, sendo útil para análises que buscam medir a acessibilidade a serviços, como escolas, hospitais e áreas comerciais. Já na otimização de rotas, a modelagem de redes e o cálculo de trajetos tornam a OSMnx uma ferramenta valiosa para estudos de otimização de trajetos, considerando fatores como distância, tempo de viagem e declividade das ruas.\n",
        "\n",
        "\n",
        "\n",
        "\n",
        "**O projeto OpenStreetMap**\n",
        "\n",
        "O OpenStreetMap (OSM) é uma plataforma colaborativa de mapeamento que oferece dados geográficos de código aberto, abrangendo uma grande quantidade de informações, como redes de ruas, limites administrativos, edifícios, pontos de interesse, entre outros. Criado em 2004, o OSM é continuamente atualizado por uma comunidade global de voluntários que contribuem com dados coletados por GPS, imagens de satélite e levantamentos de campo. Esses dados estão disponíveis para qualquer pessoa, permitindo uma ampla variedade de aplicações, desde navegação e análise de redes até planejamento urbano e desenvolvimento de aplicativos.\n",
        "\n",
        "Para facilitar o acesso a esses dados, o OpenStreetMap disponibiliza uma API (Application Programming Interface), que permite consultas e extrações de informações geográficas por meio de código. A API do OSM é projetada para que os usuários possam recuperar dados geoespaciais específicos, como redes viárias e pontos de interesse, em áreas definidas por coordenadas geográficas, limites de cidades, ou caixas delimitadoras. A biblioteca OSMnx utiliza essa API para acessar automaticamente os dados do OpenStreetMap, permitindo que o usuário baixe e analise redes e outros elementos de infraestrutura urbana de maneira simplificada.\n",
        "\n",
        "Com a OSMnx, é possível fazer consultas personalizadas ao OpenStreetMap, simplificando o processo de acesso a dados e permitindo análises espaciais detalhadas.\n",
        "A descrição completa dos tipos de dados disponíveis no *OpenStreetMap (OSM)* pode ser encontrada diretamente na [Wiki do OpenStreetMap](https://wiki.openstreetmap.org/), que é a principal fonte de documentação para todas as tags e categorias de dados mapeados no OSM.\n",
        "\n",
        "\n",
        "\n",
        "\n",
        "\n",
        "## **2.1 Preparação do ambiente de trabalho**\n",
        "\n",
        "Para utilizar a biblioteca OSMnx, é necessário preparar o ambiente com algumas dependências básicas, configurando o Google Colab para suportar todas as funcionalidades da biblioteca.\n",
        "\n",
        "\n",
        "**Requisitos**\n",
        "\n",
        "A OSMnx depende de outras bibliotecas de Python para realizar a modelagem e análise de redes espaciais. As principais dependências incluem:\n",
        "\n",
        "- **NetworkX**: Biblioteca para manipulação e análise de grafos, necessária para construir redes viárias e infraestruturas.\n",
        "- **GeoPandas**: Permite a manipulação de dados geoespaciais, transformando as redes obtidas em estruturas que podem ser visualizadas e analisadas geograficamente.\n",
        "- **Matplotlib**: Utilizada para visualização de dados e redes.\n",
        "- **Shapely**: Fornece operações geométricas básicas, como interseção e união de polígonos.\n",
        "\n",
        "Utilizaremos ainda a biblioteca `mapclassify`, que fornece métodos para classificação de dados espaciais, facilitando a criação de intervalos ou classes para mapear dados geográficos com diferentes esquemas de categorização.\n",
        "\n",
        "**Instalação da OSMnx no Google Colab**\n",
        "Para instalar a OSMnx e a mapclassify no Google Colab, execute o seguinte comando para instalar a biblioteca e suas dependências:"
      ]
    },
    {
      "cell_type": "code",
      "execution_count": null,
      "id": "bc72acb5",
      "metadata": {
        "id": "bc72acb5"
      },
      "outputs": [],
      "source": [
        "!pip install osmnx\n",
        "!pip install mapclassify"
      ]
    },
    {
      "cell_type": "code",
      "execution_count": null,
      "id": "fdd34195",
      "metadata": {
        "id": "fdd34195"
      },
      "outputs": [],
      "source": [
        "import osmnx as ox\n",
        "import networkx as nx\n",
        "import matplotlib.pyplot as plt\n",
        "import geopandas as gpd\n",
        "import folium\n",
        "import mapclassify\n",
        "import warnings\n",
        "from matplotlib.lines import Line2D"
      ]
    },
    {
      "cell_type": "code",
      "execution_count": null,
      "id": "c3735f5b",
      "metadata": {
        "id": "c3735f5b"
      },
      "outputs": [],
      "source": [
        "warnings.filterwarnings(\"ignore\")\n",
        "print(\"OSMnx version:\", ox.__version__)"
      ]
    },
    {
      "cell_type": "markdown",
      "id": "66288715",
      "metadata": {
        "id": "66288715"
      },
      "source": [
        "## **2.2 Acessando Dados do OpenStreetMap**\n",
        "\n",
        "\n",
        "A OSMnx permite que os usuários localizem áreas específicas por meio de geocodificação e consultas diretas ao OpenStreetMap. A geocodificação é o processo de transformar nomes de lugares ou endereços em coordenadas geográficas (latitude e longitude). Com a OSMnx, é possível utilizar essas coordenadas para definir uma área de interesse e baixar dados do OpenStreetMap.\n",
        "\n",
        "\n",
        "Inicialmente, vamos tentar obter o polígono de São Paulo:"
      ]
    },
    {
      "cell_type": "code",
      "execution_count": null,
      "id": "3e7cf439",
      "metadata": {
        "id": "3e7cf439"
      },
      "outputs": [],
      "source": [
        "# Nome do local para consulta\n",
        "nome_local = \"São Paulo, Brasil\"\n",
        "\n",
        "# Consulta e obtenção do polígono do local\n",
        "area = ox.geocode_to_gdf(nome_local)\n",
        "\n",
        "# Plotagem da área consultada\n",
        "area.plot()"
      ]
    },
    {
      "cell_type": "markdown",
      "id": "28527851",
      "metadata": {
        "id": "28527851"
      },
      "source": [
        "Neste caso, ao usarmos \"São Paulo, Brasil\", o OSMnx interpretou essa consulta como o município de São Paulo. Assim, ele retornou o polígono correspondente apenas à cidade de São Paulo, em vez de incluir o estado inteiro. Se quisermos obter o polígono referente ao estado, precisamos ser mais específicos na consulta.\n",
        "Vamos alterar o valor para \"Estado de São Paulo, Brasil\", pois isso indica ao OSMnx que queremos o contorno do estado:"
      ]
    },
    {
      "cell_type": "code",
      "execution_count": null,
      "id": "ab44284a",
      "metadata": {
        "id": "ab44284a"
      },
      "outputs": [],
      "source": [
        "# Nome do local para consulta, especificando o estado\n",
        "nome_local = \"Estado de São Paulo, Brasil\"\n",
        "\n",
        "# Consulta e obtenção do polígono do estado\n",
        "area = ox.geocode_to_gdf(nome_local)\n",
        "\n",
        "# Plotagem da área consultada\n",
        "fig, ax = plt.subplots(figsize=(10, 10))\n",
        "area.plot(ax=ax, color=\"lightblue\", edgecolor=\"blue\")\n",
        "ax.set_title(\"Estado de São Paulo\")\n",
        "plt.show()"
      ]
    },
    {
      "cell_type": "markdown",
      "id": "2b88e2ab",
      "metadata": {
        "id": "2b88e2ab"
      },
      "source": [
        "Com essa mudança, o OSMnx retorna o polígono correspondente ao estado inteiro, não apenas à cidade. Lembre-se, portanto, de que a especificidade é importante: ao referir-se a uma cidade ou um estado, o nome usado na consulta influencia diretamente o resultado obtido.\n",
        "\n",
        "Agora vamos detalhar como obter o polígono de um bairro específico. Neste capítulo, nossa área de estudo será o bairro da Liberdade, em São Paulo. Para isso, podemos fazer uma consulta específica utilizando o nome do bairro e da cidade."
      ]
    },
    {
      "cell_type": "code",
      "execution_count": null,
      "id": "0b6d4cd7",
      "metadata": {
        "id": "0b6d4cd7"
      },
      "outputs": [],
      "source": [
        "# Nome do local para consulta\n",
        "bairro = \"Liberdade, São Paulo, Brasil\"\n",
        "\n",
        "# Consulta e obtenção do polígono do local\n",
        "area = ox.geocode_to_gdf(bairro)\n",
        "\n",
        "# Plotagem da área consultada\n",
        "area.plot()"
      ]
    },
    {
      "cell_type": "markdown",
      "id": "2ec6a81c",
      "metadata": {
        "id": "2ec6a81c"
      },
      "source": [
        "O código acima busca e plota o polígono do bairro da Liberdade. No entanto, esse plot é estático e não permite interação, sendo útil apenas para uma visualização inicial.\n",
        "\n",
        "Para uma visualização mais prática e interativa, vamos centralizar o mapa no bairro da Liberdade e adicionar seu contorno em um mapa da Folium.\n",
        "\n",
        "Primeiro, calculamos o centro do polígono que representa o bairro, usando-o como ponto de referência para centralizar o mapa. Em seguida, criamos um mapa interativo com o Folium, ajustando o zoom para visualizar adequadamente o bairro. Finalmente, adicionamos o polígono ao mapa, desenhando o contorno do bairro sobre a visualização interativa."
      ]
    },
    {
      "cell_type": "code",
      "execution_count": null,
      "id": "d92222d1",
      "metadata": {
        "id": "d92222d1"
      },
      "outputs": [],
      "source": [
        "# Consulta e obtenção do polígono do local\n",
        "area = ox.geocode_to_gdf(bairro)\n",
        "\n",
        "# Obter o centro do polígono para centralizar o mapa\n",
        "centro = [area.geometry.centroid.y.values[0], area.geometry.centroid.x.values[0]]\n",
        "\n",
        "# Criar o mapa usando o centro do bairro\n",
        "mapa = folium.Map(location=centro, zoom_start=15)\n",
        "\n",
        "# Adicionar o polígono da área ao mapa\n",
        "geo_json = area.to_json()\n",
        "folium.GeoJson(geo_json, name=\"Liberdade\").add_to(mapa)\n",
        "\n",
        "# Exibir o mapa\n",
        "mapa"
      ]
    },
    {
      "cell_type": "markdown",
      "id": "1f9b979b",
      "metadata": {
        "id": "1f9b979b"
      },
      "source": [
        "No código acima:\n",
        "\n",
        "- **`area.geometry.centroid`**: Calcula o ponto central do polígono para definir a localização inicial do mapa.\n",
        "- **`folium.Map()`**: Cria um mapa interativo centralizado no ponto calculado e com zoom ajustado.\n",
        "- **`folium.GeoJson()`**: Transforma o polígono obtido de OSMnx para um formato GeoJSON, adicionando-o ao mapa com o contorno definido.\n",
        "\n",
        "\n",
        "\n",
        "Agora vamos explorar como extrair e visualizar dados de edificações e infraestrutura urbana no OpenStreetMap (OSM) usando o OSMnx. Vamos nos concentrar em contornos de edifícios e parques no bairro da Liberdade.\n",
        "\n",
        "\n",
        "\n",
        "**Extraindo e Visualizando Contornos de Edifícios**\n",
        "\n",
        "O OpenStreetMap armazena dados detalhados sobre edifícios de muitos locais em todo o mundo, que incluem os contornos (ou footprints) dos prédios. Podemos acessar essas informações utilizando o OSMnx e a tag `building`.\n",
        "\n",
        "As **tags do OpenStreetMap (OSM)** são informações associadas aos elementos mapeados que descrevem suas características. Cada elemento geoespacial no OSM – seja um nó, caminho ou relação – é classificado e detalhado usando tags que consistem em pares de chave e valor. Essas tags fornecem contexto e detalham os objetos mapeados, como estradas, edifícios, rios e outros tipos de infraestrutura e pontos de interesse.\n",
        "\n",
        "Cada tag é um par `chave=valor`. A chave representa o tipo de característica, e o valor fornece a especificação dessa característica. Por exemplo:\n",
        "- `highway=residential` indica uma estrada de tráfego local.\n",
        "- `building=yes` descreve um objeto como um edifício.\n",
        "- `amenity=school` identifica uma escola.\n",
        "\n",
        "As tags do OSM abrangem diversas categorias, algumas das quais são:\n",
        "\n",
        "- **Estradas e Trânsito (highway)**: Inclui tipos de vias como `highway=motorway` para rodovias e `highway=footway` para calçadas.\n",
        "- **Edifícios (building)**: Tag comum usada para classificar tipos de construções. Exemplo: `building=residential`.\n",
        "- **Áreas Verdes e Natureza (landuse, natural)**: Inclui `landuse=forest` para áreas florestais e `natural=water` para corpos d’água.\n",
        "- **Serviços e Equipamentos (amenity)**: Para descrever locais de serviço, como `amenity=parking` para estacionamento.\n",
        "- **Infraestrutura Comercial (shop)**: Classificação de estabelecimentos comerciais, como `shop=supermarket` para supermercados.\n",
        "- **Recreação e Turismo (leisure, tourism)**: `leisure=park` para parques e `tourism=hotel` para hotéis.\n",
        "\n",
        "Ao utilizar uma biblioteca como o **OSMnx** para acessar dados do OSM, as tags são essenciais para filtrar e escolher os tipos de elementos que queremos obter. Por exemplo, ao buscar uma rede de estradas, você pode usar a tag `highway` com valores específicos para incluir apenas tipos desejados de vias.\n",
        "\n",
        "A descrição completa dos tipos de dados disponíveis no **OpenStreetMap (OSM)** pode ser encontrada diretamente na [Wiki do OpenStreetMap](https://wiki.openstreetmap.org/), que é a principal fonte de documentação para todas as tags e categorias de dados mapeados no OSM. Abaixo estão os links diretos para algumas páginas importantes que descrevem os tipos de dados e tags comumente usadas:\n",
        "\n",
        "- [Página principal das tags](https://wiki.openstreetmap.org/wiki/Tags) – Visão geral das tags do OSM.\n",
        "- [Highway](https://wiki.openstreetmap.org/wiki/Key:highway) – Descrição das classificações de vias e estradas.\n",
        "- [Building](https://wiki.openstreetmap.org/wiki/Key:building) – Informações sobre tipos de edifícios.\n",
        "- [Amenity](https://wiki.openstreetmap.org/wiki/Key:amenity) – Listagem de serviços e equipamentos públicos.\n",
        "- [Landuse](https://wiki.openstreetmap.org/wiki/Key:landuse) – Categorias de uso da terra e áreas naturais.\n",
        "\n",
        "\n",
        "Voltando ao exemplo de aplicação, inicialmente vamos definir as configurações e buscar os contornos dos edifícios no bairro."
      ]
    },
    {
      "cell_type": "code",
      "execution_count": null,
      "id": "5b20e972",
      "metadata": {
        "id": "5b20e972"
      },
      "outputs": [],
      "source": [
        "# Definindo a tag para buscar contornos de edifícios\n",
        "tags = {\"building\": True}"
      ]
    },
    {
      "cell_type": "code",
      "execution_count": null,
      "id": "70da6782",
      "metadata": {
        "id": "70da6782"
      },
      "outputs": [],
      "source": [
        "# Extraindo contornos de edifícios no bairro da Liberdade\n",
        "gdf_edificios = ox.features_from_place(bairro, tags)\n",
        "print(gdf_edificios.shape)  # Exibe o número de edifícios encontrados"
      ]
    },
    {
      "cell_type": "markdown",
      "id": "d28da66d",
      "metadata": {
        "id": "d28da66d"
      },
      "source": [
        "Os valores retornados pelo print são:\n",
        "\n",
        "10007: O primeiro valor representa o número de linhas (ou seja, edifícios) encontrados e extraídos para o bairro da Liberdade. Isso significa que foram identificados 10.007 edifícios na área delimitada.\n",
        "81: O segundo valor indica o número de colunas ou atributos disponíveis para cada edifício no GeoDataFrame. Esses atributos podem incluir informações como altura, tipo de construção, área, endereço, e talvez até dados geométricos como a forma dos contornos dos edifícios.\n",
        "Em resumo, o comando encontrou 10.007 edifícios na área da Liberdade, e cada edifício tem 81 atributos disponíveis no GeoDataFrame gdf_edificios."
      ]
    },
    {
      "cell_type": "code",
      "execution_count": null,
      "id": "3e7d40db",
      "metadata": {
        "id": "3e7d40db"
      },
      "outputs": [],
      "source": [
        "# Plotando os contornos dos edifícios\n",
        "fig, ax = ox.plot_footprints(gdf_edificios, figsize=(20, 15))"
      ]
    },
    {
      "cell_type": "markdown",
      "id": "a5b6f406",
      "metadata": {
        "id": "a5b6f406"
      },
      "source": [
        "Nesse código:\n",
        "- **`features_from_place()`**: extrai todos os contornos de edifícios para o bairro especificado.\n",
        "- **`plot_footprints()`**: plota esses contornos em uma visualização estática para uma visão geral rápida dos edifícios.\n",
        "\n",
        "\n",
        "**Visualizando os Contornos dos Edifícios em um Mapa Interativo**\n",
        "\n",
        "Para uma visualização mais detalhada, podemos adicionar esses contornos a um mapa interativo usando o Folium. Isso nos permitirá inspecionar a área e os edifícios com mais flexibilidade."
      ]
    },
    {
      "cell_type": "code",
      "execution_count": null,
      "id": "0d5112d9",
      "metadata": {
        "id": "0d5112d9"
      },
      "outputs": [],
      "source": [
        "# Criando o mapa centrado no bairro da Liberdade\n",
        "mapa = folium.Map(location=centro, zoom_start=15)\n",
        "\n",
        "# Adicionando o polígono da área ao mapa\n",
        "geo_json = area.to_json()\n",
        "folium.GeoJson(geo_json, name=\"Bairro da Liberdade\").add_to(mapa)\n",
        "\n",
        "# Adicionando os contornos dos edifícios ao mapa\n",
        "for _, row in gdf_edificios.iterrows():\n",
        "    # Verifica se a geometria é um polígono antes de adicionar ao mapa\n",
        "    if row.geometry.geom_type == 'Polygon':\n",
        "        folium.GeoJson(row.geometry.__geo_interface__, style_function=lambda x: {\n",
        "            'fillColor': 'grey', 'color': 'black', 'weight': 0.5, 'fillOpacity': 0.7\n",
        "        }).add_to(mapa)\n",
        "\n",
        "# Exibindo o mapa interativo com edifícios\n",
        "mapa"
      ]
    },
    {
      "cell_type": "markdown",
      "id": "4cb98c32",
      "metadata": {
        "id": "4cb98c32"
      },
      "source": [
        "Aqui, estamos iterando sobre cada edifício e adicionando seu contorno ao mapa. Cada contorno de edifício é preenchido com uma cor cinza para diferenciar as áreas construídas no bairro.\n",
        "\n",
        "\n",
        "\n",
        "**Extraindo e visualizando Parques**\n",
        "\n",
        "Além de edificações, o OSM também possui dados sobre parques e áreas de lazer. Podemos extrair essas informações utilizando a tag `leisure` com o valor `\"park\"`."
      ]
    },
    {
      "cell_type": "code",
      "execution_count": null,
      "id": "7d310407",
      "metadata": {
        "id": "7d310407"
      },
      "outputs": [],
      "source": [
        "# Definindo a tag para buscar parques\n",
        "tags = {\"leisure\": \"park\"}\n",
        "\n",
        "# Extraindo parques no bairro da Liberdade\n",
        "gdf_parques = ox.features_from_place(bairro, tags)\n",
        "print(gdf_parques.shape)  # Exibe o número de parques encontrados"
      ]
    },
    {
      "cell_type": "markdown",
      "id": "5dd87361",
      "metadata": {
        "id": "5dd87361"
      },
      "source": [
        "Existem 32 parques na área da Liberdade. Cada parque tem 39 atributos disponíveis no GeoDataFrame gdf_parques."
      ]
    },
    {
      "cell_type": "code",
      "execution_count": null,
      "id": "1573c2c4",
      "metadata": {
        "id": "1573c2c4"
      },
      "outputs": [],
      "source": [
        "# Plotando os contornos dos parques\n",
        "fig, ax = ox.plot_footprints(gdf_parques, figsize=(20, 15))"
      ]
    },
    {
      "cell_type": "markdown",
      "id": "e275a4f0",
      "metadata": {
        "id": "e275a4f0"
      },
      "source": [
        "Para uma visualização rápida, o código acima mostra todos os parques em uma visualização estática, similar à visualização dos edifícios. Assim como fizemos anteriormente, podemos adicionar os contornos dos parques em um mapa interativo:"
      ]
    },
    {
      "cell_type": "code",
      "execution_count": null,
      "id": "efff1581",
      "metadata": {
        "id": "efff1581"
      },
      "outputs": [],
      "source": [
        "# Adicionando os contornos dos parques ao mapa interativo\n",
        "for _, row in gdf_parques.iterrows():\n",
        "    if row.geometry.geom_type == 'Polygon':\n",
        "        folium.GeoJson(row.geometry.__geo_interface__, style_function=lambda x: {\n",
        "            'fillColor': 'green', 'color': 'darkgreen', 'weight': 0.5, 'fillOpacity': 0.6\n",
        "        }).add_to(mapa)\n",
        "\n",
        "# Exibindo o mapa com edifícios e parques sobrepostos\n",
        "mapa"
      ]
    },
    {
      "cell_type": "markdown",
      "id": "081d33b1",
      "metadata": {
        "id": "081d33b1"
      },
      "source": [
        "Nesse caso, os parques são representados com preenchimento verde para indicar áreas verdes e diferenciá-los visualmente das edificações.\n",
        "\n",
        "\n",
        "**Extraindo e visualizando pontos de ônibus**\n",
        "\n",
        "Para visualizar a infraestrutura de transporte, como pontos de ônibus, podemos utilizar a chave `highway` com o valor `bus_stop`."
      ]
    },
    {
      "cell_type": "code",
      "execution_count": null,
      "id": "854748c6",
      "metadata": {
        "id": "854748c6"
      },
      "outputs": [],
      "source": [
        "# Definir a tag para baixar pontos de ônibus\n",
        "tags = {\"highway\": \"bus_stop\"}\n",
        "\n",
        "# Obter todos os pontos de ônibus na área especificada\n",
        "gdf_onibus = ox.features_from_place(bairro, tags)\n",
        "\n",
        "# Exibir o número de pontos de ônibus baixados\n",
        "print(gdf_onibus.shape)"
      ]
    },
    {
      "cell_type": "markdown",
      "id": "7551938e",
      "metadata": {
        "id": "7551938e"
      },
      "source": [
        "Existem 93 pontos de ônibus, com 39 atributos disponíveis no GeoDataFrame gdf_onibus."
      ]
    },
    {
      "cell_type": "code",
      "execution_count": null,
      "id": "983d45c1",
      "metadata": {
        "id": "983d45c1"
      },
      "outputs": [],
      "source": [
        "# Plotar os pontos de ônibus\n",
        "gdf_onibus.plot()"
      ]
    },
    {
      "cell_type": "markdown",
      "id": "3b1a792d",
      "metadata": {
        "id": "3b1a792d"
      },
      "source": [
        "**Extraindo e visualizando cursos d'água**\n",
        "\n",
        "Para cursos d'água, que podem ser relevantes em análises ambientais ou de planejamento urbano, utilizamos a chave `waterway`."
      ]
    },
    {
      "cell_type": "code",
      "execution_count": null,
      "id": "3053d748",
      "metadata": {
        "id": "3053d748"
      },
      "outputs": [],
      "source": [
        "# Definir a tag para baixar cursos d'água\n",
        "tags = {\"waterway\": True}\n",
        "\n",
        "# Obter todos os cursos d'água na área especificada\n",
        "gdf_rios = ox.features_from_place(bairro, tags)\n",
        "\n",
        "# Exibir o número de cursos d'água baixados\n",
        "print(gdf_rios.shape)"
      ]
    },
    {
      "cell_type": "markdown",
      "id": "b66244ea",
      "metadata": {
        "id": "b66244ea"
      },
      "source": [
        "Existem 11 cursos d'água ou trechos de cursos d'água, com 9 atributos disponíveis no GeoDataFrame gdf_rios."
      ]
    },
    {
      "cell_type": "code",
      "execution_count": null,
      "id": "91d1474f",
      "metadata": {
        "id": "91d1474f"
      },
      "outputs": [],
      "source": [
        "# Plotar os cursos d'água\n",
        "gdf_rios.plot()"
      ]
    },
    {
      "cell_type": "markdown",
      "id": "c87be957",
      "metadata": {
        "id": "c87be957"
      },
      "source": [
        "**Extraindo e visualizando pontos de interesse (amenities)**\n",
        "\n",
        "Para facilitar a análise de pontos de interesse em uma área urbana, o OpenStreetMap (OSM) categoriza locais específicos sob a chave \"amenity\". Esta chave abrange uma variedade de estabelecimentos e serviços. Entre eles, encontramos hospitais, escolas, restaurantes e muitos outros que podem ser considerados pontos de interesse ou \"amenidades\". Com o OSMnx, podemos extrair esses dados e visualizá-los.\n",
        "\n",
        "Primeiro, vamos fazer uma consulta para obter todos os pontos de interesse no bairro da Liberdade. Utilizando `amenity: True`, extraímos todos os pontos disponíveis, sem especificar tipos."
      ]
    },
    {
      "cell_type": "code",
      "execution_count": null,
      "id": "8dadb8ad",
      "metadata": {
        "id": "8dadb8ad"
      },
      "outputs": [],
      "source": [
        "# Definir a tag para baixar todas as amenities\n",
        "tags = {\"amenity\": True}\n",
        "\n",
        "# Obter todas as amenities na área especificada\n",
        "gdf_amenities = ox.features_from_place(bairro, tags)\n",
        "\n",
        "# Exibir o número de amenities baixadas\n",
        "print(gdf_amenities.shape)  # Mostra quantas amenidades foram baixadas"
      ]
    },
    {
      "cell_type": "markdown",
      "id": "3db706b5",
      "metadata": {
        "id": "3db706b5"
      },
      "source": [
        "Existem 460 pontos de interesse no bairro da Liberdade, com 157 atributos disponíveis no GeoDataFrame gdf_amenities."
      ]
    },
    {
      "cell_type": "code",
      "execution_count": null,
      "id": "d4519b4e",
      "metadata": {
        "id": "d4519b4e"
      },
      "outputs": [],
      "source": [
        "# Plotar as amenities em uma visualização estática\n",
        "gdf_amenities.plot()"
      ]
    },
    {
      "cell_type": "markdown",
      "id": "13dd0493",
      "metadata": {
        "id": "13dd0493"
      },
      "source": [
        "No código acima:\n",
        "\n",
        "- **`features_from_place()`**: extrai todas as amenidades no bairro especificado.\n",
        "- **`.shape`**: exibe o número total de linhas e colunas do GeoDataFrame, indicando quantas amenidades foram encontradas.\n",
        "- **`.plot()`**: cria uma visualização rápida para verificar a distribuição das amenidades.\n",
        "\n",
        "\n",
        "Se quisermos focar em uma amenidade específica, como hospitais, podemos alterar o valor da chave `amenity` para \"hospital\". Isso ajuda a filtrar apenas os pontos de interesse relevantes."
      ]
    },
    {
      "cell_type": "code",
      "execution_count": null,
      "id": "7d37e313",
      "metadata": {
        "id": "7d37e313"
      },
      "outputs": [],
      "source": [
        "# Definir a tag para baixar apenas hospitais\n",
        "tags = {\"amenity\": \"hospital\"}\n",
        "\n",
        "# Obter todos os hospitais na área especificada\n",
        "gdf_hospitais = ox.features_from_place(bairro, tags)\n",
        "\n",
        "# Exibir o número de hospitais baixados\n",
        "print(gdf_hospitais.shape)"
      ]
    },
    {
      "cell_type": "markdown",
      "id": "5494c644",
      "metadata": {
        "id": "5494c644"
      },
      "source": [
        "Existem 8 hospitais ou postos de saúde no bairro da Liberdade, com 33 atributos disponíveis no GeoDataFrame gdf_hospitais."
      ]
    },
    {
      "cell_type": "code",
      "execution_count": null,
      "id": "9214e987",
      "metadata": {
        "id": "9214e987"
      },
      "outputs": [],
      "source": [
        "# Plotar os hospitais\n",
        "gdf_hospitais.plot()"
      ]
    },
    {
      "cell_type": "markdown",
      "id": "6617f704",
      "metadata": {
        "id": "6617f704"
      },
      "source": [
        "**Trabalhando com diferentes Tags simultaneamente**\n",
        "\n",
        "É possível visualizar simultaneamente diferentes elementos que fazem parte do conjunto de dados do OSM. Vamos plotar conjuntamente os conjuntos de dados que baixamos e transformamos em`GeoDataFrame` na etapa anterior, configurando a cor, o tamanho e o rótulo para a legenda."
      ]
    },
    {
      "cell_type": "code",
      "execution_count": null,
      "id": "d27c49b0",
      "metadata": {
        "id": "d27c49b0"
      },
      "outputs": [],
      "source": [
        "# Criar a figura e o eixo para o plot\n",
        "fig, ax = plt.subplots(figsize=(10, 10))\n",
        "\n",
        "# Plotar os contornos das edificações\n",
        "gdf_edificios.plot(ax=ax, color=\"grey\", edgecolor=\"black\", alpha=0.5, linewidth=0.5, label=\"Edificações\")\n",
        "\n",
        "# Plotar os hospitais\n",
        "gdf_hospitais.plot(ax=ax, color=\"red\", markersize=20, label=\"Hospitais\", alpha=0.7)\n",
        "\n",
        "# Plotar as paradas de ônibus\n",
        "gdf_onibus.plot(ax=ax, color=\"blue\", markersize=10, label=\"Paradas de Ônibus\", alpha=0.7)\n",
        "\n",
        "# Plotar os parques\n",
        "gdf_parques.plot(ax=ax, color=\"green\", edgecolor=\"darkgreen\", alpha=0.6, linewidth=0.5, label=\"Parques\")\n",
        "\n",
        "# Adicionar título e legenda\n",
        "ax.set_title(\"Edificações, Hospitais, Paradas de Ônibus e Parques - Liberdade\", fontsize=15)\n",
        "ax.legend()\n",
        "\n",
        "# Remover eixos para uma visualização mais limpa\n",
        "ax.set_axis_off()\n",
        "\n",
        "# Exibir o plot\n",
        "plt.show()"
      ]
    },
    {
      "cell_type": "markdown",
      "id": "19c6a7af",
      "metadata": {
        "id": "19c6a7af"
      },
      "source": [
        "## 2.3 Trabalhando com a rede viária\n",
        "\n",
        "A análise da infraestrutura de transporte em áreas urbanas depende, essencialmente, do entendimento da rede viária. A seguir, exploraremos como as redes viárias são representadas e como utilizar o OSMnx para manipular e analisar esses dados de maneira eficaz.\n",
        "\n",
        "\n",
        "O OSMnx retorna um **MultiDiGraph** do NetworkX, uma variação do **DiGraph** (grafo direcionado) que permite múltiplas arestas entre o mesmo par de nós. Essa estrutura é adequada para redes viárias, pois permite representar vias com diferentes direções de tráfego, como mão única e mão dupla, com cada direção modelada por uma aresta separada.\n",
        "\n",
        "Em áreas complexas, como rodovias e cruzamentos, onde múltiplos caminhos podem conectar dois pontos, o MultiDiGraph possibilita que cada segmento seja representado individualmente, com atributos específicos como comprimento, limite de velocidade e tipo de via.\n",
        "\n",
        "O MultiDiGraph no OSMnx possibilita representar corretamente vias com sentidos opostos, rotatórias, rampas e outras estruturas viárias complexas. Cada segmento de via, mesmo que conectado aos mesmos nós, pode conter atributos detalhados (por exemplo, `length`, `maxspeed`, `highway`), garantindo maior precisão e flexibilidade para a análise de redes de transporte urbano.\n",
        "\n",
        "\n",
        "Em uma rede viária:\n",
        "- **Nós (Nodes)**: São pontos onde as ruas se encontram, como interseções ou curvas. Eles representam locais de mudança de direção ou de conexão entre vias.\n",
        "- **Arestas (Edges)**: São os segmentos de ruas que conectam dois nós consecutivos. Cada aresta representa um trecho de rua entre dois pontos.\n",
        "\n",
        "\n",
        "\n",
        "### 2.3.1 Obtenção de dados da Rede viária do OSM\n",
        "\n",
        "Para baixar a rede viária do bairro da Liberdade, utilizamos o parâmetro `network_type=\"all\"`."
      ]
    },
    {
      "cell_type": "code",
      "execution_count": null,
      "id": "79f5c4ab",
      "metadata": {
        "id": "79f5c4ab"
      },
      "outputs": [],
      "source": [
        "# Baixar a rede viária do bairro da Liberdade\n",
        "grafo_rede_viaria = ox.graph_from_place(bairro, network_type=\"all\")\n",
        "\n",
        "# Visualizar a rede viária\n",
        "fig, ax = ox.plot_graph(grafo_rede_viaria, bgcolor=\"w\", node_size=0, edge_color=\"black\", edge_linewidth=0.5)"
      ]
    },
    {
      "cell_type": "markdown",
      "id": "4e0387dc",
      "metadata": {
        "id": "4e0387dc"
      },
      "source": [
        "No código acima:\n",
        "\n",
        "- **`graph_from_place()`**: Realiza a consulta e baixa a rede viária para o bairro especificado, utilizando o tipo de rede \"all\" para incluir todas as ruas.\n",
        "- **`plot_graph()`**: Plota o grafo da rede viária com as seguintes configurações:\n",
        "  - `bgcolor=\"w\"`: Define o fundo branco.\n",
        "  - `node_size=0`: Define o tamanho dos nós como zero para ocultá-los no gráfico.\n",
        "  - `edge_color=\"black\"` e `edge_linewidth=0.5`: Define a cor das ruas como preta e a espessura das linhas como 0.5.\n",
        "\n",
        "\n",
        "\n",
        "**Tipos de Rede no OSMnx**\n",
        "\n",
        "O OSMnx oferece algumas opções para o parâmetro `network_type`:\n",
        "\n",
        "\n",
        "1. **`\"all\"`**: Inclui todos os tipos de vias, como ruas, estradas, ciclovias, calçadas, trilhas e caminhos.\n",
        "\n",
        "2. **`\"all_private\"`**: Similar ao tipo `\"all\"`, mas inclui vias de uso privado, como estradas internas de condomínios e áreas restritas.\n",
        "\n",
        "3. **`\"drive\"`**: Inclui somente as vias onde veículos automotores são permitidos, excluindo ciclovias e calçadas.\n",
        "\n",
        "4. **`\"drive_service\"`**: Expande o tipo `\"drive\"` para incluir vias de serviço, como acessos a estacionamentos e beco sem saída.\n",
        "\n",
        "5. **`\"walk\"`**: Foca em vias com acesso para pedestres, incluindo calçadas, trilhas e áreas de tráfego exclusivo para pedestres.\n",
        "\n",
        "6. **`\"bike\"`**: Inclui vias onde é permitida a circulação de bicicletas, como ciclovias e trechos compartilhadas.\n",
        "\n",
        "7. **`\"drive+bike\"`**: Combina vias para veículos e bicicletas, baixando apenas os trechos que permitem o compartilhamento entre ambos.\n",
        "\n",
        "8. **`\"walk+bike\"`**: Inclui vias permitidas tanto para pedestres quanto para ciclistas.\n",
        "\n",
        "9. **`\"bike+drive+walk\"`**: Baixa todas as vias onde veículos, bicicletas e pedestres podem circular, mas exclui vias exclusivas de pedestres e ciclovias exclusivas. Esse tipo permite uma visão completa dos trechos urbanos que suportam transporte multimodal.\n",
        "\n",
        "\n",
        "\n",
        "Voltando para o nosso exemplo prático, vamos baixar e visualizar as redes viárias específicas para automóveis e para pedestres para o bairro da Liberdade, em São Paulo.\n",
        "\n",
        "Primeiro, usamos o `network_type` para filtrar as vias, baixando separadamente as redes viárias para automóveis e pedestres."
      ]
    },
    {
      "cell_type": "code",
      "execution_count": null,
      "id": "7ca463e4",
      "metadata": {
        "id": "7ca463e4"
      },
      "outputs": [],
      "source": [
        "# Baixar a rede viária para automóveis do bairro Liberdade\n",
        "grafo_automoveis = ox.graph_from_place(bairro, network_type=\"drive\")\n",
        "\n",
        "# Visualizar a rede viária para automóveis\n",
        "fig, ax = ox.plot_graph(grafo_automoveis, bgcolor=\"w\", node_size=0, edge_color=\"black\", edge_linewidth=0.5)"
      ]
    },
    {
      "cell_type": "markdown",
      "id": "534357f7",
      "metadata": {
        "id": "534357f7"
      },
      "source": [
        "    \n",
        "\n",
        "A rede viária para pedestres inclui ruas, calçadas e trilhas onde o tráfego de pedestres é permitido."
      ]
    },
    {
      "cell_type": "code",
      "execution_count": null,
      "id": "da451346",
      "metadata": {
        "id": "da451346"
      },
      "outputs": [],
      "source": [
        "# Baixar a rede viária para pedestres na Liberdade\n",
        "grafo_pedestres = ox.graph_from_place(bairro, network_type=\"walk\")\n",
        "\n",
        "# Visualizar a rede viária para pedestres\n",
        "fig, ax = ox.plot_graph(grafo_pedestres, bgcolor=\"w\", node_size=0, edge_color=\"black\", edge_linewidth=0.5)"
      ]
    },
    {
      "cell_type": "markdown",
      "id": "a6f58c9d",
      "metadata": {
        "id": "a6f58c9d"
      },
      "source": [
        "Para facilitar a comparação, vamos plotar ambas as redes no mesmo gráfico, usando cores diferentes para distinguir as vias para automóveis e para pedestres."
      ]
    },
    {
      "cell_type": "code",
      "execution_count": null,
      "id": "91efac04",
      "metadata": {
        "id": "91efac04"
      },
      "outputs": [],
      "source": [
        "# Criar a figura e o eixo para o plot\n",
        "fig, ax = plt.subplots(figsize=(10, 10))\n",
        "\n",
        "# Plotar a rede viária para pedestres em azul\n",
        "ox.plot_graph(grafo_pedestres, ax=ax, node_size=0, edge_color=\"blue\", edge_linewidth=0.5, show=False, close=False)\n",
        "\n",
        "# Plotar a rede viária para automóveis em vermelho\n",
        "ox.plot_graph(grafo_automoveis, ax=ax, node_size=0, edge_color=\"red\", edge_linewidth=0.5, show=False, close=False)\n",
        "\n",
        "# Adicionar título e legenda manual\n",
        "ax.set_title(\"Redes Viárias para Automóveis e Pedestres - Liberdade\", fontsize=15)\n",
        "legend_elements = [plt.Line2D([0], [0], color=\"red\", lw=2, label=\"Automóveis\"),\n",
        "                   plt.Line2D([0], [0], color=\"blue\", lw=2, label=\"Pedestres\")]\n",
        "ax.legend(handles=legend_elements, loc=\"upper right\")\n",
        "\n",
        "# Exibir o plot\n",
        "plt.show()"
      ]
    },
    {
      "cell_type": "markdown",
      "id": "6a5dd015",
      "metadata": {
        "id": "6a5dd015"
      },
      "source": [
        "Além de buscar redes viárias por um nome de local, também é possível definir um ponto central com coordenadas e um raio de busca.\n",
        "\n",
        "Para exemplificar, vamos obter a rede viária para automóveis em um raio de 500 metros a partir de um ponto central no bairro da Liberdade."
      ]
    },
    {
      "cell_type": "code",
      "execution_count": null,
      "id": "86832c2f",
      "metadata": {
        "id": "86832c2f"
      },
      "outputs": [],
      "source": [
        "liberdade_centro = (-23.561414, -46.633176)  # latitude e longitude\n",
        "um_km = 500  # raio de 500 metros\n",
        "\n",
        "# Baixar a rede viária para automóveis dentro do raio de 500 metros ao redor do ponto central da Liberdade\n",
        "G_liberdade = ox.graph_from_point(liberdade_centro, dist=um_km, network_type=\"drive\")\n",
        "\n",
        "# Visualizar a rede viária\n",
        "fig, ax = ox.plot_graph(G_liberdade, node_size=0, edge_color=\"black\", edge_linewidth=0.5, bgcolor=\"w\")"
      ]
    },
    {
      "cell_type": "markdown",
      "id": "12328ba6",
      "metadata": {
        "id": "12328ba6"
      },
      "source": [
        "No código acima:\n",
        "- **`liberdade_centro`** define as coordenadas geográficas do ponto central do bairro.\n",
        "- **`dist=500`** limita a rede viária a 500 metros ao redor desse ponto.\n",
        "\n",
        "\n",
        "\n",
        "\n",
        "Agora vamos baixar e visualizar redes viárias específicas para bicicletas e pedestres, exibindo-as em um único plot para facilitar a análise comparativa.\n",
        "\n",
        "Ja havíamos baixado a rede de vias para pedestres. Vamos baixar a rede de vias onde bicicletas podem circular, usando `network_type=\"bike\"`. Isso inclui ciclovias e trechos compartilhados onde o tráfego de bicicletas é permitido."
      ]
    },
    {
      "cell_type": "code",
      "execution_count": null,
      "id": "02b39859",
      "metadata": {
        "id": "02b39859"
      },
      "outputs": [],
      "source": [
        "# Baixar a rede viária para bicicletas na Liberdade\n",
        "grafo_bike = ox.graph_from_place(bairro, network_type=\"bike\")\n",
        "\n",
        "# Visualizar a rede viária para bicicletas\n",
        "fig, ax = ox.plot_graph(grafo_bike, bgcolor=\"w\", node_size=0, edge_color=\"black\", edge_linewidth=0.5)"
      ]
    },
    {
      "cell_type": "markdown",
      "id": "c4426340",
      "metadata": {
        "id": "c4426340"
      },
      "source": [
        "Para visualizar a rede viária para pedestres e a rede para bicicletas em um mesmo plot, utilizamos cores diferentes para cada tipo de via."
      ]
    },
    {
      "cell_type": "code",
      "execution_count": null,
      "id": "93355af7",
      "metadata": {
        "id": "93355af7"
      },
      "outputs": [],
      "source": [
        "# Criar a figura e o eixo para o plot\n",
        "fig, ax = plt.subplots(figsize=(10, 10))\n",
        "\n",
        "# Plotar a rede viária para pedestres em azul\n",
        "ox.plot_graph(grafo_pedestres, ax=ax, node_size=0, edge_color=\"blue\", edge_linewidth=0.5, show=False, close=False)\n",
        "\n",
        "# Plotar a rede viária para bicicletas em vermelho\n",
        "ox.plot_graph(grafo_bike, ax=ax, node_size=0, edge_color=\"red\", edge_linewidth=0.5, show=False, close=False)\n",
        "\n",
        "# Adicionar título e legenda manual\n",
        "ax.set_title(\"Redes Viárias para Bicicletas e Pedestres - Liberdade\", fontsize=15)\n",
        "legend_elements = [plt.Line2D([0], [0], color=\"red\", lw=2, label=\"Bicicleta\"),\n",
        "                   plt.Line2D([0], [0], color=\"blue\", lw=2, label=\"Pedestres\")]\n",
        "ax.legend(handles=legend_elements, loc=\"upper right\")\n",
        "\n",
        "# Exibir o plot\n",
        "plt.show()"
      ]
    },
    {
      "cell_type": "markdown",
      "id": "585a3c18",
      "metadata": {
        "id": "585a3c18"
      },
      "source": [
        "A visualização de redes viárias em termos de nós e arestas é essencial para compreender a estrutura e a conectividade do sistema de transporte urbano. Para plotar a rede viária com seus nós e arestas:"
      ]
    },
    {
      "cell_type": "code",
      "execution_count": null,
      "id": "268800ef",
      "metadata": {
        "id": "268800ef"
      },
      "outputs": [],
      "source": [
        "# Visualizar a rede viária com destaque para nós e arestas\n",
        "fig, ax = ox.plot_graph(grafo_rede_viaria, bgcolor=\"w\", node_size=10, node_color=\"red\", edge_color=\"black\", edge_linewidth=0.5)"
      ]
    },
    {
      "cell_type": "markdown",
      "id": "10c454f9",
      "metadata": {
        "id": "10c454f9"
      },
      "source": [
        "Podemos contar os nós e as arestas do grafo para ter uma visão quantitativa da rede viária:"
      ]
    },
    {
      "cell_type": "code",
      "execution_count": null,
      "id": "d9ba4b39",
      "metadata": {
        "id": "d9ba4b39"
      },
      "outputs": [],
      "source": [
        "# Contar o número total de nós e arestas no grafo\n",
        "num_nos = grafo_rede_viaria.number_of_nodes()\n",
        "num_arestas = grafo_rede_viaria.number_of_edges()\n",
        "\n",
        "print(\"Número total de nós:\", num_nos)\n",
        "print(\"Número total de arestas:\", num_arestas)"
      ]
    },
    {
      "cell_type": "markdown",
      "id": "958772e8",
      "metadata": {
        "id": "958772e8"
      },
      "source": [
        "### 2.3.2 Visualização Interativa com GeoPandas e Folium\n",
        "\n",
        "A função `.explore()` da GeoPandas permite criar visualizações interativas dos dados geoespaciais, utilizando a Folium para gerar mapas.\n",
        "\n",
        "Para visualizar interativamente apenas as arestas ou os nós da rede viária, podemos converter o grafo em GeoDataFrames e utilizar `.explore()`:"
      ]
    },
    {
      "cell_type": "code",
      "execution_count": null,
      "id": "1746c12a",
      "metadata": {
        "id": "1746c12a"
      },
      "outputs": [],
      "source": [
        "# Converter as arestas para GeoDataFrame e explorar interativamente\n",
        "ox.graph_to_gdfs(grafo_rede_viaria, nodes=False).explore()\n",
        "\n",
        "# Converter os nós para GeoDataFrame e explorar interativamente com mapa base diferente\n",
        "nodes = ox.graph_to_gdfs(grafo_rede_viaria, edges=False)\n",
        "nodes.explore(tiles=\"cartodbpositron\", marker_kwds={\"radius\": 2})"
      ]
    },
    {
      "cell_type": "markdown",
      "id": "81b56110",
      "metadata": {
        "id": "81b56110"
      },
      "source": [
        "Também é possível visualizar ambos em um único mapa interativo."
      ]
    },
    {
      "cell_type": "code",
      "execution_count": null,
      "id": "2315073c",
      "metadata": {
        "id": "2315073c"
      },
      "outputs": [],
      "source": [
        "# Converter o grafo em GeoDataFrames para nós e arestas\n",
        "nodes, edges = ox.graph_to_gdfs(grafo_rede_viaria)\n",
        "\n",
        "# Explorar as arestas no mapa com cor azul e adicionar os nós com cor rosa\n",
        "m = edges.explore(color=\"skyblue\", tiles=\"cartodbdarkmatter\")\n",
        "nodes.explore(m=m, color=\"pink\", marker_kwds={\"radius\": 2})"
      ]
    },
    {
      "cell_type": "markdown",
      "id": "95b90cd8",
      "metadata": {
        "id": "95b90cd8"
      },
      "source": [
        "Vamos gerar uma visualização das paradas de ônibus e da rede viária completa."
      ]
    },
    {
      "cell_type": "code",
      "execution_count": null,
      "id": "7bafbc21",
      "metadata": {
        "id": "7bafbc21"
      },
      "outputs": [],
      "source": [
        "# Definir as opções de mapa\n",
        "tiles = \"cartodbdarkmatter\"\n",
        "mk = {\"radius\": 3}\n",
        "\n",
        "# Explorar a rede viária completa do bairro da Liberdade\n",
        "road_network = ox.features_from_place(bairro, tags={\"highway\": True})\n",
        "m = road_network.explore(m=m, tiles=tiles, color=\"blue\", tooltip=\"name\", style_kwds={\"weight\": 0.5})\n",
        "\n",
        "# Explorar as paradas de ônibus no bairro da Liberdade\n",
        "bus_stops = ox.features_from_place(bairro, tags={\"highway\": \"bus_stop\"})\n",
        "m = bus_stops.explore(tiles=tiles, color=\"red\", tooltip=\"name\", marker_kwds=mk)\n",
        "\n",
        "# Exibir o mapa interativo\n",
        "m"
      ]
    },
    {
      "cell_type": "markdown",
      "id": "43e49d84",
      "metadata": {
        "id": "43e49d84"
      },
      "source": [
        "Para realizar uma análise específica em uma área ao redor de um ponto, podemos definir coordenadas centrais e um raio, como no exemplo abaixo, que inclui paradas de ônibus, linhas de metrô e estações de trem na Vila Madalena."
      ]
    },
    {
      "cell_type": "code",
      "execution_count": null,
      "id": "dab6069e",
      "metadata": {
        "id": "dab6069e"
      },
      "outputs": [],
      "source": [
        "# Coordenadas aproximadas do centro da Vila Madalena e raio\n",
        "centro_vila_madalena = (-23.558213, -46.691616)\n",
        "raio = 1500  # 1,5 km\n",
        "\n",
        "# Definir opções de mapa\n",
        "tiles = \"cartodbdarkmatter\"\n",
        "mk = {\"radius\": 3}\n",
        "\n",
        "# Explorar paradas de ônibus na área\n",
        "bus = ox.features_from_point(centro_vila_madalena, tags={\"highway\": \"bus_stop\"}, dist=raio)\n",
        "m = bus.explore(tiles=tiles, color=\"red\", tooltip=\"name\", marker_kwds=mk)\n",
        "\n",
        "# Explorar linhas de metrô\n",
        "rail = ox.features_from_point(centro_vila_madalena, tags={\"railway\": True}, dist=raio)\n",
        "m = rail.explore(m=m, tiles=tiles, color=\"yellow\", tooltip=\"name\")\n",
        "\n",
        "# Explorar estações de trem\n",
        "stations = ox.features_from_point(centro_vila_madalena, tags={\"railway\": \"station\"}, dist=raio)\n",
        "stations.explore(m=m, tiles=tiles, color=\"green\", tooltip=\"name\", marker_kwds=mk)\n",
        "\n",
        "# Exibir o mapa\n",
        "m"
      ]
    },
    {
      "cell_type": "markdown",
      "id": "fb4e3550",
      "metadata": {
        "id": "fb4e3550"
      },
      "source": [
        "## 2.3.3 Conversão de grafos de redes viárias\n",
        "\n",
        "\n",
        "Para realizar diferentes tipos de análises com redes viárias, é útil converter o grafo de uma rede viária em outras estruturas, como um grafo não direcionado, um grafo simplificado ou GeoDataFrames para manipulação geoespacial.\n",
        "\n",
        "\n",
        "**Converção para MultiGraph Não Direcionado**\n",
        "\n",
        "O OSMnx retorna redes viárias como grafos direcionados (`MultiDiGraph`), que incluem a direção das vias. Em alguns casos, pode ser mais apropriado utilizar uma representação não direcionada, especialmente se o sentido das vias não for relevante para a análise."
      ]
    },
    {
      "cell_type": "code",
      "execution_count": null,
      "id": "320b5e4b",
      "metadata": {
        "id": "320b5e4b"
      },
      "outputs": [],
      "source": [
        "# Converter o grafo para MultiGraph não direcionado\n",
        "grafo_nao_direcionado = grafo_rede_viaria.to_undirected()\n",
        "\n",
        "# Visualizar o grafo não direcionado\n",
        "fig, ax = ox.plot_graph(grafo_nao_direcionado, node_size=7, node_color='yellow', edge_color='gray', edge_linewidth=0.7)"
      ]
    },
    {
      "cell_type": "markdown",
      "id": "37904635",
      "metadata": {
        "id": "37904635"
      },
      "source": [
        "**Converção para GeoDataFrames**\n",
        "\n",
        "Como vimos em um exemplo anterior, para explorar os atributos dos nós e arestas em um formato geoespacial, podemos converter o grafo em GeoDataFrames. Isso permite manipular os dados viários como pontos (nós) e linhas (arestas)."
      ]
    },
    {
      "cell_type": "code",
      "execution_count": null,
      "id": "53460643",
      "metadata": {
        "id": "53460643"
      },
      "outputs": [],
      "source": [
        "# Converter para GeoDataFrames\n",
        "gdf_nos, gdf_arestas = ox.graph_to_gdfs(grafo_rede_viaria)\n",
        "\n",
        "# Visualizar os nós e as arestas\n",
        "gdf_nos.plot()\n",
        "gdf_arestas.plot()"
      ]
    },
    {
      "cell_type": "markdown",
      "id": "b0522476",
      "metadata": {
        "id": "b0522476"
      },
      "source": [
        "### 2.3.4 Atributos dos Nós e Arestas de grafos\n",
        "\n",
        "Após converter os grafos para GeoDataFrames, podemos acessar e analisar os atributos disponíveis para cada nó e aresta. Os nós representam interseções ou cruzamentos na rede viária, enquanto as arestas  representam os segmentos de rua entre os nós.\n",
        "\n",
        "\n",
        "\n",
        "#### 2.2.4.1 Explorando Atributos dos Nós\n",
        "\n",
        "\n",
        "Os atributos dos nós em um grafo OSMnx armazenam os dados de cada ponto de interseção da rede viária. Os principais atributos encontrados nos nós de uma rede viária do OSMnx são:\n",
        "\n",
        "1. **`street_count`**: Representa o número de vias que convergem no nó. Em cruzamentos com diversas vias, o valor será mais alto (geralmente 3 ou 4). Em uma extremidade de via, como uma rua sem saída, o valor pode ser 1.\n",
        "\n",
        "2. **`x` e `y`**: São as coordenadas do nó em longitude (`x`) e latitude (`y`). Esses valores indicam a localização geográfica exata do ponto na rede viária.\n",
        "\n",
        "3. **`highway`**: Indica o tipo de via ou cruzamento, conforme categorizado no OpenStreetMap. Esse atributo aparece em nós que representam interseções ou pontos de interesse na rede viária, como cruzamentos de pedestres ou ciclovias.\n",
        "\n",
        "4. **`ref`**: Usado para armazenar um identificador de referência do nó, geralmente relacionado ao OpenStreetMap. Esse identificador é útil para consultas adicionais ou para acessar informações de referência diretamente no mapa base do OSM. Esse atributo pode facilitar a integração com outros bancos de dados ou mapas.\n",
        "\n",
        "\n",
        "Para uma análise detalhada dos dados sobre os nós da rede viária no DataFrame gdf_nos, podemos seguir uma sequência de comandos que verificam e exploram os registros referentes a cada atributo.\n",
        "\n",
        "Inicialmente, vamos contar o número total de nós de nosso conjunto de dados."
      ]
    },
    {
      "cell_type": "code",
      "execution_count": null,
      "id": "b16cf541",
      "metadata": {
        "id": "b16cf541"
      },
      "outputs": [],
      "source": [
        "# Contar o número de nós\n",
        "print(\"Número total de nós:\", len(gdf_nos))"
      ]
    },
    {
      "cell_type": "markdown",
      "id": "0a5ab38f",
      "metadata": {
        "id": "0a5ab38f"
      },
      "source": [
        "Em seguida, podemos verificar os atributos existentes."
      ]
    },
    {
      "cell_type": "code",
      "execution_count": null,
      "id": "f7f6bdd4",
      "metadata": {
        "id": "f7f6bdd4"
      },
      "outputs": [],
      "source": [
        "# Exibir as colunas (atributos) dos nós\n",
        "print(gdf_nos.columns)"
      ]
    },
    {
      "cell_type": "markdown",
      "id": "9f08706c",
      "metadata": {
        "id": "9f08706c"
      },
      "source": [
        "Agora, vamos definir os atributos (colunas) que queremos consultar no DataFrame `gdf_nos`, que representa os nós de uma rede viária. Esse conjunto de colunas inclui dados sobre as coordenadas (`y`, `x`), número de ruas conectadas a cada nó (`street_count`), tipo de via (`highway`), referência do nó (`ref`) e geometria da localização (`geometry`)."
      ]
    },
    {
      "cell_type": "code",
      "execution_count": null,
      "id": "cca13c00",
      "metadata": {
        "id": "cca13c00"
      },
      "outputs": [],
      "source": [
        "colunas = ['y', 'x', 'street_count', 'highway', 'ref', 'geometry']"
      ]
    },
    {
      "cell_type": "markdown",
      "id": "4d62e7e4",
      "metadata": {
        "id": "4d62e7e4"
      },
      "source": [
        "Em seguida, exibimos o tipo de dado associado a cada coluna especificada. Isso permite identificar se as colunas possuem o tipo de dado esperado (por exemplo, coordenadas devem ser numéricas, enquanto o tipo de via deve ser categórico). Caso algum tipo de dado não corresponda ao esperado, pode ser necessário realizar ajustes ou conversões."
      ]
    },
    {
      "cell_type": "code",
      "execution_count": null,
      "id": "05aea4d1",
      "metadata": {
        "id": "05aea4d1"
      },
      "outputs": [],
      "source": [
        "print(\"Tipos de dados de cada coluna em gdf_nos:\")\n",
        "for coluna in colunas:\n",
        "    print(f\"{coluna}: {gdf_nos[coluna].dtype}\")"
      ]
    },
    {
      "cell_type": "markdown",
      "id": "95d5d79b",
      "metadata": {
        "id": "95d5d79b"
      },
      "source": [
        "Para visualizar rapidamente o conteúdo dos dados, utilizamos o método `head()`, que exibe as primeiras linhas do DataFrame `gdf_nos`."
      ]
    },
    {
      "cell_type": "code",
      "execution_count": null,
      "id": "2788551e",
      "metadata": {
        "id": "2788551e"
      },
      "outputs": [],
      "source": [
        "gdf_nos.head()"
      ]
    },
    {
      "cell_type": "markdown",
      "id": "934c5f4b",
      "metadata": {
        "id": "934c5f4b"
      },
      "source": [
        "Para entender a conectividade dos nós, buscamos os valores únicos na coluna `street_count`."
      ]
    },
    {
      "cell_type": "code",
      "execution_count": null,
      "id": "5d6e367f",
      "metadata": {
        "id": "5d6e367f"
      },
      "outputs": [],
      "source": [
        "street_count_unicos = gdf_nos['street_count'].dropna().unique()\n",
        "print(\"Valores únicos de street_count:\", street_count_unicos)"
      ]
    },
    {
      "cell_type": "markdown",
      "id": "07dbcf57",
      "metadata": {
        "id": "07dbcf57"
      },
      "source": [
        "Da mesma maneira, obtemos os valores únicos da coluna `highway`."
      ]
    },
    {
      "cell_type": "code",
      "execution_count": null,
      "id": "d6f4eaf4",
      "metadata": {
        "id": "d6f4eaf4"
      },
      "outputs": [],
      "source": [
        "highway_unicos = gdf_nos['highway'].dropna().unique()\n",
        "print(\"Valores únicos de highway:\", highway_unicos)"
      ]
    },
    {
      "cell_type": "markdown",
      "id": "cdfb3c05",
      "metadata": {
        "id": "cdfb3c05"
      },
      "source": [
        "Por fim, visualizamos os valores únicos na coluna `ref`, que pode conter referências adicionais para os nós, como identificadores específicos."
      ]
    },
    {
      "cell_type": "code",
      "execution_count": null,
      "id": "fa5e87ae",
      "metadata": {
        "id": "fa5e87ae"
      },
      "outputs": [],
      "source": [
        "ref_unicos = gdf_nos['ref'].dropna().unique()\n",
        "print(\"Valores únicos de ref:\", ref_unicos)"
      ]
    },
    {
      "cell_type": "markdown",
      "id": "9a4e70b3",
      "metadata": {
        "id": "9a4e70b3"
      },
      "source": [
        "Esses atributos fornecem informações detalhadas sobre cada ponto de interseção ou elemento da rede viária, permitindo compreender a complexidade e a funcionalidade de cada nó. Abaixo está uma explicação de cada um dos atributos e dos valores que eles podem assumir:\n",
        "\n",
        "\n",
        "\n",
        "1. **`street_count`**: Os valores únicos encontrados são `[3, 4, 5, 1, 6, 2]`, cada um com o seguinte significado:\n",
        "   - **1**: Indica um ponto final ou uma rua sem saída.\n",
        "   - **2**: Representa uma conexão direta entre duas ruas, como um segmento reto.\n",
        "   - **3, 4, 5, 6**: São cruzamentos onde múltiplas ruas se encontram, sugerindo uma estrutura mais complexa da rede viária e possivelmente uma área com mais tráfego.\n",
        "\n",
        "2. **`highway`**: Os valores únicos para `highway` são `['traffic_signals', 'priority', 'mini_roundabout', 'crossing']`, indicando:\n",
        "   - **`traffic_signals`**: Semáforos presentes no nó, normalmente em cruzamentos movimentados.\n",
        "   - **`priority`**: Indica um ponto onde a prioridade é regulamentada, como cruzamentos com placas de prioridade.\n",
        "   - **`mini_roundabout`**: Uma pequena rotatória que facilita o fluxo de tráfego em áreas urbanas.\n",
        "   - **`crossing`**: Área de travessia para pedestres ou ciclistas, muitas vezes em cruzamentos ou próximos a pontos de transporte público.\n",
        "\n",
        "3. **`ref`**: Os valores únicos são `['A-230', 'A-259', 'A-257', 'A-253', 'A-252;A-254', 'A-254', 'A-234', 'A-262', 'A-233']`, onde cada código representa uma estrada ou rota específica. Exemplos incluem:\n",
        "   - **`A-230`, `A-259`**: Identificadores para estradas principais, comumente rodovias ou vias expressas.\n",
        "   - **`A-252;A-254`**: Indica um ponto de interseção entre duas estradas, os trechos A-252 e A-254, sugerindo uma interligação importante.\n",
        "\n",
        "\n",
        "\n",
        "Agora vamos trabalhar com a filtragem e a visualização dos nós.\n",
        "\n",
        "Para começar, filtramos os nós que possuem valores específicos de `street_count`, que indicam a quantidade de ruas conectadas em cada nó. Em seguida, visualizamos esses nós em um mapa, colorindo cada valor de `street_count` de maneira distinta para facilitar a análise da complexidade de cada interseção."
      ]
    },
    {
      "cell_type": "code",
      "execution_count": null,
      "id": "40aa6898",
      "metadata": {
        "id": "40aa6898"
      },
      "outputs": [],
      "source": [
        "# Filtrar apenas os nós com as classes de street_count desejadas\n",
        "classes_street_count = [1, 2, 3, 4, 5, 6]\n",
        "gdf_street_count_nos = gdf_nos[gdf_nos['street_count'].isin(classes_street_count)]\n",
        "\n",
        "# Plotar os nós de street_count com cores diferentes para cada classe\n",
        "gdf_street_count_nos.explore(\n",
        "    column=\"street_count\",\n",
        "    legend=True,\n",
        "    tiles=\"CartoDB Positron\",\n",
        "    tooltip=\"street_count\",\n",
        "    cmap=\"Paired\",\n",
        "    marker_kwds={\n",
        "        \"radius\": 3,\n",
        "        \"fill\": True,\n",
        "    },\n",
        "    style_kwds={\n",
        "        \"stroke\": True,\n",
        "        \"color\": \"black\",\n",
        "        \"weight\": 0.5\n",
        "    }\n",
        ")"
      ]
    },
    {
      "cell_type": "markdown",
      "id": "7ac9c1b3",
      "metadata": {
        "id": "7ac9c1b3"
      },
      "source": [
        "Para obter uma visão mais completa, podemos sobrepor os nós filtrados de `street_count` em uma camada de arestas (ruas)."
      ]
    },
    {
      "cell_type": "code",
      "execution_count": null,
      "id": "c50b6b08",
      "metadata": {
        "id": "c50b6b08"
      },
      "outputs": [],
      "source": [
        "# Plotar a camada de arestas (gdf_arestas)\n",
        "mapa = gdf_arestas.explore(\n",
        "    tiles=\"CartoDB Positron\",\n",
        "    color=\"black\",\n",
        "    style_kwds={\n",
        "        \"weight\": 1,\n",
        "        \"opacity\": 0.4\n",
        "    }\n",
        ")\n",
        "\n",
        "# Adicionar os pontos de street_count ao mapa\n",
        "gdf_street_count_nos.explore(\n",
        "    m=mapa,\n",
        "    column=\"street_count\",\n",
        "    legend=True,\n",
        "    tooltip=\"street_count\",\n",
        "    cmap=\"Paired\",\n",
        "    marker_kwds={\n",
        "        \"radius\": 3,\n",
        "        \"fill\": True,\n",
        "    },\n",
        "    style_kwds={\n",
        "        \"stroke\": True,\n",
        "        \"color\": \"black\",\n",
        "        \"weight\": 0.5\n",
        "    }\n",
        ")"
      ]
    },
    {
      "cell_type": "markdown",
      "id": "e787d1c7",
      "metadata": {
        "id": "e787d1c7"
      },
      "source": [
        "Além disso, podemos criar um gráfico estático que destaca as interseções com diferentes valores de `street_count`, adicionando uma legenda personalizada para representar o número de ruas conectadas em cada nó. Isso permite visualizar melhor as conexões e a complexidade dos cruzamentos."
      ]
    },
    {
      "cell_type": "code",
      "execution_count": null,
      "id": "3edc326c",
      "metadata": {
        "id": "3edc326c"
      },
      "outputs": [],
      "source": [
        "# Filtrar os nós com as classes de street_count desejadas\n",
        "classes_street_count = [1, 2, 3, 4, 5, 6]\n",
        "gdf_street_count_nos = gdf_nos[gdf_nos['street_count'].isin(classes_street_count)]\n",
        "\n",
        "# Definir o mapa de cores e rótulos personalizados\n",
        "cmap = plt.get_cmap(\"Paired\")\n",
        "colors = [cmap(i / len(classes_street_count)) for i in range(len(classes_street_count))]\n",
        "labels = [f\"{count} Rua{'s' if count > 1 else ''}\" for count in classes_street_count]\n",
        "\n",
        "# Criar o plot com ajuste de proporção para deixar espaço para a legenda\n",
        "fig, ax = plt.subplots(figsize=(12, 10))\n",
        "\n",
        "# Plotar a camada de arestas (rede viária) com uma cor suave\n",
        "gdf_arestas.plot(ax=ax, color=\"gray\", linewidth=0.5, alpha=0.5, label=\"Rede Viária\")\n",
        "\n",
        "# Plotar os pontos de street_count com cores diferentes para cada classe\n",
        "gdf_street_count_nos.plot(\n",
        "    ax=ax,\n",
        "    column=\"street_count\",\n",
        "    cmap=cmap,\n",
        "    markersize=30,\n",
        "    legend=False\n",
        ")\n",
        "\n",
        "# Criar uma legenda personalizada com pontos coloridos\n",
        "legend_elements = [\n",
        "    Line2D([0], [0], marker='o', color='w', markerfacecolor=colors[i], markersize=8, label=labels[i])\n",
        "    for i in range(len(classes_street_count))\n",
        "]\n",
        "\n",
        "# Adicionar a legenda fora do gráfico\n",
        "ax.legend(handles=legend_elements, title=\"Contagem de Interseções (street_count)\",\n",
        "          loc=\"upper left\", bbox_to_anchor=(1, 1))\n",
        "\n",
        "# Configurações finais do gráfico\n",
        "plt.title(\"Interseções de Rua por Contagem de Conexões (street_count)\")\n",
        "plt.xlabel(\"Longitude\")\n",
        "plt.ylabel(\"Latitude\")\n",
        "plt.grid(False)\n",
        "plt.tight_layout()\n",
        "plt.show()"
      ]
    },
    {
      "cell_type": "markdown",
      "id": "a0f69761",
      "metadata": {
        "id": "a0f69761"
      },
      "source": [
        "Focando agora nos nós com `street_count` igual a 1, que representam pontos finais ou ruas sem saída, é possível sobrepor esses pontos em uma camada de ruas com cor vermelha suave. Isso destaca as terminações da rede viária no mapa."
      ]
    },
    {
      "cell_type": "code",
      "execution_count": null,
      "id": "134b521d",
      "metadata": {
        "id": "134b521d"
      },
      "outputs": [],
      "source": [
        "# Filtrar apenas os nós com street_count igual a 1\n",
        "gdf_street_count_1 = gdf_nos[gdf_nos['street_count'] == 1]\n",
        "\n",
        "# Plotar a camada de arestas (gdf_arestas) com uma cor vermelha suave como base\n",
        "mapa = gdf_arestas.explore(\n",
        "    tiles=\"CartoDB Positron\",\n",
        "    color=\"red\",\n",
        "    style_kwds={\n",
        "        \"weight\": 1,\n",
        "        \"opacity\": 0.5\n",
        "    }\n",
        ")\n",
        "\n",
        "# Adicionar os nós com street_count 1 ao mapa\n",
        "gdf_street_count_1.explore(\n",
        "    m=mapa,\n",
        "    color=\"blue\",\n",
        "    legend=False,\n",
        "    tooltip=\"street_count\",\n",
        "    marker_kwds={\n",
        "        \"radius\": 3,\n",
        "        \"fill\": True,\n",
        "    },\n",
        "    style_kwds={\n",
        "        \"stroke\": True,\n",
        "        \"color\": \"black\",\n",
        "        \"weight\": 0.5\n",
        "    }\n",
        ")"
      ]
    },
    {
      "cell_type": "markdown",
      "id": "d4855eed",
      "metadata": {
        "id": "d4855eed"
      },
      "source": [
        "Também é possível filtrar os nós de acordo com tipos específicos de `highway`, como `traffic_signals` e `crossing`, para identificar áreas com semáforos, travessias de pedestres, entre outros. Esses pontos são visualizados com cores diferentes para cada tipo."
      ]
    },
    {
      "cell_type": "code",
      "execution_count": null,
      "id": "920c4b50",
      "metadata": {
        "id": "920c4b50"
      },
      "outputs": [],
      "source": [
        "# Filtrar apenas os nós com classes de highway desejadas\n",
        "classes_highway = ['traffic_signals', 'priority', 'mini_roundabout', 'crossing']\n",
        "gdf_highway_nos = gdf_nos[gdf_nos['highway'].isin(classes_highway)]\n",
        "\n",
        "# Plotar os nós de highway com cores diferentes\n",
        "gdf_highway_nos.explore(\n",
        "    column=\"highway\",\n",
        "    legend=True,\n",
        "    tiles=\"CartoDB Positron\",\n",
        "    tooltip=\"highway\",\n",
        "    cmap=\"Set1\",\n",
        "    marker_kwds={\n",
        "        \"radius\": 3,\n",
        "        \"fill\": True,\n",
        "    },\n",
        "    style_kwds={\n",
        "        \"stroke\": True,\n",
        "        \"color\": \"black\",\n",
        "        \"weight\": 0.5\n",
        "    }\n",
        ")"
      ]
    },
    {
      "cell_type": "markdown",
      "id": "a3488255",
      "metadata": {
        "id": "a3488255"
      },
      "source": [
        "Por fim, para uma visualização ainda mais específica, selecionamos os nós que possuem o atributo `highway` igual a `traffic_signals`, destacando apenas os pontos onde há semáforos."
      ]
    },
    {
      "cell_type": "code",
      "execution_count": null,
      "id": "b5f0f292",
      "metadata": {
        "id": "b5f0f292"
      },
      "outputs": [],
      "source": [
        "# Filtrar apenas os nós com highway igual a 'traffic_signals'\n",
        "gdf_traffic_signals = gdf_nos[gdf_nos['highway'] == 'traffic_signals']\n",
        "\n",
        "# Plotar os nós de highway usando uma cor diferente para cada classe\n",
        "gdf_traffic_signals.explore(\n",
        "    column=\"highway\",\n",
        "    legend=True,\n",
        "    tiles=\"CartoDB Positron\",\n",
        "    tooltip=\"highway\",\n",
        "    cmap=\"Set1\",\n",
        "    marker_kwds={\n",
        "        \"radius\": 3,\n",
        "        \"fill\": True,\n",
        "    },\n",
        "    style_kwds={\n",
        "        \"stroke\": True,\n",
        "        \"color\": \"black\",\n",
        "        \"weight\": 0.5\n",
        "    }\n",
        ")"
      ]
    },
    {
      "cell_type": "markdown",
      "id": "dc45f5bf",
      "metadata": {
        "id": "dc45f5bf"
      },
      "source": [
        "#### 2.2.4.2 Explorando Atributos das Arestas\n",
        "\n",
        "Vamos agora explorar os atributos das arestas da rede viária, que representam cada segmento de rua ou conexão entre dois pontos (nós). Primeiramente, faremos uma visualização básica das arestas e contaremos o número total de segmentos."
      ]
    },
    {
      "cell_type": "code",
      "execution_count": null,
      "id": "38c52aeb",
      "metadata": {
        "id": "38c52aeb"
      },
      "outputs": [],
      "source": [
        "# Plotar o conjunto de dados\n",
        "gdf_arestas.plot()"
      ]
    },
    {
      "cell_type": "code",
      "execution_count": null,
      "id": "3c5f1c17",
      "metadata": {
        "id": "3c5f1c17"
      },
      "outputs": [],
      "source": [
        "# Contar o número total de arestas\n",
        "len(gdf_arestas)"
      ]
    },
    {
      "cell_type": "markdown",
      "id": "ab88c4c4",
      "metadata": {
        "id": "ab88c4c4"
      },
      "source": [
        "Agora iremos verificar as colunas disponíveis no GeoDataFrame `gdf_arestas` para identificar quais atributos estão presentes nas arestas da rede viária."
      ]
    },
    {
      "cell_type": "code",
      "execution_count": null,
      "id": "aabf2292",
      "metadata": {
        "id": "aabf2292"
      },
      "outputs": [],
      "source": [
        "print(gdf_arestas.columns)"
      ]
    },
    {
      "cell_type": "markdown",
      "id": "5e87109f",
      "metadata": {
        "id": "5e87109f"
      },
      "source": [
        "Esses atributos das arestas em um grafo OSMnx representam características detalhadas de cada segmento de rua ou conexão entre dois pontos (nós) da rede viária. Aqui está o que cada um desses atributos significa:\n",
        "\n",
        "- **`u`**: Representa o identificador do nó de origem da aresta. Em uma rede viária, esse valor indica o ponto inicial de um segmento de rua.\n",
        "\n",
        "- **`v`**: Refere-se ao identificador do nó de destino da aresta, ou seja, o ponto final do segmento de rua.\n",
        "\n",
        "- **`key`**: É um identificador adicional que distingue múltiplas arestas entre os mesmos nós `u` e `v`. Em grafos direcionados e multigrafos (grafos que permitem múltiplas arestas entre pares de nós), o `key` assegura que cada conexão entre dois pontos seja única, mesmo que haja várias faixas ou direções diferentes entre os mesmos nós. Por exemplo, se houver múltiplas faixas ou direções distintas para um trecho de via entre dois pontos, cada segmento terá um valor de `key` exclusivo (como 0, 1, 2, etc.), facilitando a distinção entre eles.\n",
        "\n",
        "- **`osmid`**: Este identificador único, atribuído pelo OpenStreetMap, permite associar cada segmento de via aos dados originais no OSM. Em alguns casos, `osmid` pode conter múltiplos valores, como `[780219126, 38738766]`, indicando que o segmento é composto por mais de um trecho diferente no OpenStreetMap.\n",
        "\n",
        "  \n",
        "- **`name`**: Nome da rua ou estrada, se disponível.\n",
        "  \n",
        "- **`maxspeed`**: Velocidade máxima permitida no segmento, geralmente em km/h ou mph, dependendo da região.\n",
        "\n",
        "- **`lanes`**: Número de faixas de circulação no segmento.\n",
        "\n",
        "- **`highway`**: Especifica o tipo de via segundo a classificação do OpenStreetMap, indicando sua importância e função.\n",
        "\n",
        "- **`bridge`**: Indica se o segmento de rua é uma ponte (`True` para sim; `False` ou valor ausente para não).\n",
        "\n",
        "- **`width`**: Largura da via, geralmente em metros, caso essa informação esteja disponível.\n",
        "\n",
        "- **`junction`**: Tipo de interseção em que a via participa, como rotatória (roundabout) ou outro tipo de junção.\n",
        "\n",
        "- **`reversed`**: Indica se a direção da via foi invertida em relação à direção original no OpenStreetMap.\n",
        "\n",
        "- **`oneway`**: Especifica se a via é de mão única (`True` para sim; `False` para mão dupla).\n",
        "\n",
        "- **`access`**: Define restrições de acesso, como `private` (acesso privado), `no` (sem acesso) ou `yes` (acesso permitido).\n",
        "\n",
        "- **`length`**: Comprimento do segmento de rua, geralmente em metros, calculado pelo OSMnx com base na geometria da linha.\n",
        "\n",
        "- **`geometry`**: Armazena a geometria da aresta como uma linha (`LineString`), representando a forma do segmento de rua.\n",
        "\n",
        "\n",
        "\n",
        "Dando continuidade à exploração dos atributos das arestas, vamos examinar os tipos de dados presentes em algumas colunas-chave de `gdf_arestas`. Isso nos ajudará a confirmar que cada coluna contém o tipo de dado esperado, garantindo a consistência das informações que caracterizam cada segmento da rede viária.\n",
        "\n",
        "Primeiro, definimos uma lista chamada `colunas`, que contém os nomes dos principais atributos que descrevem as arestas."
      ]
    },
    {
      "cell_type": "code",
      "execution_count": null,
      "id": "3dd0ff0d",
      "metadata": {
        "id": "3dd0ff0d"
      },
      "outputs": [],
      "source": [
        "# Lista de colunas a serem verificadas\n",
        "colunas = ['osmid', 'oneway', 'lanes', 'highway', 'maxspeed', 'reversed', 'length',\n",
        "           'geometry', 'name', 'bridge', 'access', 'junction', 'width']"
      ]
    },
    {
      "cell_type": "markdown",
      "id": "7a8080f5",
      "metadata": {
        "id": "7a8080f5"
      },
      "source": [
        "Em seguida, para cada coluna da lista `colunas`, verificamos o tipo de dado usando um loop. Esta verificação é importante para assegurar que os valores estão armazenados corretamente, como números inteiros para o número de faixas (`lanes`) ou dados geométricos para a coluna `geometry`."
      ]
    },
    {
      "cell_type": "code",
      "execution_count": null,
      "id": "c5182b25",
      "metadata": {
        "id": "c5182b25"
      },
      "outputs": [],
      "source": [
        "# Verificar o tipo de dado de cada coluna\n",
        "print(\"Tipos de dados de cada coluna em gdf_arestas:\")\n",
        "for coluna in colunas:\n",
        "    print(f\"{coluna}: {gdf_arestas[coluna].dtype}\")"
      ]
    },
    {
      "cell_type": "markdown",
      "id": "c7396582",
      "metadata": {
        "id": "c7396582"
      },
      "source": [
        "Além disso, visualizamos as primeiras linhas do GeoDataFrame `gdf_arestas` para observar o conteúdo e a estrutura desses atributos."
      ]
    },
    {
      "cell_type": "code",
      "execution_count": null,
      "id": "f28e5930",
      "metadata": {
        "id": "f28e5930"
      },
      "outputs": [],
      "source": [
        "# Visualizar as primeiras arestas\n",
        "gdf_arestas.head()"
      ]
    },
    {
      "cell_type": "markdown",
      "id": "e04e4558",
      "metadata": {
        "id": "e04e4558"
      },
      "source": [
        "Ao inspecionar as primeiras linhas de `gdf_arestas` usando `gdf_arestas.head()`, podemos ver exemplos dos identificadores `u`, `v`, e `key`. Suponha que vemos os valores `u=587993`, `v=459347433`, e `key=0`. Isso indica que:\n",
        "\n",
        "- A aresta conecta o nó de origem `587993` ao nó de destino `459347433`.\n",
        "- Como `key=0`, esta é a primeira (e possivelmente única) conexão direta entre esses dois nós.\n",
        "\n",
        "Se houver várias arestas entre os mesmos nós `u` e `v`, cada uma terá um valor de `key` diferente para diferenciar os segmentos.\n",
        "\n",
        "\n",
        "\n",
        "Após entender a estrutura das arestas e seus atributos, iremos calcular algumas métricas importantes para a análise da rede viária. Além disso, vamos explorar os valores únicos de atributos que podem aparecer como listas. Essas informações nos ajudam a obter uma visão detalhada sobre a composição e as características dos trecho de rua.\n",
        "\n",
        "Inicialmente, calculamos o comprimento total da rede viária em metros. A coluna `length` do `gdf_arestas` armazena o comprimento de cada trecho de rua, e somando todos esses valores, obtemos o valor total da extensão da rede."
      ]
    },
    {
      "cell_type": "code",
      "execution_count": null,
      "id": "a2f533c2",
      "metadata": {
        "id": "a2f533c2"
      },
      "outputs": [],
      "source": [
        "# Calcular o comprimento total da rede viária (em metros)\n",
        "comprimento_total = gdf_arestas[\"length\"].sum()\n",
        "print(\"Comprimento total da rede viária (metros):\", round(comprimento_total, 2))"
      ]
    },
    {
      "cell_type": "markdown",
      "id": "01447e03",
      "metadata": {
        "id": "01447e03"
      },
      "source": [
        "Agora vamos recuperar os valores únicos de alguns atributos das arestas."
      ]
    },
    {
      "cell_type": "code",
      "execution_count": null,
      "id": "d2b7e0ba",
      "metadata": {
        "id": "d2b7e0ba"
      },
      "outputs": [],
      "source": [
        "# Lista atributos que queremos consultar\n",
        "atributos = ['lanes', 'highway', 'maxspeed', 'reversed', 'bridge', 'access', 'junction', 'width', 'oneway',]\n",
        "\n",
        "print(\"\\nValores únicos dos atributos:\")\n",
        "for coluna in atributos:\n",
        "    # Converter listas em tuplas para usar com set() e coletar valores únicos\n",
        "    valores_unicos = set(tuple(valor) if isinstance(valor, list) else valor for valor in gdf_arestas[coluna].dropna())\n",
        "    print(f\"{coluna}: {valores_unicos}\")"
      ]
    },
    {
      "cell_type": "markdown",
      "id": "3a38ced1",
      "metadata": {
        "id": "3a38ced1"
      },
      "source": [
        "Aqui está uma descrição detalhada dos atributos das arestas e dos valores que eles podem assumir:\n",
        "\n",
        "- **`lanes`**:\n",
        "  - Valores como `'1'`, `'2'`, `'3'`, `'4'`, e `'5'` indicam a quantidade de faixas em uma única direção.\n",
        "  - Valores como `('2', '3')` e `('4', '3')` indicam variação no número de faixas em diferentes partes do segmento ou direções. Por exemplo, `('2', '3')` poderia representar 2 faixas em uma direção e 3 na outra.\n",
        "\n",
        "- **`highway`**:\n",
        "  - `residential`: Rua residencial, destinada principalmente ao tráfego local.\n",
        "  - `primary`, `secondary`, `tertiary`: Classificações que representam a importância da estrada, com `primary` sendo mais importante que `secondary` e assim por diante.\n",
        "  - Sufixos como `_link` (por exemplo, `tertiary_link`) indicam trechos de conexão, como rampas ou curtos trechos de interseções.\n",
        "\n",
        "- **`maxspeed`**:\n",
        "  - Valores como `'20'`, `'30'`, `'40'`, `'50'`, `'60'` representam os limites de velocidade.\n",
        "  - Tuplas como `('40', '50')` e `('30', '50')` sugerem limites de velocidade distintos para diferentes partes do segmento ou direções. Por exemplo, `('40', '50')` pode indicar 40 km/h em uma direção e 50 km/h na outra.\n",
        "\n",
        "- **`reversed`**:\n",
        "  - `True`: A direção foi invertida.\n",
        "  - `False`: A direção original foi mantida.\n",
        "  - O valor `(False, True)` sugere que a direção pode variar em diferentes seções do mesmo segmento.\n",
        "\n",
        "- **`bridge`**:\n",
        "  - `yes`: O segmento é uma ponte.\n",
        "  - `viaduct`: Especifica que o segmento é um viaduto.\n",
        "\n",
        "- **`access`**:\n",
        "  - `yes`: Acesso permitido a todos.\n",
        "  - `no`: Acesso restrito ou proibido.\n",
        "  - `destination`: Acesso permitido apenas para destinos específicos, como residentes ou visitantes.\n",
        "\n",
        "- **`junction`**:\n",
        "  - `roundabout`: Indica uma rotatória.\n",
        "\n",
        "- **`oneway`**:\n",
        "    - `True`: O segmento é de mão única e permite tráfego em apenas uma direção.\n",
        "    - `False`: O segmento permite tráfego em ambas as direções.\n",
        "\n",
        "\n",
        "\n",
        "\n",
        "Dando continuidade ao passo a passo, agora vamos explorar diferentes maneiras de visualizar pontes, viadutos e outras características das arestas usando o recurso de mapeamento interativo do GeoDataFrame com o método `.explore()`. Vamos também aplicar filtros específicos para destacar segmentos de ruas com determinadas características, como o limite de velocidade e o tipo de via.\n",
        "\n",
        "Primeiramente, extraímos as arestas que representam pontes e viadutos para visualizá-las separadamente:"
      ]
    },
    {
      "cell_type": "code",
      "execution_count": null,
      "id": "b514976d",
      "metadata": {
        "id": "b514976d"
      },
      "outputs": [],
      "source": [
        "# Filtrar apenas as pontes e viadutos a partir do GeoDataFrame\n",
        "gdf_pontes_viadutos = gdf_arestas[gdf_arestas['bridge'].isin(['yes', 'viaduct'])]"
      ]
    },
    {
      "cell_type": "markdown",
      "id": "1d846893",
      "metadata": {
        "id": "1d846893"
      },
      "source": [
        "Também é possível extrair essas arestas diretamente do grafo e, em seguida, convertê-las para um GeoDataFrame:"
      ]
    },
    {
      "cell_type": "code",
      "execution_count": null,
      "id": "37406c43",
      "metadata": {
        "id": "37406c43"
      },
      "outputs": [],
      "source": [
        "# Extrair arestas que são pontes ou viadutos diretamente do grafo\n",
        "pontes_viadutos_arestas = [\n",
        "    (u, v, k) for u, v, k, data in grafo_rede_viaria.edges(keys=True, data=True)\n",
        "    if data.get(\"bridge\") in [\"yes\", \"viaduct\"]\n",
        "]\n",
        "\n",
        "# Criar um subgrafo contendo apenas essas arestas\n",
        "grafo_pontes_viadutos = grafo_rede_viaria.edge_subgraph(pontes_viadutos_arestas)\n",
        "\n",
        "# Converter o subgrafo em um GeoDataFrame\n",
        "gdf_pontes_viadutos = ox.graph_to_gdfs(grafo_pontes_viadutos, nodes=False)"
      ]
    },
    {
      "cell_type": "markdown",
      "id": "94f3ca07",
      "metadata": {
        "id": "94f3ca07"
      },
      "source": [
        "Vamos criar um plot para visualizar as pontes e viadutos, usando o método `.explore()`:"
      ]
    },
    {
      "cell_type": "code",
      "execution_count": null,
      "id": "6cdc4b59",
      "metadata": {
        "id": "6cdc4b59"
      },
      "outputs": [],
      "source": [
        "# Plotar usando .explore()\n",
        "gdf_pontes_viadutos.explore(\n",
        "    column=\"bridge\",\n",
        "    legend=True,\n",
        "    tiles=\"CartoDB Positron\",\n",
        "    tooltip=[\"name\", \"bridge\"],\n",
        "    style_kwds={\n",
        "        \"color\": \"red\",\n",
        "        \"weight\": 2\n",
        "    }\n",
        ")"
      ]
    },
    {
      "cell_type": "markdown",
      "id": "9d40267a",
      "metadata": {
        "id": "9d40267a"
      },
      "source": [
        "Para visualizar as arestas do grafo de forma interativa, podemos utilizar uma ferramenta de exploração que colore as arestas de acordo com o comprimento de cada segmento. Esse tipo de visualização ajuda a identificar facilmente trechos de diferentes extensões, facilitando a análise visual da rede viária."
      ]
    },
    {
      "cell_type": "code",
      "execution_count": null,
      "id": "a9dfd74c",
      "metadata": {
        "id": "a9dfd74c"
      },
      "outputs": [],
      "source": [
        "# Explorar as arestas do grafo interativamente, coloridas por comprimento\n",
        "edges.explore(tiles=\"CartoDB Positron\", column=\"length\", cmap=\"plasma\")"
      ]
    },
    {
      "cell_type": "markdown",
      "id": "21c567db",
      "metadata": {
        "id": "21c567db"
      },
      "source": [
        "Podemos também visualizar as arestas coloridas de acordo com o tipo de via. Essa visualização facilita a identificação visual dos diferentes tipos de vias presentes na rede, como ruas residenciais, avenidas principais, rodovias, entre outros."
      ]
    },
    {
      "cell_type": "code",
      "execution_count": null,
      "id": "a63e5118",
      "metadata": {
        "id": "a63e5118"
      },
      "outputs": [],
      "source": [
        "# Converter valores da coluna \"highway\" para string, caso contenham listas\n",
        "edges[\"highway\"] = edges[\"highway\"].apply(lambda x: ', '.join(x) if isinstance(x, list) else x)\n",
        "\n",
        "# Explorar as arestas do grafo interativamente, coloridas por tipo de via\n",
        "edges.explore(tiles=\"cartodbdarkmatter\", column=\"highway\", cmap=\"tab20b\")\n"
      ]
    },
    {
      "cell_type": "markdown",
      "id": "76534e15",
      "metadata": {
        "id": "76534e15"
      },
      "source": [
        "Para observar apenas as vias residenciais, podemos acessar o grafo filtrando este tipo de via e o visualizamos:"
      ]
    },
    {
      "cell_type": "code",
      "execution_count": null,
      "id": "5c0bcabc",
      "metadata": {
        "id": "5c0bcabc"
      },
      "outputs": [],
      "source": [
        "# Baixar o grafo da rede viária apenas com ruas residenciais\n",
        "grafo_residencial = ox.graph_from_place(bairro, network_type=\"all\", custom_filter='[\"highway\"=\"residential\"]')\n",
        "\n",
        "# Converter o grafo para GeoDataFrames de nós e arestas\n",
        "nodes, edges = ox.graph_to_gdfs(grafo_residencial)\n",
        "\n",
        "# Visualizar as arestas do grafo residencial com .explore()\n",
        "edges.explore(\n",
        "    tiles=\"CartoDB Positron\",  # Define o tipo de mapa de fundo\n",
        "    edge_color=\"blue\",         # Define a cor das arestas\n",
        "    edge_width=2,              # Define a espessura das linhas\n",
        "    popup_attribute=\"name\",    # Exibe o nome da rua ao passar o mouse\n",
        ")"
      ]
    },
    {
      "cell_type": "markdown",
      "id": "4c4927bd",
      "metadata": {
        "id": "4c4927bd"
      },
      "source": [
        "Para filtrar as ruas de acordo com limites de velocidade específicos, como `maxspeed` igual a 40 km/h, aplicamos um filtro para selecionar apenas esses segmentos e destacá-los no mapa:"
      ]
    },
    {
      "cell_type": "code",
      "execution_count": null,
      "id": "60f77b1a",
      "metadata": {
        "id": "60f77b1a"
      },
      "outputs": [],
      "source": [
        "# Filtrar apenas as vias com maxspeed igual a '40'\n",
        "gdf_maxspeed_40 = gdf_arestas[gdf_arestas['maxspeed'].apply(lambda x: '40' in x if isinstance(x, list) else x == '40')]\n",
        "\n",
        "# Plotar as vias com maxspeed 40 usando explore()\n",
        "gdf_maxspeed_40.explore(\n",
        "    tiles=\"CartoDB Positron\",       # Define o tipo de  mapa de fundo\n",
        "    color=\"red\",                    # Cor para as vias filtradas\n",
        "    legend=False,                   # Não exibir legenda, pois estamos mostrando apenas um valor de maxspeed\n",
        "    tooltip=\"maxspeed\",             # Exibir o valor de maxspeed ao passar o mouse\n",
        "    style_kwds={\n",
        "        \"weight\": 3,                # Espessura das linhas para melhor visualização\n",
        "        \"opacity\": 0.8              # Opacidade das linhas\n",
        "    }\n",
        ")"
      ]
    },
    {
      "cell_type": "markdown",
      "id": "fb3ef4ff",
      "metadata": {
        "id": "fb3ef4ff"
      },
      "source": [
        "Além disso, para visualizar vias que possuem um único valor de `maxspeed` (sem listas de valores), aplicamos um filtro adicional e usamos uma paleta de cores para representar diferentes limites de velocidade:"
      ]
    },
    {
      "cell_type": "code",
      "execution_count": null,
      "id": "4dc483aa",
      "metadata": {
        "id": "4dc483aa"
      },
      "outputs": [],
      "source": [
        "# Filtrar apenas as vias com um único valor de maxspeed (não armazenado como lista)\n",
        "gdf_maxspeed_unico = gdf_arestas[gdf_arestas['maxspeed'].apply(lambda x: isinstance(x, str))]\n",
        "\n",
        "# Plotar as vias com maxspeed único usando explore()\n",
        "gdf_maxspeed_unico.explore(\n",
        "    tiles=\"CartoDB Positron\",       # Define o tipo de  mapa de fundo\n",
        "    column=\"maxspeed\",              # Coluna para diferenciar as vias por velocidade\n",
        "    cmap=\"plasma\",                  # Usar uma paleta de cores para diferenciar os valores de maxspeed\n",
        "    legend=True,                    # Exibir legenda para os valores de maxspeed\n",
        "    tooltip=\"maxspeed\",             # Exibir o valor de maxspeed ao passar o mouse\n",
        "    style_kwds={\n",
        "        \"weight\": 2,                # Espessura das linhas para melhor visualização\n",
        "        \"opacity\": 0.9              # Opacidade das linhas\n",
        "    }\n",
        ")"
      ]
    },
    {
      "cell_type": "markdown",
      "id": "98f1d2bd",
      "metadata": {
        "id": "98f1d2bd"
      },
      "source": [
        "No OpenStreetMap (OSM), o atributo `maxspeed` é utilizado para armazenar o limite de velocidade permitido em um segmento de via. A forma como esse valor é armazenado depende da quantidade de velocidades registradas para o segmento:\n",
        "\n",
        "- **Quando há apenas um limite de velocidade**, o valor é armazenado como um único número (por exemplo, `50`), representando uma velocidade fixa para todo o trecho.\n",
        "- **Quando há mais de um limite de velocidade**, o valor é armazenado como uma lista (por exemplo, `['30', '50']`), indicando diferentes limites para seções específicas ou direções da via.\n",
        "\n",
        "Essa diferença na estrutura dos dados pode dificultar consultas e visualizações, pois requer que o código trate esses casos de maneira diferenciada. Ao realizar uma análise ou criar visualizações com base no limite de velocidade, é necessário verificar se o valor é um número único ou uma lista. Caso contrário, algumas vias podem ser omitidas ou processadas incorretamente, comprometendo a precisão dos resultados."
      ]
    }
  ],
  "metadata": {
    "kernelspec": {
      "display_name": "Python 3 (ipykernel)",
      "language": "python",
      "name": "python3"
    },
    "language_info": {
      "codemirror_mode": {
        "name": "ipython",
        "version": 3
      },
      "file_extension": ".py",
      "mimetype": "text/x-python",
      "name": "python",
      "nbconvert_exporter": "python",
      "pygments_lexer": "ipython3",
      "version": "3.9.20"
    },
    "colab": {
      "provenance": []
    }
  },
  "nbformat": 4,
  "nbformat_minor": 5
}