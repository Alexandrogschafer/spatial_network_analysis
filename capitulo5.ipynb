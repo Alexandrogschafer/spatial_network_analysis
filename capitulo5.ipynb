{
  "cells": [
    {
      "cell_type": "markdown",
      "id": "f8d0d70e",
      "metadata": {
        "id": "f8d0d70e"
      },
      "source": [
        "# 5. MAPEAMENTO DE ISÓCRONAS PARA ANÁLISE DE ACESSIBILIDADE ESPACIAL\n",
        "\n",
        "\n",
        "## 5.1 Introdução\n",
        "\n",
        "Uma **isócrona** é uma representação espacial que delimita áreas acessíveis dentro de um intervalo de tempo, distância ou custo, a partir de um ponto específico em uma rede, como redes viárias, ferroviárias, hidrográficas, de transporte público ou até mesmo redes não físicas, como as de telecomunicações ou energia. Essas representações são amplamente utilizadas em análises de acessibilidade, conectividade e alcance, desempenhando um importante papel no planejamento urbano, na logística, no transporte e em outras áreas.\n",
        "\n",
        "O cálculo de isócronas baseia-se em grafos que modelam as redes espaciais. Esses grafos são compostos por nós, que representam interseções ou pontos de interesse, e arestas, que correspondem às conexões entre os nós, como ruas, rotas de transporte ou tubulações (conforme estudamos em capítulos anteriores). Cada aresta possui um peso associado, como tempo de deslocamento, distância ou custos específicos. A partir de um ponto de origem, algoritmos como Dijkstra ou A* são utilizados para identificar os nós que podem ser alcançados dentro do intervalo especificado, conectando-os para formar um polígono que representa a isócrona.\n",
        "\n",
        "As isócronas possuem diversas aplicações práticas. No transporte público, ajudam a identificar a cobertura do sistema e localizar áreas com baixa acessibilidade. Em logística, são utilizadas para planejar zonas de entrega com base em tempos de deslocamento. No planejamento urbano, auxiliam na avaliação da acessibilidade a serviços essenciais, como postos de saúde ou escolas. Em redes de energia, permitem analisar a abrangência do fornecimento de uma subestação. Na análise ambiental, podem modelar a propagação de poluentes em rios ou a acessibilidade a áreas de conservação. Em telecomunicações, ajudam a avaliar o alcance de sinais de internet ou a latência em redes.\n",
        "\n",
        "\n",
        "### 5.1.1 Envoltórias convexas vs. Buffers: Métodos para delimitação de isócronas\n",
        "\n",
        "O cálculo de isócronas em redes espaciais pode ser realizado utilizando duas abordagens principais: **envoltórias convexas (convex hull)** e **buffers**. Cada uma apresenta características, vantagens e limitações, sendo indicada conforme o nível de precisão e o objetivo da análise.\n",
        "\n",
        "\n",
        "**Envoltórias Convexas (Convex Hull)**\n",
        "\n",
        "A abordagem de **envoltórias convexas** gera um polígono que envolve todos os pontos acessíveis dentro de um intervalo de tempo ou distância especificado. A envoltória convexa é a menor forma convexa que contém esses pontos.\n",
        "\n",
        "**Características:**\n",
        "- **Simplicidade**: É rápido e computacionalmente eficiente.\n",
        "- **Forma geométrica**: Conecta os pontos acessíveis com bordas externas, sem considerar áreas inacessíveis ou restrições da rede.\n",
        "- **Limitação**: Inclui áreas que podem não ser alcançáveis na prática, especialmente em redes com geometrias irregulares ou com barreiras físicas.\n",
        "\n",
        "**Uso indicado:**  \n",
        "As envoltórias convexas são adequadas para análises exploratórias ou aproximações rápidas, onde alta precisão não é necessária.\n",
        "\n",
        "\n",
        "\n",
        "**Buffers**\n",
        "\n",
        "A abordagem de **buffers** delimita uma área de influência em torno das arestas ou nós de acesso, respeitando as geometrias reais da rede espacial. Dessa maneira, o resultado reflete com maior fidelidade os limites da acessibilidade.\n",
        "\n",
        "**Características:**\n",
        "- **Precisão**: Gera uma representação detalhada, capturando apenas as áreas próximas às vias ou pontos de acesso.\n",
        "- **Flexibilidade**: Permite ajustes no tamanho do buffer para diferentes cenários, como vias mais largas ou estreitas.\n",
        "- **Custo computacional**: É mais exigente em termos de processamento, especialmente em redes densas ou grandes áreas.\n",
        "\n",
        "**Uso indicado:**  \n",
        "Os buffers são preferíveis quando é necessária uma análise detalhada da acessibilidade, como em estudos urbanos ou planejamento de serviços essenciais.\n",
        "\n",
        "\n",
        "\n",
        "**Comparação entre envoltórias convexas e buffers**\n",
        "\n",
        "| **Aspecto**             | **Envoltória convexa**                      | **Buffers**                               |\n",
        "|-------------------------|------------------------------------------|------------------------------------------|\n",
        "| **Precisão**            | Aproximada                              | Alta                                     |\n",
        "| **Complexidade**        | Baixa                                   | Moderada                                 |\n",
        "| **Velocidade**          | Alta                                    | Menor                                    |\n",
        "| **Adequação**           | Análises rápidas e exploratórias        | Estudos detalhados e precisos            |\n",
        "\n",
        "\n",
        "\n",
        "\n",
        "\n",
        "\n",
        "### 5.1.2 A biblioteca OSMnx\n",
        "\n",
        "\n",
        "Ferramentas computacionais são indispensáveis para calcular e analisar isócronas. Bibliotecas como OSMnx e NetworkX, em Python, permitem modelar redes complexas e realizar análises de acessibilidade. Softwares de geoprocessamento, como QGIS e ArcGIS, também oferecem funcionalidades para a geração de isócronas a partir de dados espaciais. Além disso, APIs especializadas, como Google Maps API e OpenRouteService API, integram cálculos de isócronas a sistemas automatizados.\n",
        "\n",
        "\n",
        "No **OSMnx**, o cálculo de isócronas envolve a criação de um grafo de rede espacial, a definição de um ponto de origem e a aplicação de algoritmos de busca para identificar as áreas acessíveis dentro de um intervalo de tempo ou distância. A seguir, explico o processo de forma estruturada:\n",
        "\n",
        "a. **Obtenção da Rede Espacial**  \n",
        "   O OSMnx utiliza dados do **OpenStreetMap** para construir um grafo que representa a rede espacial. Essa rede pode ser viária, cicloviária, de transporte público, entre outras. O grafo é estruturado da seguinte maneira:  \n",
        "   - **Nós**: representam interseções ou pontos de mudança de rota.  \n",
        "   - **Arestas**: correspondem aos segmentos que conectam os nós e incluem atributos relevantes, como comprimento, velocidade permitida, tipo de via ou qualquer outra métrica associada ao deslocamento.\n",
        "\n",
        "b. **Definição do Ponto de Origem**  \n",
        "   O ponto de origem é a localização a partir da qual se deseja calcular a acessibilidade. Esse ponto é convertido para o nó correspondente no grafo, garantindo que os cálculos sejam realizados diretamente na rede modelada.\n",
        "\n",
        "c. **Cálculo das Isócronas**  \n",
        "   Utilizam-se algoritmos de busca, como **Dijkstra** ou **A***, para calcular as distâncias ou tempos de deslocamento a partir do ponto de origem até outros nós da rede. Com base no intervalo especificado (por exemplo, 15 minutos ou 2 km), identifica-se um subconjunto de nós que atendem ao critério de acessibilidade.\n",
        "\n",
        "d. **Formação da Isócrona**  \n",
        "   Os nós de acesso são conectados para formar um polígono que representa a isócrona. Este polígono pode ser visualizado sobre uma figura para facilitar a análise.\n",
        "\n",
        "\n",
        "\n",
        "\n",
        "## 5.2 Análise de acessibilidade e isócronas\n",
        "\n",
        "\n",
        "Vamos explorar técnicas para calcular e visualizar isócronas em redes viárias urbanas utilizando a biblioteca OSMnx e ferramentas geoespaciais, analisaremos a acessibilidade com base no **tempo de viagem** e **distância percorrida**, considerando dois cenários distintos:\n",
        "\n",
        "a. **Cenário 1: Isócronas a partir do Centróide do Bairro**  \n",
        "   Calcularemos isócronas utilizando dois métodos:\n",
        "   - **Convex Hull**: Criação de uma envoltória convexa ao redor dos nós e arestas alcançáveis.\n",
        "   - **Buffers**: Aplicação de áreas de buffer em torno de nós e arestas para delimitar as isócronas.  \n",
        "   Nesses cálculos, o ponto central será o **centróide do bairro da Liberdade**. A análise considerará diferentes tempos de viagem e distâncias para identificar áreas acessíveis a pé.\n",
        "\n",
        "b. **Cenário 2: Isócronas a partir de um Hospital**  \n",
        "   Neste exemplo, definiremos um ponto de interesse específico: um **hospital no bairro da Liberdade**, em São Paulo. A partir desse ponto, calcularemos isócronas utilizando o método de **buffers** para identificar áreas acessíveis em função do tempo de viagem e da distância percorrida. O objetivo é avaliar a acessibilidade a pé para a população ao redor do hospital.\n",
        "\n",
        "\n",
        "Em ambos os cenários, trabalharemos com as seguintes etapas principais:\n",
        "- **Preparação dos Dados**: Configuração do grafo da rede viária e escolha do ponto central (centróide ou hospital).\n",
        "- **Cálculo das Isócronas**: Geração de polígonos representando áreas acessíveis usando os métodos selecionados.\n",
        "- **Visualização dos Resultados**: Plotagem das isócronas sobre o grafo da rede viária, destacando áreas alcançáveis e o ponto de origem.\n",
        "\n",
        "\n",
        "\n",
        "Antes de iniciar, é necessário garantir que a biblioteca OSMnx e seus pacotes dependentes estão instalados no ambiente. Para isso, execute o comando:"
      ]
    },
    {
      "cell_type": "code",
      "execution_count": null,
      "id": "84a08619",
      "metadata": {
        "id": "84a08619"
      },
      "outputs": [],
      "source": [
        "!pip install osmnx"
      ]
    },
    {
      "cell_type": "markdown",
      "id": "6c490a43",
      "metadata": {
        "id": "6c490a43"
      },
      "source": [
        "As bibliotecas abaixo são usadas para manipular e visualizar dados geoespaciais, além de realizar cálculos na rede."
      ]
    },
    {
      "cell_type": "code",
      "execution_count": null,
      "id": "34bb32f3",
      "metadata": {
        "id": "34bb32f3"
      },
      "outputs": [],
      "source": [
        "import geopandas as gpd\n",
        "import matplotlib.pyplot as plt\n",
        "import networkx as nx\n",
        "import osmnx as ox\n",
        "from shapely.geometry import Point, Polygon, LineString\n",
        "from shapely.ops import transform\n",
        "from pyproj import Transformer\n",
        "from matplotlib.lines import Line2D"
      ]
    },
    {
      "cell_type": "markdown",
      "id": "6e7b9a6d",
      "metadata": {
        "id": "6e7b9a6d"
      },
      "source": [
        "As análises serão realizadas no bairro da Liberdade, São Paulo. Utilizaremos o grafo correspondente a rede viária para pedestres (tipo_rede = \"walk\")."
      ]
    },
    {
      "cell_type": "code",
      "execution_count": null,
      "id": "9e406200",
      "metadata": {
        "id": "9e406200"
      },
      "outputs": [],
      "source": [
        "# Obter o grafo\n",
        "bairro = \"Liberdade, São Paulo, Brazil\"\n",
        "grafo_rede_viaria = ox.graph_from_place(bairro, network_type='walk')"
      ]
    },
    {
      "cell_type": "markdown",
      "id": "c62be00f",
      "metadata": {
        "id": "c62be00f"
      },
      "source": [
        "Vamos reprojetar o grafo para um sistema de coordenadas plano, facilitando cálculos de distância."
      ]
    },
    {
      "cell_type": "code",
      "execution_count": null,
      "id": "9951c678",
      "metadata": {
        "id": "9951c678"
      },
      "outputs": [],
      "source": [
        "# Reprojetar o grafo\n",
        "grafo_rede_viaria = ox.project_graph(grafo_rede_viaria)\n",
        "\n",
        "# Plotar o grafo\n",
        "fig, ax = ox.plot_graph(grafo_rede_viaria)\n",
        "plt.show()"
      ]
    },
    {
      "cell_type": "markdown",
      "id": "4128b4f1",
      "metadata": {
        "id": "4128b4f1"
      },
      "source": [
        "## 5.3 Cálculo de isócronas com base no centróide\n",
        "\n",
        "\n",
        "Nesta seção, calcularemos as isócronas a partir do **centróide do bairro da Liberdade**, utilizando dois métodos distintos: **Envoltória convexa (Convex Hull)** e **Buffers**. Esses métodos serão aplicados considerando tanto **tempos de viagem** quanto **distâncias percorridas**.\n",
        "\n",
        "\n",
        "\n",
        "### 5.3.1 Parâmetros e preparação para cálculo das isócronas\n",
        "\n",
        "Inicialmente, definimos os seguintes parâmetros:\n",
        "- Velocidade de deslocamento (em km/h).\n",
        "- Tempos de viagem (em minutos) ou distâncias de deslocamento (em metros)."
      ]
    },
    {
      "cell_type": "code",
      "execution_count": null,
      "id": "27a0f536",
      "metadata": {
        "id": "27a0f536"
      },
      "outputs": [],
      "source": [
        "velocidade_deslocamento = 4.5  # Velocidade de caminhada em km/h\n",
        "tempos_viagem = [5, 10, 15, 20]  # Tempos de viagem em minutos\n",
        "distancias_deslocamento = [300, 600, 900, 1200]  # Distâncias de deslocamento em metros"
      ]
    },
    {
      "cell_type": "markdown",
      "id": "bd0cbdb6",
      "metadata": {
        "id": "bd0cbdb6"
      },
      "source": [
        "O nodo central é definido com base no centróide geométrico da área de interesse."
      ]
    },
    {
      "cell_type": "code",
      "execution_count": null,
      "id": "0977500b",
      "metadata": {
        "id": "0977500b"
      },
      "outputs": [],
      "source": [
        "nodos_gdf = ox.graph_to_gdfs(grafo_rede_viaria, edges=False)\n",
        "x, y = nodos_gdf[\"geometry\"].unary_union.centroid.xy\n",
        "nodo_central = ox.distance.nearest_nodes(grafo_rede_viaria, x[0], y[0])"
      ]
    },
    {
      "cell_type": "markdown",
      "id": "e2ed35c0",
      "metadata": {
        "id": "e2ed35c0"
      },
      "source": [
        "Vamos adicionar uma métrica de tempo de viagem às arestas do grafo com base na velocidade de deslocamento e no comprimento das arestas."
      ]
    },
    {
      "cell_type": "code",
      "execution_count": null,
      "id": "1b318e56",
      "metadata": {
        "id": "1b318e56"
      },
      "outputs": [],
      "source": [
        "metros_por_minuto = velocidade_deslocamento * 1000 / 60  # Converter km/h para m/min\n",
        "for _, _, _, dados in grafo_rede_viaria.edges(data=True, keys=True):\n",
        "    if \"length\" in dados:\n",
        "        dados[\"tempo_viagem\"] = dados[\"length\"] / metros_por_minuto"
      ]
    },
    {
      "cell_type": "markdown",
      "id": "3f9cf01f",
      "metadata": {
        "id": "3f9cf01f"
      },
      "source": [
        "Verifique os atributos disponíveis nas arestas para garantir que o tempo de viagem foi adicionado corretamente."
      ]
    },
    {
      "cell_type": "code",
      "execution_count": null,
      "id": "7e3412bc",
      "metadata": {
        "id": "7e3412bc"
      },
      "outputs": [],
      "source": [
        "atributos_arestas = list(next(iter(grafo_rede_viaria.edges(data=True)))[2].keys())\n",
        "print(\"Atributos das arestas:\", atributos_arestas)"
      ]
    },
    {
      "cell_type": "markdown",
      "id": "3bf32100",
      "metadata": {
        "id": "3bf32100"
      },
      "source": [
        "Vamos trabalhar nas configurações de plotagem dos mapas de isócronas."
      ]
    },
    {
      "cell_type": "code",
      "execution_count": null,
      "id": "073bc641",
      "metadata": {
        "id": "073bc641"
      },
      "outputs": [],
      "source": [
        "# Obter uma lista de cores para as isócronas\n",
        "cores_isocronas = ox.plot.get_colors(n=len(tempos_viagem), cmap=\"plasma\", start=0)\n",
        "\n",
        "cores_nodos = {}\n",
        "for tempo_viagem, cor in zip(sorted(tempos_viagem, reverse=True), cores_isocronas):\n",
        "    subgrafo = nx.ego_graph(grafo_rede_viaria, nodo_central, radius=tempo_viagem, distance=\"tempo\")\n",
        "    for nodo in subgrafo.nodes():\n",
        "        cores_nodos[nodo] = cor\n",
        "\n",
        "# Define as cores e tamanhos dos nós\n",
        "cores_nodos_final = [cores_nodos[nodo] if nodo in cores_nodos else \"none\" for nodo in grafo_rede_viaria.nodes()]\n",
        "tamanhos_nodos = [15 if nodo in cores_nodos else 0 for nodo in grafo_rede_viaria.nodes()]"
      ]
    },
    {
      "cell_type": "markdown",
      "id": "c24fef29",
      "metadata": {
        "id": "c24fef29"
      },
      "source": [
        "Por fim, plotaremos a figura."
      ]
    },
    {
      "cell_type": "code",
      "execution_count": null,
      "id": "b2183fd7",
      "metadata": {
        "id": "b2183fd7"
      },
      "outputs": [],
      "source": [
        "# Plotar o grafo\n",
        "figura, eixo = ox.plot_graph(\n",
        "    grafo_rede_viaria,\n",
        "    node_color=cores_nodos_final,\n",
        "    node_size=tamanhos_nodos,\n",
        "    node_alpha=0.8,\n",
        "    edge_linewidth=0.2,\n",
        "    edge_color=\"#999999\",\n",
        "    show=False,\n",
        "    close=False,\n",
        ")\n",
        "\n",
        "# Adicionar o ponto central ao gráfico\n",
        "nodo_central_x, nodo_central_y = grafo_rede_viaria.nodes[nodo_central][\"x\"], grafo_rede_viaria.nodes[nodo_central][\"y\"]\n",
        "eixo.scatter(nodo_central_x, nodo_central_y, c=\"red\", s=100, zorder=10, label=\"Ponto Central\")\n",
        "\n",
        "# Adicionar a legenda\n",
        "plt.legend(loc=\"upper right\")\n",
        "\n",
        "# Mostrar o gráfico\n",
        "plt.show()"
      ]
    },
    {
      "cell_type": "markdown",
      "id": "b5857bff",
      "metadata": {
        "id": "b5857bff"
      },
      "source": [
        "### 5.3.2 Cálculo de isócronas utilizando a envoltória convexa\n",
        "\n",
        "\n",
        "### 5.3.2.1 Isócronas a partir de envoltória convexa considerando o tempo de viagem\n",
        "\n",
        "Para gerar as isócronas, inicialmente havíamos definido intervalos de tempo. Estes intevalos determinam os limites de deslocamento a partir de um ponto na rede viária. Para cada intervalo de tempo, cria-se um **subgrafo** contendo os nós acessíveis dentro do limite especificado. As coordenadas desses nós são utilizadas para formar polígonos que delimitam as áreas alcançáveis. Os polígonos gerados são armazenados em um `GeoDataFrame` para facilitar a manipulação e visualização.\n",
        "\n",
        "Para cada intervalo de tempo, criaremos um subgrafo e um polígono delimitador baseado nos nós acessíveis."
      ]
    },
    {
      "cell_type": "code",
      "execution_count": null,
      "id": "e7c8b690",
      "metadata": {
        "id": "e7c8b690"
      },
      "outputs": [],
      "source": [
        "\n",
        "# Lista para armazenar os polígonos de isócrona por tempo de viagem\n",
        "poligonos_isocronas_tempo = []\n",
        "\n",
        "# Itera sobre os tempos em ordem decrescente\n",
        "for tempo in sorted(tempos_viagem, reverse=True):\n",
        "    subgrafo = nx.ego_graph(grafo_rede_viaria, nodo_central, radius=tempo, distance=\"tempo_viagem\")\n",
        "    pontos_nodos = [Point((dados[\"x\"], dados[\"y\"])) for nodo, dados in subgrafo.nodes(data=True)]\n",
        "\n",
        "    if pontos_nodos:\n",
        "        poligono_limite = gpd.GeoSeries(pontos_nodos).union_all().convex_hull\n",
        "        poligonos_isocronas_tempo.append(poligono_limite)\n",
        "\n"
      ]
    },
    {
      "cell_type": "markdown",
      "id": "2f46b2a3",
      "metadata": {
        "id": "2f46b2a3"
      },
      "source": [
        "Um `GeoDataFrame` armazena os polígonos gerados."
      ]
    },
    {
      "cell_type": "code",
      "execution_count": null,
      "id": "1cc9866e",
      "metadata": {
        "id": "1cc9866e"
      },
      "outputs": [],
      "source": [
        "gdf_isocronas = gpd.GeoDataFrame(geometry=poligonos_isocronas_tempo)"
      ]
    },
    {
      "cell_type": "markdown",
      "id": "2ffa8039",
      "metadata": {
        "id": "2ffa8039"
      },
      "source": [
        "Por fim, plotamos as isócronas."
      ]
    },
    {
      "cell_type": "code",
      "execution_count": null,
      "id": "f9e5aa73",
      "metadata": {
        "id": "f9e5aa73"
      },
      "outputs": [],
      "source": [
        "figura, eixo = ox.plot_graph(\n",
        "    grafo_rede_viaria, show=False, close=False, edge_color=\"#999999\", edge_alpha=0.2, node_size=0\n",
        ")\n",
        "gdf_isocronas.plot(ax=eixo, color=cores_isocronas, ec=\"none\", alpha=0.6, zorder=-1)\n",
        "eixo.scatter(\n",
        "    nodo_central_x, nodo_central_y, c=\"red\", s=100, zorder=10, label=\"Ponto Central\"\n",
        ")\n",
        "\n",
        "# A legenda apresenta os intervalos de tempo e o ponto central.\n",
        "legenda_tempos = [\n",
        "    Line2D([0], [0], color=cores_isocronas[i], lw=7, label=f\"≤ {tempo} min\")\n",
        "    for i, tempo in enumerate(sorted(tempos_viagem, reverse=True))\n",
        "]\n",
        "plt.legend(\n",
        "    handles=legenda_tempos + [Line2D([0], [0], marker=\"o\", color=\"red\", label=\"Ponto Central\", markersize=10)],\n",
        "    loc=\"upper right\"\n",
        ")\n",
        "\n",
        "# Por fim, o gráfico é exibido com as isócronas destacadas e a legenda.\n",
        "\n",
        "plt.show()"
      ]
    },
    {
      "cell_type": "markdown",
      "id": "92293463",
      "metadata": {
        "id": "92293463"
      },
      "source": [
        "### 5.3.2.2 Isócronas a partir de envoltória convexa considerando a distância percorrida\n",
        "\n",
        "Agora vamos calcular as isócronas com base na distância percorrida. Essas distâncias foram definidas no início de nosso código (variável *distancias_deslocamento*).\n",
        "\n",
        "Inicialmente criamos uma lista para armazenar os polígonos delimitando as áreas alcançáveis para cada distância. Para cada valor de distância, um subgrafo contendo os nós acessíveis dentro do limite especificado é criado. Em seguida, um polígono delimitador é gerado."
      ]
    },
    {
      "cell_type": "code",
      "execution_count": null,
      "id": "cac15a6e",
      "metadata": {
        "id": "cac15a6e"
      },
      "outputs": [],
      "source": [
        "\n",
        "# Lista para armazenar os polígonos das isócronas\n",
        "poligonos_isocronas_dist = []\n",
        "\n",
        "# Gerar os polígonos das isócronas usando convex hull\n",
        "for distancia in sorted(distancias_deslocamento, reverse=True):\n",
        "    # Criar subgrafo com nós acessíveis dentro da distância\n",
        "    subgrafo = nx.ego_graph(\n",
        "        grafo_rede_viaria, nodo_central, radius=distancia, distance=\"length\"\n",
        "    )\n",
        "\n",
        "    # Converter os nós do subgrafo em pontos (x, y)\n",
        "    pontos_nodos = [Point((dados[\"x\"], dados[\"y\"])) for _, dados in subgrafo.nodes(data=True)]\n",
        "\n",
        "    if pontos_nodos:\n",
        "        # Usar union_all() no lugar de unary_union\n",
        "        poligono_limite = gpd.GeoSeries(pontos_nodos).union_all().convex_hull\n",
        "        poligonos_isocronas_dist.append(poligono_limite)\n",
        "    else:\n",
        "        print(f\"Aviso: Nenhum nó encontrado para a distância de {distancia} metros.\")\n",
        "\n",
        "# Criar GeoDataFrame com os polígonos das isócronas\n",
        "gdf_isocronas_dist = gpd.GeoDataFrame(geometry=poligonos_isocronas_dist)\n",
        "\n"
      ]
    },
    {
      "cell_type": "markdown",
      "id": "b139876e",
      "metadata": {
        "id": "b139876e"
      },
      "source": [
        "Por fim, plotamos as isócronas."
      ]
    },
    {
      "cell_type": "code",
      "execution_count": null,
      "id": "d1cc7a15",
      "metadata": {
        "id": "d1cc7a15"
      },
      "outputs": [],
      "source": [
        "# Criar a figura e o eixo para o gráfico\n",
        "figura, eixo = ox.plot_graph(\n",
        "    grafo_rede_viaria, show=False, close=False, edge_color=\"#999999\", edge_alpha=0.2, node_size=0\n",
        ")\n",
        "\n",
        "# Plotar os polígonos das isócronas no gráfico\n",
        "gdf_isocronas_dist.plot(\n",
        "    ax=eixo, color=cores_isocronas[:len(poligonos_isocronas_dist)], ec=\"none\", alpha=0.6, zorder=-1\n",
        ")\n",
        "\n",
        "# Adicionar o ponto central ao gráfico\n",
        "nodo_central_x = grafo_rede_viaria.nodes[nodo_central][\"x\"]\n",
        "nodo_central_y = grafo_rede_viaria.nodes[nodo_central][\"y\"]\n",
        "eixo.scatter(\n",
        "    nodo_central_x, nodo_central_y, c=\"red\", s=100, zorder=10, label=\"Ponto Central\"\n",
        ")\n",
        "\n",
        "# Criar a legenda para as isócronas\n",
        "legenda_distancia = [\n",
        "    Line2D([0], [0], color=cores_isocronas[i], lw=7, label=f\"≤ {distancia} m\")\n",
        "    for i, distancia in enumerate(sorted(distancias_deslocamento, reverse=True))\n",
        "]\n",
        "\n",
        "# Adicionar a legenda ao gráfico\n",
        "plt.legend(\n",
        "    handles=legenda_distancia + [Line2D([0], [0], marker=\"o\", color=\"red\", label=\"Ponto Central\", markersize=10)],\n",
        "    loc=\"upper right\"\n",
        ")\n",
        "\n",
        "# Exibir o gráfico\n",
        "plt.show()\n"
      ]
    },
    {
      "cell_type": "markdown",
      "id": "29eafc2c",
      "metadata": {
        "id": "29eafc2c"
      },
      "source": [
        "### 5.3.3 Cálculo de isócronas a partir de Buffers\n",
        "\n",
        "\n",
        "Neste método, utilizamos buffers (áreas ao redor de nós e arestas) para criar as isócronas, ao invés de um polígono delimitador como o **Convex Hull**.\n",
        "\n",
        "Para calcular as isócronas a partir de buffers, inicialmente criaremos uma função, que chamaremos de  `gerar_poligonos_isocronas`. Essa função gerará polígonos de isócronas com base em valores de uma métrica, aplicando buffers às arestas e nós.\n",
        "\n",
        "A métrica refere-se a uma variável ou atributo utilizado para medir distâncias ou tempos dentro de uma rede. No contexto de análise de redes viárias, as métricas mais comuns são:\n",
        "\n",
        "- Tempo de Viagem: Representa o tempo necessário para percorrer uma aresta (rua, caminho, etc.) com base em uma velocidade média de deslocamento.\n",
        "- Distância Percorrida: Refere-se ao comprimento físico das arestas, geralmente medido em metros.\n",
        "\n",
        "\n",
        "A função utiliza a **topologia do grafo** e a **geometria das conexões** para criar representações precisas das áreas alcançáveis, baseando-se no intervalo definido para a métrica escolhida, como o **tempo de viagem** ou a **distância percorrida**. O processo transforma as informações da rede em polígonos que delimitam visualmente as isócronas.\n",
        "\n",
        "**Como Funciona o Processo**\n",
        "\n",
        "a. **Identificação de Subgrafos pela Métrica**:  \n",
        "   A função calcula um subgrafo, contendo todos os nós e arestas alcançáveis a partir do ponto central, de acordo com o limite imposto pela métrica selecionada (por exemplo, `\"tempo_viagem\"` ou `\"length\"`).\n",
        "\n",
        "b. **Aplicação de Buffers**:  \n",
        "   Buffers são aplicados em torno de:\n",
        "   - **Nós**: Representando áreas acessíveis ao redor de interseções.\n",
        "   - **Arestas**: Representando a largura das vias.  \n",
        "   Essa etapa transforma a rede viária em áreas contínuas, simulando acessibilidade espacial.\n",
        "\n",
        "c. **Criação do Polígono**:  \n",
        "   As geometrias geradas pelos buffers são combinadas para formar um único polígono que representa a isócrona. Se a opção de preenchimento for ativada, furos internos são removidos, garantindo uma representação mais uniforme e contínua.\n",
        "\n",
        "\n",
        "\n",
        "Abaixo temos o código para a criação da função."
      ]
    },
    {
      "cell_type": "code",
      "execution_count": null,
      "id": "28626d12",
      "metadata": {
        "id": "28626d12"
      },
      "outputs": [],
      "source": [
        "def gerar_poligonos_isocronas(\n",
        "    grafo, nodo_central, valores_metrica, metrica=\"tempo\", buffer_arestas=25, buffer_nodos=0, preencher=True\n",
        "):\n",
        "    poligonos_isocronas = []\n",
        "\n",
        "    for valor in sorted(valores_metrica, reverse=True):\n",
        "        subgrafo = nx.ego_graph(grafo, nodo_central, radius=valor, distance=metrica)\n",
        "\n",
        "        pontos_nodos = [\n",
        "            Point((dados[\"x\"], dados[\"y\"])) for _, dados in subgrafo.nodes(data=True)\n",
        "            if \"x\" in dados and \"y\" in dados\n",
        "        ]\n",
        "        nodos_gdf = gpd.GeoDataFrame({\"id\": list(subgrafo.nodes)}, geometry=pontos_nodos).set_index(\"id\")\n",
        "\n",
        "        linhas_arestas = []\n",
        "        for nodo_de, nodo_para in subgrafo.edges():\n",
        "            dados_aresta = grafo.get_edge_data(nodo_de, nodo_para)\n",
        "            if dados_aresta:\n",
        "                geometria_aresta = dados_aresta.get(0, {}).get(\n",
        "                    \"geometry\",\n",
        "                    LineString([nodos_gdf.loc[nodo_de].geometry, nodos_gdf.loc[nodo_para].geometry])\n",
        "                )\n",
        "                linhas_arestas.append(geometria_aresta)\n",
        "\n",
        "        # Buffers\n",
        "        buffers_nodos = nodos_gdf.buffer(buffer_nodos).geometry\n",
        "        buffers_arestas = gpd.GeoSeries(linhas_arestas).buffer(buffer_arestas).geometry\n",
        "\n",
        "        todas_geometrias = list(buffers_nodos) + list(buffers_arestas)\n",
        "\n",
        "        # Atualizado para evitar DeprecationWarning\n",
        "        nova_isocrona = gpd.GeoSeries(todas_geometrias).union_all()\n",
        "\n",
        "        if preencher and isinstance(nova_isocrona, Polygon):\n",
        "            nova_isocrona = Polygon(nova_isocrona.exterior)  # remove buracos internos\n",
        "\n",
        "        poligonos_isocronas.append(nova_isocrona)\n",
        "\n",
        "    return poligonos_isocronas\n"
      ]
    },
    {
      "cell_type": "markdown",
      "id": "80b08304",
      "metadata": {
        "id": "80b08304"
      },
      "source": [
        "Vamos a uma explicação detalhada do código acima.\n",
        "\n",
        "**Parâmetros da Função**\n",
        "- **`grafo`**: O grafo da rede viária (do tipo NetworkX), geralmente obtido com OSMnx.\n",
        "- **`nodo_central`**: O ponto de partida para calcular as isócronas.\n",
        "- **`valores_metrica`**: Lista de valores (tempo ou distância) que definem os limites de cada isócrona.\n",
        "- **`metrica`**: Nome do atributo usado para calcular os limites (`\"tempo\"` ou `\"length\"`).\n",
        "- **`buffer_arestas`**: Raio do buffer aplicado às arestas, representando largura das vias (em metros).\n",
        "- **`buffer_nodos`**: Raio do buffer aplicado aos nós, representando áreas ao redor de interseções (em metros).\n",
        "- **`preencher`**: Se **True**, remove buracos internos nos polígonos para obter isócronas preenchidas.\n",
        "\n",
        "**Retorno**\n",
        "- Lista de polígonos das isócronas, representando as áreas alcançáveis para cada valor da métrica.\n",
        "\n",
        "\n",
        "Para cada valor da métrica (tempo ou distância), a função:\n",
        "- Cria um **subgrafo** contendo nós e arestas acessíveis dentro do limite definido.\n",
        "- Extrai as coordenadas dos nós para formar geometrias pontuais.\n",
        "- Gera geometrias de linhas para as arestas.\n",
        "\n",
        "```python\n",
        "for valor in sorted(valores_metrica, reverse=True):\n",
        "    subgrafo = nx.ego_graph(grafo, nodo_central, radius=valor, distance=metrica)\n",
        "    pontos_nodos = [Point((dados[\"x\"], dados[\"y\"])) for _, dados in subgrafo.nodes(data=True) if \"x\" in dados and \"y\" in dados]\n",
        "```\n",
        "\n",
        "\n",
        "Buffers são gerados em torno de:\n",
        "1. **Nós**: Representando áreas ao redor de interseções.\n",
        "2. **Arestas**: Representando a largura das vias.\n",
        "\n",
        "```python\n",
        "buffers_nodos = nodos_gdf.buffer(buffer_nodos).geometry\n",
        "buffers_arestas = gpd.GeoSeries(linhas_arestas).buffer(buffer_arestas).geometry\n",
        "```\n",
        "\n",
        "\n",
        "As geometrias de nós e arestas são combinadas para formar um polígono de isócrona. Caso solicitado, furos internos no polígono são removidos:\n",
        "```python\n",
        "todas_geometrias = list(buffers_nodos) + list(buffers_arestas)\n",
        "nova_isocrona = gpd.GeoSeries(todas_geometrias).unary_union\n",
        "\n",
        "if preencher and isinstance(nova_isocrona, Polygon):\n",
        "    nova_isocrona = Polygon(nova_isocrona.exterior)  # Remove furos internos\n",
        "```\n",
        "\n",
        "\n",
        "O polígono gerado é adicionado à lista final de isócronas:\n",
        "```python\n",
        "poligonos_isocronas.append(nova_isocrona)\n",
        "```\n",
        "\n",
        "\n",
        "\n",
        "\n",
        "\n",
        "### 5.3.3.1 Isócronas a partir de buffer considerando o tempo de viagem\n",
        "\n",
        "\n",
        "Para o cálculo de isócronas a partir de buffer considerando o tempo de viagem, inicialmente chamamos a função `gerar_poligonos_isocronas`, que gerará os polígonos das isócronas. Como vimos acima, os parâmetros incluem o grafo da rede, o nó central, os valores de tempo de viagem e os tamanhos de buffer aplicados às arestas e nós."
      ]
    },
    {
      "cell_type": "code",
      "execution_count": null,
      "id": "433aee9f",
      "metadata": {
        "id": "433aee9f"
      },
      "outputs": [],
      "source": [
        "poligonos_tempo = gerar_poligonos_isocronas(\n",
        "    grafo=grafo_rede_viaria,\n",
        "    nodo_central=nodo_central,\n",
        "    valores_metrica=tempos_viagem,\n",
        "    metrica=\"tempo_viagem\",  # Baseado no tempo de viagem\n",
        "    buffer_arestas=20,  # Buffer nas arestas (em metros)\n",
        "    buffer_nodos=0,  # Buffer nos nós (em metros)\n",
        "    preencher=True  # Preencher os polígonos\n",
        ")"
      ]
    },
    {
      "cell_type": "markdown",
      "id": "8dcc3df7",
      "metadata": {
        "id": "8dcc3df7"
      },
      "source": [
        "Cada polígono é associado a um tempo máximo de viagem. Para verificar o resultado, os polígonos são exibidos no console."
      ]
    },
    {
      "cell_type": "code",
      "execution_count": null,
      "id": "cbef90ed",
      "metadata": {
        "id": "cbef90ed"
      },
      "outputs": [],
      "source": [
        "for i, poligono in enumerate(poligonos_tempo):\n",
        "    print(f\"Isócrona para tempo ≤ {tempos_viagem[i]} minutos:\", poligono)"
      ]
    },
    {
      "cell_type": "markdown",
      "id": "ea253558",
      "metadata": {
        "id": "ea253558"
      },
      "source": [
        "Os polígonos gerados são armazenados em um `GeoDataFrame` para facilitar a manipulação e visualização."
      ]
    },
    {
      "cell_type": "code",
      "execution_count": null,
      "id": "23743907",
      "metadata": {
        "id": "23743907"
      },
      "outputs": [],
      "source": [
        "gdf_isocronas_tempo = gpd.GeoDataFrame(geometry=poligonos_tempo)"
      ]
    },
    {
      "cell_type": "markdown",
      "id": "cfaebbbe",
      "metadata": {
        "id": "cfaebbbe"
      },
      "source": [
        "Por fim, plotaremos as isócronas."
      ]
    },
    {
      "cell_type": "code",
      "execution_count": null,
      "id": "81182e6f",
      "metadata": {
        "id": "81182e6f"
      },
      "outputs": [],
      "source": [
        "# Definir cores das isócronas\n",
        "cores_isocronas = ox.plot.get_colors(n=len(tempos_viagem), cmap=\"plasma\", start=0)\n",
        "\n",
        "# Plotar a rede viária e os polígonos das isócronas\n",
        "figura, eixo = ox.plot_graph(\n",
        "    grafo_rede_viaria, show=False, close=False, edge_color=\"#999999\", edge_alpha=0.2, node_size=0\n",
        ")\n",
        "gdf_isocronas_tempo.plot(ax=eixo, color=cores_isocronas, ec=\"none\", alpha=0.6, zorder=-1)\n",
        "\n",
        "# Adicionar o ponto central ao gráfico\n",
        "nodo_central_x, nodo_central_y = grafo_rede_viaria.nodes[nodo_central][\"x\"], grafo_rede_viaria.nodes[nodo_central][\"y\"]\n",
        "eixo.scatter(nodo_central_x, nodo_central_y, c=\"red\", s=100, zorder=10, label=\"Ponto Central\")\n",
        "\n",
        "\n",
        "\n",
        "# Criar a legenda com cores associadas aos tempos de viagem\n",
        "legenda_tempos = [\n",
        "    Line2D([0], [0], color=cores_isocronas[i], lw=7, label=f\"≤ {tempo} min\")\n",
        "    for i, tempo in enumerate(sorted(tempos_viagem, reverse=True))\n",
        "]\n",
        "\n",
        "# Adicionar o ponto central à legenda\n",
        "legenda_ponto_central = Line2D([0], [0], marker=\"o\", color=\"red\", label=\"Ponto Central\", markersize=10)\n",
        "\n",
        "# Adicionar a legenda ao gráfico\n",
        "plt.legend(\n",
        "    handles=legenda_tempos + [legenda_ponto_central],\n",
        "    loc=\"upper right\"\n",
        ")\n",
        "\n",
        "# Mostrar o gráfico\n",
        "plt.show()"
      ]
    },
    {
      "cell_type": "markdown",
      "id": "2c88cd9c",
      "metadata": {
        "id": "2c88cd9c"
      },
      "source": [
        "### 5.3.2.2 Isócronas a partir de buffer considerando a distância percorrida\n",
        "\n",
        "Agora vamos calcular as isócronas tendo como base as distâncias percorridas.\n",
        "\n",
        "\n",
        "Utilizamos a função `gerar_poligonos_isocronas` para criar os polígonos das isócronas com base na distância, utilizando parâmetros específicos como a métrica escolhida (`\"length\"`):"
      ]
    },
    {
      "cell_type": "code",
      "execution_count": null,
      "id": "6a71c517",
      "metadata": {
        "id": "6a71c517"
      },
      "outputs": [],
      "source": [
        "poligonos_distancia = gerar_poligonos_isocronas(\n",
        "    grafo=grafo_rede_viaria,\n",
        "    nodo_central=nodo_central,\n",
        "    valores_metrica=distancias_deslocamento,\n",
        "    metrica=\"length\",  # Baseado na distância\n",
        "    buffer_arestas=20,  # Buffer nas arestas (em metros)\n",
        "    buffer_nodos=5,  # Buffer nos nós (em metros)\n",
        "    preencher=True  # Preencher os polígonos\n",
        ")"
      ]
    },
    {
      "cell_type": "markdown",
      "id": "e289c19a",
      "metadata": {
        "id": "e289c19a"
      },
      "source": [
        "Cada polígono é associado a um limite máximo de distância. Os polígonos são impressos no console para validação."
      ]
    },
    {
      "cell_type": "code",
      "execution_count": null,
      "id": "b0b0205e",
      "metadata": {
        "id": "b0b0205e"
      },
      "outputs": [],
      "source": [
        "for i, poligono in enumerate(poligonos_distancia):\n",
        "    print(f\"Isócrona para distância ≤ {distancias_deslocamento[i]} metros:\", poligono)"
      ]
    },
    {
      "cell_type": "markdown",
      "id": "88d15cf8",
      "metadata": {
        "id": "88d15cf8"
      },
      "source": [
        "Os polígonos das isócronas são armazenados em um `GeoDataFrame` para manipulação e visualização."
      ]
    },
    {
      "cell_type": "code",
      "execution_count": null,
      "id": "0a209872",
      "metadata": {
        "id": "0a209872"
      },
      "outputs": [],
      "source": [
        "gdf_isocronas_distancia = gpd.GeoDataFrame(geometry=poligonos_distancia)"
      ]
    },
    {
      "cell_type": "markdown",
      "id": "e547eda3",
      "metadata": {
        "id": "e547eda3"
      },
      "source": [
        "Por fim, plotamos as isócronas."
      ]
    },
    {
      "cell_type": "code",
      "execution_count": null,
      "id": "59031633",
      "metadata": {
        "id": "59031633"
      },
      "outputs": [],
      "source": [
        "# Definir cores das isócronas\n",
        "cores_isocronas = ox.plot.get_colors(n=len(distancias_deslocamento), cmap=\"plasma\", start=0)\n",
        "\n",
        "# Plotar a rede viária e os polígonos das isócronas\n",
        "figura, eixo = ox.plot_graph(\n",
        "    grafo_rede_viaria, show=False, close=False, edge_color=\"#999999\", edge_alpha=0.2, node_size=0\n",
        ")\n",
        "gdf_isocronas_distancia.plot(ax=eixo, color=cores_isocronas, ec=\"none\", alpha=0.6, zorder=-1)\n",
        "\n",
        "# Adicionar o ponto central ao gráfico\n",
        "nodo_central_x, nodo_central_y = grafo_rede_viaria.nodes[nodo_central][\"x\"], grafo_rede_viaria.nodes[nodo_central][\"y\"]\n",
        "eixo.scatter(nodo_central_x, nodo_central_y, c=\"red\", s=100, zorder=10, label=\"Ponto Central\")\n",
        "\n",
        "# Criar a legenda com cores associadas às distâncias de deslocamento\n",
        "legenda_distancias = [\n",
        "    Line2D([0], [0], color=cores_isocronas[i], lw=7, label=f\"≤ {distancia} m\")\n",
        "    for i, distancia in enumerate(sorted(distancias_deslocamento, reverse=True))\n",
        "]\n",
        "\n",
        "# Adicionar o ponto central à legenda\n",
        "legenda_ponto_central = Line2D([0], [0], marker=\"o\", color=\"red\", label=\"Ponto Central\", markersize=10)\n",
        "\n",
        "# Adicionar a legenda ao gráfico\n",
        "plt.legend(\n",
        "    handles=legenda_distancias + [legenda_ponto_central],\n",
        "    loc=\"upper right\"\n",
        ")\n",
        "\n",
        "# Mostrar o gráfico\n",
        "plt.show()"
      ]
    },
    {
      "cell_type": "markdown",
      "id": "1208d6ba",
      "metadata": {
        "id": "1208d6ba"
      },
      "source": [
        "## 5.4 Cálculo de isócronas com base em um ponto de interesse\n",
        "\n",
        "Neste exemplo, calcularemos as isócronas de acessibilidade a partir do Hospital A. C. Camargo Câncer Center, localizado no bairro da Liberdade, em São Paulo. O objetivo é identificar as áreas acessíveis a pé a partir deste ponto, considerando diferentes tempos de deslocamento e distâncias. As etapas envolvem a identificação do hospital, a localização do ponto de interesse no grafo da rede viária e a geração das isócronas.\n",
        "\n",
        "\n",
        "### 5.4.1 Identificação e seleção do ponto de interesse\n",
        "\n",
        "\n",
        "Utilizaremos a tag `{\"amenity\": \"hospital\"}` para buscar edifícios classificados como hospitais na região definida."
      ]
    },
    {
      "cell_type": "code",
      "execution_count": null,
      "id": "8d7e7351",
      "metadata": {
        "id": "8d7e7351"
      },
      "outputs": [],
      "source": [
        "# Definir a tag para buscar contornos de edifícios\n",
        "tags = {\"amenity\": \"hospital\"}\n",
        "\n",
        "# Extraindo contornos de edifícios no bairro da Liberdade\n",
        "gdf_hospitais = ox.features_from_place(bairro, tags)\n",
        "print(gdf_hospitais.shape)  # Exibe o número de edifícios encontrados\n",
        "gdf_hospitais.head()"
      ]
    },
    {
      "cell_type": "markdown",
      "id": "8970517e",
      "metadata": {
        "id": "8970517e"
      },
      "source": [
        "Os hospitais encontrados são exibidos em um gráfico para inspeção."
      ]
    },
    {
      "cell_type": "code",
      "execution_count": null,
      "id": "10a66275",
      "metadata": {
        "id": "10a66275"
      },
      "outputs": [],
      "source": [
        "# Visualizar os hospitais encontrados\n",
        "gdf_hospitais.plot()"
      ]
    },
    {
      "cell_type": "markdown",
      "id": "ac375277",
      "metadata": {
        "id": "ac375277"
      },
      "source": [
        "Filtramos o hospital de interesse pelo seu identificador único (id)."
      ]
    },
    {
      "cell_type": "code",
      "execution_count": null,
      "id": "44ab51be",
      "metadata": {
        "id": "44ab51be"
      },
      "outputs": [],
      "source": [
        "# Filtrar o hospital de interesse pelo seu identificador único\n",
        "hospital_id = 277076508\n",
        "gdf_hospitais = gdf_hospitais.reset_index()  # Redefinir o índice para usar o \"osmid\" como coluna\n",
        "hospital = gdf_hospitais[gdf_hospitais[\"id\"] == hospital_id]\n",
        "\n",
        "# Verificar se o hospital foi encontrado\n",
        "if hospital.empty:\n",
        "    print(\"Hospital não encontrado.\")\n",
        "else:\n",
        "    hospital_coords = hospital.geometry.iloc[0]\n",
        "    print(f\"Hospital selecionado: {hospital['name'].iloc[0]}\")"
      ]
    },
    {
      "cell_type": "markdown",
      "id": "c4dcb668",
      "metadata": {
        "id": "c4dcb668"
      },
      "source": [
        "O hospital selecionado é visualizado para garantir que as coordenadas estão corretas."
      ]
    },
    {
      "cell_type": "code",
      "execution_count": null,
      "id": "c8e35920",
      "metadata": {
        "id": "c8e35920"
      },
      "outputs": [],
      "source": [
        "# Visualizar o hospital selecionado\n",
        "hospital.plot()"
      ]
    },
    {
      "cell_type": "markdown",
      "id": "49e37965",
      "metadata": {
        "id": "49e37965"
      },
      "source": [
        "Verificamos e ajustamos o sistema de referência espacial (CRS) do grafo da rede viária para garantir compatibilidade com as coordenadas do hospital."
      ]
    },
    {
      "cell_type": "code",
      "execution_count": null,
      "id": "b6f0a9e9",
      "metadata": {
        "id": "b6f0a9e9"
      },
      "outputs": [],
      "source": [
        "# Verificar o sistema de referência espacial (CRS) do grafo\n",
        "print(\"CRS do grafo (grafo_rede_viaria):\", grafo_rede_viaria.graph[\"crs\"])\n",
        "\n",
        "# Verificar o tipo de geometria do hospital\n",
        "print(\"Tipo de geometria:\", type(hospital_coords))\n"
      ]
    },
    {
      "cell_type": "markdown",
      "id": "e6f1a9ba",
      "metadata": {
        "id": "e6f1a9ba"
      },
      "source": [
        "Para manipular as coordenadas do hospital, criamos um `GeoDataFrame` temporário assumindo o sistema de referência espacial (CRS) inicial como **WGS84 (EPSG:4326)**, que é o padrão do Open Street Map."
      ]
    },
    {
      "cell_type": "code",
      "execution_count": null,
      "id": "9862e3bc",
      "metadata": {
        "id": "9862e3bc"
      },
      "outputs": [],
      "source": [
        "gdf_hospital = gpd.GeoDataFrame(geometry=[hospital_coords], crs=\"EPSG:4326\")"
      ]
    },
    {
      "cell_type": "markdown",
      "id": "debb9327",
      "metadata": {
        "id": "debb9327"
      },
      "source": [
        "Como o grafo da rede viária está em um sistema de projeção diferente, reprojetamos as coordenadas do hospital para coincidir."
      ]
    },
    {
      "cell_type": "code",
      "execution_count": null,
      "id": "d56095f1",
      "metadata": {
        "id": "d56095f1"
      },
      "outputs": [],
      "source": [
        "gdf_hospital = gdf_hospital.to_crs(grafo_rede_viaria.graph[\"crs\"])"
      ]
    },
    {
      "cell_type": "markdown",
      "id": "c655d661",
      "metadata": {
        "id": "c655d661"
      },
      "source": [
        "Após a reprojeção, as novas coordenadas do hospital são extraídas."
      ]
    },
    {
      "cell_type": "code",
      "execution_count": null,
      "id": "455e84f8",
      "metadata": {
        "id": "455e84f8"
      },
      "outputs": [],
      "source": [
        "hospital_coords_reprojetado = gdf_hospital.geometry.iloc[0]"
      ]
    },
    {
      "cell_type": "markdown",
      "id": "901bbbdb",
      "metadata": {
        "id": "901bbbdb"
      },
      "source": [
        "Caso o hospital tenha uma geometria complexa (por exemplo, um polígono), o centróide da área é calculado para representar sua posição central."
      ]
    },
    {
      "cell_type": "code",
      "execution_count": null,
      "id": "db12593b",
      "metadata": {
        "id": "db12593b"
      },
      "outputs": [],
      "source": [
        "centroide_hospital = hospital_coords_reprojetado.centroid"
      ]
    },
    {
      "cell_type": "markdown",
      "id": "0f121b4c",
      "metadata": {
        "id": "0f121b4c"
      },
      "source": [
        "Com o centróide, utilizamos a função `nearest_nodes` do OSMnx para localizar o nó mais próximo na rede viária."
      ]
    },
    {
      "cell_type": "code",
      "execution_count": null,
      "id": "fdee6176",
      "metadata": {
        "id": "fdee6176"
      },
      "outputs": [],
      "source": [
        "nodo_central = ox.distance.nearest_nodes(\n",
        "    grafo_rede_viaria,\n",
        "    X=centroide_hospital.x,\n",
        "    Y=centroide_hospital.y\n",
        ")"
      ]
    },
    {
      "cell_type": "markdown",
      "id": "cef17816",
      "metadata": {
        "id": "cef17816"
      },
      "source": [
        "Exibimos os sistemas de referência espacial e as coordenadas reprojetadas para validação."
      ]
    },
    {
      "cell_type": "code",
      "execution_count": null,
      "id": "66c7ae64",
      "metadata": {
        "id": "66c7ae64"
      },
      "outputs": [],
      "source": [
        "print(\"CRS do grafo (grafo_rede_viaria):\", grafo_rede_viaria.graph[\"crs\"])\n",
        "print(\"CRS do hospital reprojetado:\", gdf_hospital.crs)\n",
        "print(\"Centróide do hospital reprojetado (X, Y):\", centroide_hospital.x, centroide_hospital.y)\n",
        "print(\"Nó mais próximo ao centróide:\", nodo_central)"
      ]
    },
    {
      "cell_type": "markdown",
      "id": "d7e2cf5f",
      "metadata": {
        "id": "d7e2cf5f"
      },
      "source": [
        "Para visualização, criamos um gráfico que inclui a rede viária, o polígono do hospital, o centróide do hospital e o nó mais próximo ao centróide."
      ]
    },
    {
      "cell_type": "code",
      "execution_count": null,
      "id": "7b6af70b",
      "metadata": {
        "id": "7b6af70b"
      },
      "outputs": [],
      "source": [
        "# Plotar o grafo\n",
        "figura, eixo = ox.plot_graph(\n",
        "    grafo_rede_viaria, show=False, close=False, edge_color=\"#999999\", edge_alpha=0.5, node_size=0\n",
        ")\n",
        "\n",
        "# Adicionar o polígono do hospital ao mapa\n",
        "gdf_hospital.plot(ax=eixo, facecolor=\"lightblue\", edgecolor=\"blue\", alpha=0.7, zorder=2, label=\"Hospital\")\n",
        "\n",
        "# Adicionar o centróide do hospital\n",
        "plt.scatter(\n",
        "    centroide_hospital.x,\n",
        "    centroide_hospital.y,\n",
        "    c=\"red\",\n",
        "    s=100,\n",
        "    zorder=3,\n",
        "    label=\"Centróide do Hospital\"\n",
        ")\n",
        "\n",
        "# Adicionar o nó mais próximo\n",
        "nodo_x = grafo_rede_viaria.nodes[nodo_central][\"x\"]\n",
        "nodo_y = grafo_rede_viaria.nodes[nodo_central][\"y\"]\n",
        "plt.scatter(\n",
        "    nodo_x,\n",
        "    nodo_y,\n",
        "    c=\"orange\",\n",
        "    s=100,\n",
        "    zorder=4,\n",
        "    label=\"Nó Mais Próximo\"\n",
        ")\n",
        "\n",
        "# Configurações de legenda e título\n",
        "plt.legend()\n",
        "plt.title(\"Grafo, Hospital, Centróide e Nó Mais Próximo\")\n",
        "plt.show()"
      ]
    },
    {
      "cell_type": "markdown",
      "id": "85d8e9a0",
      "metadata": {
        "id": "85d8e9a0"
      },
      "source": [
        "### 5.4.2 Isócronas considerando o tempo de viagem\n",
        "\n",
        "\n",
        "Para gerar as isócronas com base no tempo de viagem, inicialmente vamos definir a velocidade de deslocamento e os tempos de viagem que delimitam as isócronas."
      ]
    },
    {
      "cell_type": "code",
      "execution_count": null,
      "id": "e4cd361e",
      "metadata": {
        "id": "e4cd361e"
      },
      "outputs": [],
      "source": [
        "velocidade_deslocamento = 4  # Velocidade de caminhada em km/h\n",
        "tempos_viagem = [6, 12, 18, 24]  # Tempos de viagem em minutos"
      ]
    },
    {
      "cell_type": "markdown",
      "id": "755b3462",
      "metadata": {
        "id": "755b3462"
      },
      "source": [
        "A função `gerar_poligonos_isocronas` é utilizada para criar áreas alcançáveis a partir do ponto central na rede, baseando-se no tempo de viagem."
      ]
    },
    {
      "cell_type": "code",
      "execution_count": null,
      "id": "3335d4c1",
      "metadata": {
        "id": "3335d4c1"
      },
      "outputs": [],
      "source": [
        "poligonos_tempo = gerar_poligonos_isocronas(\n",
        "    grafo=grafo_rede_viaria,\n",
        "    nodo_central=nodo_central,\n",
        "    valores_metrica=tempos_viagem,\n",
        "    metrica=\"tempo_viagem\",  # Baseado no tempo de viagem\n",
        "    buffer_arestas=20,  # Buffer nas arestas (em metros)\n",
        "    buffer_nodos=5,  # Buffer nos nós (em metros)\n",
        "    preencher=True  # Preencher os polígonos\n",
        ")"
      ]
    },
    {
      "cell_type": "markdown",
      "id": "a9502d5f",
      "metadata": {
        "id": "a9502d5f"
      },
      "source": [
        "As isócronas geradas são exibidas no console para inspeção."
      ]
    },
    {
      "cell_type": "code",
      "execution_count": null,
      "id": "2a527f4e",
      "metadata": {
        "id": "2a527f4e"
      },
      "outputs": [],
      "source": [
        "for i, poligono in enumerate(poligonos_tempo):\n",
        "    print(f\"Isócrona para tempo ≤ {tempos_viagem[i]} minutos:\", poligono)"
      ]
    },
    {
      "cell_type": "markdown",
      "id": "7d2907d8",
      "metadata": {
        "id": "7d2907d8"
      },
      "source": [
        "Os polígonos das isócronas são armazenados em um `GeoDataFrame` para facilitar a manipulação e a plotagem."
      ]
    },
    {
      "cell_type": "code",
      "execution_count": null,
      "id": "0d4be1ab",
      "metadata": {
        "id": "0d4be1ab"
      },
      "outputs": [],
      "source": [
        "gdf_isocronas_tempo = gpd.GeoDataFrame(geometry=poligonos_tempo)"
      ]
    },
    {
      "cell_type": "markdown",
      "id": "cf034474",
      "metadata": {
        "id": "cf034474"
      },
      "source": [
        "Por fim, plotamos as isócronas."
      ]
    },
    {
      "cell_type": "code",
      "execution_count": null,
      "id": "88fad864",
      "metadata": {
        "id": "88fad864"
      },
      "outputs": [],
      "source": [
        "# Definir cores das isócronas\n",
        "cores_isocronas = ox.plot.get_colors(n=len(tempos_viagem), cmap=\"plasma\", start=0)\n",
        "\n",
        "# Plotar a rede viária e os polígonos das isócronas\n",
        "figura, eixo = ox.plot_graph(\n",
        "    grafo_rede_viaria, show=False, close=False, edge_color=\"#999999\", edge_alpha=0.2, node_size=0\n",
        ")\n",
        "gdf_isocronas_tempo.plot(ax=eixo, color=cores_isocronas, ec=\"none\", alpha=0.6, zorder=-1)\n",
        "\n",
        "# Adicionar o ponto central ao gráfico\n",
        "nodo_central_x, nodo_central_y = grafo_rede_viaria.nodes[nodo_central][\"x\"], grafo_rede_viaria.nodes[nodo_central][\"y\"]\n",
        "eixo.scatter(nodo_central_x, nodo_central_y, c=\"red\", s=100, zorder=10, label=\"Ponto Central\")\n",
        "\n",
        "# Criar a legenda com cores associadas aos tempos de viagem\n",
        "legenda_tempos = [\n",
        "    Line2D([0], [0], color=cores_isocronas[i], lw=7, label=f\"≤ {tempo} min\")\n",
        "    for i, tempo in enumerate(sorted(tempos_viagem, reverse=True))\n",
        "]\n",
        "\n",
        "# Adicionar o ponto central à legenda\n",
        "legenda_ponto_central = Line2D([0], [0], marker=\"o\", color=\"red\", label=\"Ponto Central\", markersize=10)\n",
        "\n",
        "# Adicionar a legenda ao gráfico\n",
        "plt.legend(\n",
        "    handles=legenda_tempos + [legenda_ponto_central],\n",
        "    loc=\"upper right\"\n",
        ")\n",
        "\n",
        "# Mostrar o gráfico\n",
        "plt.show()"
      ]
    },
    {
      "cell_type": "markdown",
      "id": "83a88fb6",
      "metadata": {
        "id": "83a88fb6"
      },
      "source": [
        "### 5.4.3 Isócronas considerando a distância percorrida\n",
        "\n",
        "Para gerar as isócronas com base na distância percorrida, inicialmente vamos definir os valores de distâncias em metros que delimitam as isócronas."
      ]
    },
    {
      "cell_type": "code",
      "execution_count": null,
      "id": "13bef64f",
      "metadata": {
        "id": "13bef64f"
      },
      "outputs": [],
      "source": [
        "distancias_deslocamento = [400, 800, 1200, 1600]  # Distâncias em metros"
      ]
    },
    {
      "cell_type": "markdown",
      "id": "e8bbadd9",
      "metadata": {
        "id": "e8bbadd9"
      },
      "source": [
        "A função `gerar_poligonos_isocronas` é utilizada para criar áreas alcançáveis a partir do ponto central na rede, baseando-se na distância percorrida."
      ]
    },
    {
      "cell_type": "code",
      "execution_count": null,
      "id": "4c1fcdf1",
      "metadata": {
        "id": "4c1fcdf1"
      },
      "outputs": [],
      "source": [
        "poligonos_distancia = gerar_poligonos_isocronas(\n",
        "    grafo=grafo_rede_viaria,\n",
        "    nodo_central=nodo_central,\n",
        "    valores_metrica=distancias_deslocamento,\n",
        "    metrica=\"length\",  # Baseado na distância\n",
        "    buffer_arestas=20,  # Buffer nas arestas (em metros)\n",
        "    buffer_nodos=5,  # Buffer nos nós (em metros)\n",
        "    preencher=True  # Preencher os polígonos\n",
        ")"
      ]
    },
    {
      "cell_type": "markdown",
      "id": "eb7c926c",
      "metadata": {
        "id": "eb7c926c"
      },
      "source": [
        "As isócronas criadas são exibidas no console para verificar o resultado."
      ]
    },
    {
      "cell_type": "code",
      "execution_count": null,
      "id": "ce7f10a2",
      "metadata": {
        "id": "ce7f10a2"
      },
      "outputs": [],
      "source": [
        "for i, poligono in enumerate(poligonos_distancia):\n",
        "    print(f\"Isócrona para distância ≤ {distancias_deslocamento[i]} metros:\", poligono)"
      ]
    },
    {
      "cell_type": "markdown",
      "id": "e0692e3a",
      "metadata": {
        "id": "e0692e3a"
      },
      "source": [
        "Os polígonos das isócronas são armazenados em um `GeoDataFrame` para facilitar a manipulação e a plotagem."
      ]
    },
    {
      "cell_type": "code",
      "execution_count": null,
      "id": "3878d3a6",
      "metadata": {
        "id": "3878d3a6"
      },
      "outputs": [],
      "source": [
        "gdf_isocronas_distancia = gpd.GeoDataFrame(geometry=poligonos_distancia)"
      ]
    },
    {
      "cell_type": "markdown",
      "id": "df08da49",
      "metadata": {
        "id": "df08da49"
      },
      "source": [
        "Por fim, plotamos as isócronas."
      ]
    },
    {
      "cell_type": "code",
      "execution_count": null,
      "id": "2c9e4034",
      "metadata": {
        "id": "2c9e4034"
      },
      "outputs": [],
      "source": [
        "# Definir cores das isócronas\n",
        "cores_isocronas = ox.plot.get_colors(n=len(distancias_deslocamento), cmap=\"plasma\", start=0)\n",
        "\n",
        "# Plotar a rede viária e os polígonos das isócronas\n",
        "figura, eixo = ox.plot_graph(\n",
        "    grafo_rede_viaria, show=False, close=False, edge_color=\"#999999\", edge_alpha=0.2, node_size=0\n",
        ")\n",
        "gdf_isocronas_distancia.plot(ax=eixo, color=cores_isocronas, ec=\"none\", alpha=0.6, zorder=-1)\n",
        "\n",
        "# Adicionar o ponto central ao gráfico\n",
        "nodo_central_x, nodo_central_y = grafo_rede_viaria.nodes[nodo_central][\"x\"], grafo_rede_viaria.nodes[nodo_central][\"y\"]\n",
        "eixo.scatter(nodo_central_x, nodo_central_y, c=\"red\", s=100, zorder=10, label=\"Ponto Central\")\n",
        "\n",
        "# Criar a legenda com cores associadas às distâncias de deslocamento\n",
        "legenda_distancias = [\n",
        "    Line2D([0], [0], color=cores_isocronas[i], lw=7, label=f\"≤ {distancia} m\")\n",
        "    for i, distancia in enumerate(sorted(distancias_deslocamento, reverse=True))\n",
        "]\n",
        "\n",
        "# Adicionar o ponto central à legenda\n",
        "legenda_ponto_central = Line2D([0], [0], marker=\"o\", color=\"red\", label=\"Ponto Central\", markersize=10)\n",
        "\n",
        "# Adicionar a legenda ao gráfico\n",
        "plt.legend(\n",
        "    handles=legenda_distancias + [legenda_ponto_central],\n",
        "    loc=\"upper right\"\n",
        ")\n",
        "\n",
        "# Mostrar o gráfico\n",
        "plt.show()"
      ]
    }
  ],
  "metadata": {
    "kernelspec": {
      "display_name": "Python 3 (ipykernel)",
      "language": "python",
      "name": "python3"
    },
    "language_info": {
      "codemirror_mode": {
        "name": "ipython",
        "version": 3
      },
      "file_extension": ".py",
      "mimetype": "text/x-python",
      "name": "python",
      "nbconvert_exporter": "python",
      "pygments_lexer": "ipython3",
      "version": "3.9.20"
    },
    "colab": {
      "provenance": []
    }
  },
  "nbformat": 4,
  "nbformat_minor": 5
}