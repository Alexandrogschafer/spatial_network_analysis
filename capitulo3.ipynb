{
  "cells": [
    {
      "cell_type": "markdown",
      "id": "be268a4a",
      "metadata": {
        "id": "be268a4a"
      },
      "source": [
        "# 3. MÉTRICAS E INDICADORES DE REDES\n",
        "\n",
        "\n",
        "## 3.1 Obtenção e análise preliminar da rede viária\n",
        "\n",
        "\n",
        "Inicialmente, instalamos a OSMnx no Google Colab."
      ]
    },
    {
      "cell_type": "code",
      "execution_count": null,
      "id": "9ca2a3f4",
      "metadata": {
        "id": "9ca2a3f4"
      },
      "outputs": [],
      "source": [
        "!pip install osmnx"
      ]
    },
    {
      "cell_type": "markdown",
      "id": "9f569603",
      "metadata": {
        "id": "9f569603"
      },
      "source": [
        "Em seguida, importamos as bibliotecas necessárias para análise e visualização de redes. Além disso, configuramos o OSMnx para utilizar cache e exibir logs no console. Essas configurações facilitam o trabalho com redes urbanas."
      ]
    },
    {
      "cell_type": "code",
      "execution_count": null,
      "id": "58e4c004",
      "metadata": {
        "id": "58e4c004"
      },
      "outputs": [],
      "source": [
        "import geopandas as gpd\n",
        "import networkx as nx\n",
        "from networkx import ego_graph\n",
        "import osmnx as ox\n",
        "import matplotlib.pyplot as plt\n",
        "import matplotlib.lines as mlines\n",
        "from matplotlib.lines import Line2D\n",
        "import folium\n",
        "import numpy as np\n",
        "import pandas as pd\n",
        "\n"
      ]
    },
    {
      "cell_type": "markdown",
      "id": "ce263b93",
      "metadata": {
        "id": "ce263b93"
      },
      "source": [
        "A análise será realizada no bairro da Liberdade, localizado em São Paulo, Brasil. Esse local será utilizado para obter a rede viária correspondente."
      ]
    },
    {
      "cell_type": "code",
      "execution_count": null,
      "id": "afd7e090",
      "metadata": {
        "id": "afd7e090"
      },
      "outputs": [],
      "source": [
        "bairro = \"Liberdade, São Paulo, Brasil\""
      ]
    },
    {
      "cell_type": "markdown",
      "id": "fba1c0e2",
      "metadata": {
        "id": "fba1c0e2"
      },
      "source": [
        "Utilizamos a função `graph_from_place` do OSMnx para capturar a rede de ruas com o tipo de rede \"drive\" (ruas acessíveis por veículos motorizados)."
      ]
    },
    {
      "cell_type": "code",
      "execution_count": null,
      "id": "1c8ef015",
      "metadata": {
        "id": "1c8ef015"
      },
      "outputs": [],
      "source": [
        "grafo_rede_viaria = ox.graph_from_place(bairro, network_type='drive')"
      ]
    },
    {
      "cell_type": "markdown",
      "id": "3e70e338",
      "metadata": {
        "id": "3e70e338"
      },
      "source": [
        "Plotamos a rede viária utilizando a função `plot_graph` para ter uma visualização inicial da área de estudo."
      ]
    },
    {
      "cell_type": "code",
      "execution_count": null,
      "id": "22dcbb0d",
      "metadata": {
        "id": "22dcbb0d"
      },
      "outputs": [],
      "source": [
        "fig, ax = ox.plot_graph(grafo_rede_viaria)\n",
        "plt.show()"
      ]
    },
    {
      "cell_type": "markdown",
      "id": "a64b5939",
      "metadata": {
        "id": "a64b5939"
      },
      "source": [
        "A próxima etapa é converter os dados de atributos dos nós e arestas para DataFrames, facilitando a visualização e análise dos mesmos. A função `nodes(data=True)` é usada para extrair os atributos dos nós, que são transformados em um DataFrame."
      ]
    },
    {
      "cell_type": "code",
      "execution_count": null,
      "id": "7c9c952c",
      "metadata": {
        "id": "7c9c952c"
      },
      "outputs": [],
      "source": [
        "df_nos = pd.DataFrame.from_dict(dict(grafo_rede_viaria.nodes(data=True)), orient='index')\n",
        "print(\"Atributos dos Nós:\")\n",
        "print(df_nos.head())"
      ]
    },
    {
      "cell_type": "markdown",
      "id": "32ef53cd",
      "metadata": {
        "id": "32ef53cd"
      },
      "source": [
        "A função `edges(data=True)` é utilizada para extrair os atributos das arestas, que também são transformados em um DataFrame."
      ]
    },
    {
      "cell_type": "code",
      "execution_count": null,
      "id": "362dd184",
      "metadata": {
        "id": "362dd184"
      },
      "outputs": [],
      "source": [
        "df_arestas = pd.DataFrame.from_dict(dict(((u, v), d) for u, v, d in grafo_rede_viaria.edges(data=True)), orient='index')\n",
        "print(\"\\nAtributos das Arestas:\")\n",
        "print(df_arestas.head())"
      ]
    },
    {
      "cell_type": "markdown",
      "id": "1d66b7da",
      "metadata": {
        "id": "1d66b7da"
      },
      "source": [
        "## 3.2 Estatísticas Básicas da Rede Viária\n",
        "\n",
        "\n",
        "\n",
        "As estatísticas básicas de uma rede espacial são métricas que descrevem as características estruturais elementares de uma rede, como sua conectividade, densidade e organização. Redes espaciais podem representar diversos sistemas, incluindo redes de transporte (estradas, ferrovias), redes de distribuição de recursos (água, eletricidade), redes de comunicação ou redes ecológicas. Essas estatísticas fornecem uma visão quantitativa inicial que ajuda a entender como os elementos da rede, como nós e arestas, estão organizados e interconectados no espaço.\n",
        "\n",
        "Essas métricas são fundamentais para analisar a acessibilidade e a eficiência da rede, indicando, por exemplo, a distribuição dos nós (pontos de conexão), a densidade de interconexões entre eles e a complexidade dos caminhos que ligam diferentes elementos. Em redes de transporte, isso pode significar avaliar a facilidade de deslocamento entre pontos; em redes de distribuição, pode ajudar a entender a redundância ou vulnerabilidade do sistema; em redes ecológicas, pode revelar como diferentes habitats estão conectados, facilitando a movimentação de espécies.\n",
        "\n",
        "As estatísticas básicas de uma rede espacial servem como ponto de partida para analisar sua funcionalidade e desempenho. Com elas, pesquisadores, planejadores e engenheiros podem identificar áreas de melhoria, comparar redes de diferentes regiões ou setores e tomar decisões informadas para otimizar a estrutura e a eficiência do sistema analisado. Em resumo, essas estatísticas oferecem uma visão geral que permite uma compreensão inicial e objetiva da organização e conectividade da rede, abrindo caminho para estudos mais aprofundados sobre sua funcionalidade e impacto.\n",
        "\n",
        "Essas estatísticas podem ser agrupadas em três categorias principais: **Estatísticas Topológicas**, **Estatísticas Geométricas** e **Estatísticas Combinadas**. Essa classificação facilita a organização e interpretação das métricas, proporcionando uma visão mais clara dos diferentes aspectos da rede. Na presente seção, iremos calcular as estatísticas básicas para a rede viária do bairro da Liberdade, explorando como cada uma dessas categorias pode revelar características específicas da estrutura e funcionalidade da rede.\n",
        "\n",
        "Nesta seção, iremos calcular as estatísticas básicas para a rede viária do bairro da Liberdade, em São Paulo.\n",
        "\n",
        "\n",
        "\n",
        "Inicialmente, vamos calcular a área de abrangência da rede, pois ela é um parâmetro fundamental para o cálculo de estatísticas de densidade, como densidade de nós, interseções e ruas por quilômetro quadrado. Para isso, transformaremos o polígono referente ao bairro em um GeoDataFrame e calcularemos sua área em metros quadrados."
      ]
    },
    {
      "cell_type": "code",
      "execution_count": null,
      "id": "b0b2ef97",
      "metadata": {
        "id": "b0b2ef97"
      },
      "outputs": [],
      "source": [
        "# Obter a área da rede viária de um local\n",
        "gdf = ox.geocode_to_gdf(bairro)\n",
        "\n",
        "# Área em metros quadrados\n",
        "area = ox.projection.project_gdf(gdf).area"
      ]
    },
    {
      "cell_type": "markdown",
      "id": "4f4ce1ae",
      "metadata": {
        "id": "4f4ce1ae"
      },
      "source": [
        "**Explicação do código:**\n",
        "1. `ox.geocode_to_gdf(bairro)`: converte o nome do bairro em um polígono espacial representado por um GeoDataFrame.\n",
        "2. `ox.projection.project_gdf(gdf).area`: projeta o polígono para um sistema de coordenadas métrico (UTM) e calcula a área em metros quadrados.\n",
        "\n",
        "\n",
        "\n",
        "\n",
        "Em seguida, utilizaremos a função `ox.basic_stats` da biblioteca OSMnx para calcular as estatísticas básicas da rede viária com base no grafo da rede e na área calculada anteriormente."
      ]
    },
    {
      "cell_type": "code",
      "execution_count": null,
      "id": "a6e8a004",
      "metadata": {
        "id": "a6e8a004"
      },
      "outputs": [],
      "source": [
        "# Calcular as estatísticas básicas da rede\n",
        "stats = ox.basic_stats(grafo_rede_viaria, area=area)\n",
        "pd.Series(stats)"
      ]
    },
    {
      "cell_type": "markdown",
      "id": "c8a9192b",
      "metadata": {
        "id": "c8a9192b"
      },
      "source": [
        "**Explicação do código:**\n",
        "1. `ox.basic_stats(grafo_rede_viaria, area=area)`: calcula as estatísticas básicas, considerando a área fornecida.\n",
        "2. `pd.Series(stats)`: organiza as estatísticas em uma série do Pandas para facilitar a visualização.\n",
        "\n",
        "As estatísticas calculadas incluem métricas topológicas, geométricas e combinadas, como número de nós e arestas, comprimento total de ruas e densidades.\n",
        "\n",
        "Na Serie resultante, algumas informações vêm organizadas em dicionários, especialmente nas chaves streets_per_node_counts e streets_per_node_proportions. Essas chaves armazenam as contagens e proporções das interseções, divididas pelo número de vias conectadas a cada nó. Em outras palavras, elas indicam quantas interseções possuem uma, duas, três ou mais ruas conectadas, e qual a proporção que cada tipo representa na rede.\n",
        "\n",
        "Para facilitar a leitura e a interpretação desses dados, é recomendável desempacotar essas informações, criando novas chaves para cada contagem e proporção individualmente. Por exemplo, podemos criar uma nova coluna chamada 1way_int_count para representar a quantidade de interseções conectadas a apenas uma rua, e outra chamada 3way_int_prop para indicar a proporção de interseções com três ruas conectadas.\n",
        "\n",
        "Esse processo de desempacotamento permite que esses dados apareçam como colunas distintas em um DataFrame, o que facilita tanto a visualização quanto a análise. Com essa estrutura, torna-se mais intuitivo entender a conectividade da rede, destacando a frequência de diferentes tipos de interseções. Assim, é possível identificar quais tipos de interseções são mais comuns, onde há maior conectividade e quais áreas possuem mais ruas sem saída ou interseções com múltiplas conexões.\n",
        "\n",
        "\n",
        "Vamos realizar a descompactação das estatísticas básicas com relação à contagem e proporção das interseções"
      ]
    },
    {
      "cell_type": "code",
      "execution_count": null,
      "id": "0b19a2f4",
      "metadata": {
        "id": "0b19a2f4"
      },
      "outputs": [],
      "source": [
        "# Descompactar dicionários em chaves:valores individuais\n",
        "for tipo, contagem in stats[\"streets_per_node_counts\"].items():\n",
        "    stats[f\"intersecao_{tipo}_vias_contagem\"] = contagem\n",
        "for tipo, proporcao in stats[\"streets_per_node_proportions\"].items():\n",
        "    stats[f\"intersecao_{tipo}_vias_proporcao\"] = proporcao\n",
        "\n",
        "# Remover os elementos desnecessários do dicionário\n",
        "del stats[\"streets_per_node_counts\"]\n",
        "del stats[\"streets_per_node_proportions\"]\n",
        "\n",
        "# Carregar os dados como um DataFrame Pandas\n",
        "estatisticas_df = pd.DataFrame(pd.Series(stats, name=\"valor\")).round(3)\n",
        "estatisticas_df"
      ]
    },
    {
      "cell_type": "markdown",
      "id": "050db17f",
      "metadata": {
        "id": "050db17f"
      },
      "source": [
        "No código acima:\n",
        "As contagens e proporções de interseções são descompactadas em novas chaves no dicionário `stats`.\n",
        "\n",
        "As informações originais são removidas para evitar redundância.\n",
        "\n",
        "Os dados reorganizados são carregados em um DataFrame Pandas para facilitar a análise.\n",
        "\n",
        "\n",
        "Por fim, interpretamos os resultados obtidos, organizando-os em três categorias principais:\n",
        "\n",
        "\n",
        "### 3.2.1 Estatísticas Topológicas\n",
        "\n",
        "Essas métricas descrevem a conectividade estrutural da rede, auxiliando no entendimento da densidade, complexidade e conectividade da rede.\n",
        "\n",
        "- **`n`**: Número total de nós (interseções ou extremidades de ruas).\n",
        "- **`m`**: Número total de arestas (segmentos de ruas).\n",
        "- **`k_avg`**: Grau médio dos nós, indicando o número médio de ruas conectadas a cada interseção.\n",
        "- **`streets_per_node_avg`**: Número médio de ruas por nó.\n",
        "- **`intersection_count`**: Contagem de interseções distintas.\n",
        "- **`self_loop_proportion`**: Proporção de arestas que conectam um nó a ele mesmo.\n",
        "\n",
        "\n",
        "\n",
        "A partir dessas estatísticas topológicas, podemos tirar algumas conclusões sobre a estrutura e a conectividade da rede viária:\n",
        "\n",
        "Com 399 nós e 837 arestas, a rede possui um número significativo de interseções e segmentos de rua, sugerindo uma estrutura relativamente densa e conectada. Em contextos urbanos, uma rede com mais nós e arestas indica uma infraestrutura viária que permite vários trajetos e alternativas de deslocamento. O grau médio dos nós de 4,2 reforça essa conectividade, mostrando que, em média, cada nó (interseção) está conectado a mais de quatro outros nós. Esse valor indica uma rede bem conectada, na qual a maioria das interseções oferece múltiplas opções de rota.\n",
        "\n",
        "O número médio de ruas por nó (2,987) indica que a maioria das interseções conecta cerca de três ruas, o que é comum em redes de áreas urbanas, com interseções em formato de “T” ou cruzamentos em três vias. Esse valor sugere uma estrutura urbana que combina acessibilidade e continuidade nas rotas, permitindo uma distribuição moderada das conexões em cada interseção.\n",
        "\n",
        "A rede possui 345 interseções distintas (nós com pelo menos duas ruas conectadas), o que significa que cerca de 86% dos nós são interseções, enquanto o restante são extremidades (ou nós com apenas uma conexão). Isso indica que a rede não é excessivamente fragmentada em ruas sem saída e que a maior parte dos pontos da rede está integrada ao fluxo viário.\n",
        "\n",
        "\n",
        "A proporção de self-loops é muito baixa (0,18%), indicando que apenas uma ínfima fração das ruas conecta um nó a ele mesmo (como vias circulares ou de retorno). Uma baixa presença de self-loops é típica em redes viárias, onde o objetivo é a conectividade entre pontos distintos, sem repetição no ponto de origem.\n",
        "\n",
        "\n",
        "\n",
        "Antes de seguir para as estatísticas geométricas, vamos localizar os self-loops em nossa rede."
      ]
    },
    {
      "cell_type": "code",
      "execution_count": null,
      "id": "fa894ff5",
      "metadata": {
        "id": "fa894ff5"
      },
      "outputs": [],
      "source": [
        "# Identificar as arestas que são self-loops\n",
        "self_loops = [(u, v) for u, v, k in grafo_rede_viaria.edges(keys=True) if u == v]\n",
        "print(\"Self-loops encontrados:\", self_loops)\n",
        "\n",
        "# Configurar as cores das arestas com base na presença de self-loops\n",
        "ec = []\n",
        "for u, v, k in grafo_rede_viaria.edges(keys=True):\n",
        "    if (u, v) in self_loops:\n",
        "        ec.append(\"red\")  # Colorir os self-loops em vermelho\n",
        "    else:\n",
        "        ec.append(\"lightgray\")  # Outras arestas em cinza claro\n",
        "\n",
        "# Plotar o grafo destacando os self-loops\n",
        "fig, ax = ox.plot_graph(\n",
        "    grafo_rede_viaria,\n",
        "    edge_color=ec,\n",
        "    edge_linewidth=1,\n",
        "    node_size=10,\n",
        "    node_color=\"white\",\n",
        "    bgcolor=\"black\",\n",
        "    figsize=(10, 10)\n",
        ")\n",
        "\n",
        "plt.show()"
      ]
    },
    {
      "cell_type": "markdown",
      "id": "ae52e315",
      "metadata": {
        "id": "ae52e315"
      },
      "source": [
        "Temos apenas um self-loop (em vermelho na imagem acima). Vamos criar uma plotagem com um maior nível de zoom."
      ]
    },
    {
      "cell_type": "code",
      "execution_count": null,
      "id": "28664d27",
      "metadata": {
        "id": "28664d27"
      },
      "outputs": [],
      "source": [
        "# Selecionar o nó com self-loop\n",
        "self_loop_node = self_loops[0][0]\n",
        "print(f\"Nó com self-loop: {self_loop_node}\")\n",
        "\n",
        "# Extrair sub-rede em torno do nó com self-loop (por exemplo, dentro de 800 metros)\n",
        "subgraph = ego_graph(grafo_rede_viaria, self_loop_node, radius=800, distance=\"length\")\n",
        "\n",
        "# Configurar as cores das arestas na sub-rede\n",
        "ec = [\n",
        "    \"red\" if u == v else \"lightgray\"\n",
        "    for u, v, k in subgraph.edges(keys=True)\n",
        "]\n",
        "\n",
        "# Plotar a sub-rede destacando o self-loop\n",
        "fig, ax = ox.plot_graph(\n",
        "    subgraph,\n",
        "    edge_color=ec,\n",
        "    edge_linewidth=1,\n",
        "    node_size=10,\n",
        "    node_color=\"white\",\n",
        "    bgcolor=\"black\",\n",
        "    figsize=(6, 6)\n",
        ")\n",
        "\n",
        "plt.show()"
      ]
    },
    {
      "cell_type": "markdown",
      "id": "361aa8ab",
      "metadata": {
        "id": "361aa8ab"
      },
      "source": [
        "### 3.2.2 Estatísticas Geométricas\n",
        "\n",
        "Essas métricas analisam os comprimentos de ruas e segmentos, fornecendo informações sobre a fragmentação e continuidade da rede viária.\n",
        "\n",
        "- **`edge_length_total`**: Comprimento total de todas as arestas em metros.\n",
        "- **`edge_length_avg`**: Comprimento médio das arestas em metros.\n",
        "- **`street_length_total`**: Comprimento total de todas as ruas.\n",
        "- **`street_segment_count`**: Número total de segmentos de rua.\n",
        "- **`street_length_avg`**: Comprimento médio dos segmentos de rua.\n",
        "\n",
        "\n",
        "A partir dessas estatísticas geométricas, podemos tirar algumas conclusões sobre a estrutura e a conectividade da rede viária:\n",
        "\n",
        "\n",
        "O comprimento total das arestas é de aproximadamente 82,2 km, enquanto o comprimento total das ruas é de 56,3 km. A diferença entre esses valores indica que, embora o comprimento total de todos os segmentos de rua (arestas) seja significativo, a rede em si (considerando ruas exclusivas, sem duplicações de sentido) possui uma extensão um pouco menor. Esse valor reflete uma infraestrutura urbana extensa e conectada, capaz de suportar um tráfego considerável.\n",
        "\n",
        "O comprimento médio das arestas é de 98,17 metros, enquanto o comprimento médio dos segmentos de rua é ligeiramente maior, com 99,7 metros. Esses valores médios indicam que a maioria dos blocos ou quarteirões na rede é relativamente curta. Essa configuração permite múltiplas interseções e oportunidades de mudança de rota.\n",
        "\n",
        "O número total de segmentos de rua é 564, o que sugere que a rede é fragmentada em pequenas seções, permitindo a formação de múltiplos blocos e interseções em uma área relativamente compacta. Uma rede com muitos segmentos curtos geralmente promove a acessibilidade e a mobilidade, pois oferece mais opções de rota e facilita o tráfego.\n",
        "\n",
        "\n",
        "\n",
        "\n",
        "\n",
        "\n",
        "\n",
        "### 3.2.3 Estatísticas Combinadas\n",
        "\n",
        "As estatísticas combinadas (topológicas e geométricas) fornecem uma visão geral sobre a estrutura e a conectividade da rede viária, combinando aspectos relacionados à organização espacial com medidas estruturais mais abstratas.\n",
        "\n",
        "\n",
        "- **`circuity_avg`**: Circuidade média da rede, que avalia a relação entre o comprimento real e a distância em linha reta das ruas.\n",
        "- **`node_density_km`**: Densidade de nós por quilômetro quadrado.\n",
        "- **`intersection_density_km`**: Densidade de interseções por quilômetro quadrado.\n",
        "- **`edge_density_km`**: Densidade de arestas por quilômetro quadrado.\n",
        "- **`street_density_km`**: Densidade de ruas por quilômetro quadrado.\n",
        "\n",
        "\n",
        "\n",
        "A circuidade média da rede é de 1.025, indicando que, em média, a distância percorrida nas ruas é apenas 2,5% maior que a distância em linha reta entre os pontos conectados. Isso sugere que a rede viária é bastante eficiente em termos de alinhamento, com ruas relativamente diretas e poucas curvas excessivas ou desvios significativos.\n",
        "\n",
        "A densidade de nós é de aproximadamente 110 nós por km², representando a frequência de pontos de conexão (interseções ou extremidades) na área estudada. Isso reflete uma rede moderadamente densa, característica de áreas urbanas bem desenvolvidas, onde interseções são frequentes.\n",
        "\n",
        "A densidade de interseções* é de cerca de 95 por km², indicando que a maioria dos nós na rede são interseções e não apenas extremidades de ruas. Essa proporção alta de interseções reforça a ideia de uma rede altamente conectada, permitindo múltiplos caminhos alternativos e maior flexibilidade de mobilidade.\n",
        "\n",
        "A densidade de arestas (ou densidade de ruas) é de 22,6 km de ruas por km². Isso representa a quantidade total de segmentos de rua disponíveis na área estudada, considerando todas as direções e conexões. Esse valor reflete uma rede densa em termos de infraestrutura viária.\n",
        "\n",
        "A densidade de ruas exclusivas é de 15,5 km por km². Essa métrica considera cada rua apenas uma vez, independentemente de seu sentido, e mostra o comprimento total de ruas distintas na área. O valor é menor que a densidade de arestas, como esperado, pois ruas bidirecionais e múltiplas conexões aumentam o número total de segmentos, mas não o número de ruas únicas.\n",
        "\n",
        "\n",
        "As métricas de conectividade por tipo de interseção oferecem uma análise detalhada sobre a complexidade e a densidade da rede viária, evidenciando padrões estruturais e características específicas do sistema de ruas.\n",
        "\n",
        "A análise revela que a maioria das interseções (61,9%) possuem três ruas conectadas, totalizando 247 interseções desse tipo. Esse padrão é comum em redes urbanas, especialmente em áreas com ruas formando ângulos em “T”, típicos de bairros residenciais. Essa configuração reflete um layout estruturado em blocos ou quarteirões.\n",
        "\n",
        "A segunda maior proporção (22,8%) corresponde a interseções de quatro vias, abrangendo 91 nós. Essas interseções são características de layouts de grade, onde ruas se cruzam perpendicularmente. E\n",
        "\n",
        "Além disso, cerca de 13,5% dos nós (54 no total) têm apenas uma conexão, indicando que são extremidades ou pontos de término de ruas. Esses nós estão frequentemente localizados em ruas sem saída ou em regiões menos conectadas da rede, como áreas periféricas ou limites de bairros, onde a continuidade do fluxo é limitada.\n",
        "\n",
        "A rede também apresenta interseções mais complexas, como as de cinco vias (5-way) e seis vias (6-way), embora essas sejam raras, com apenas cinco e uma interseção, respectivamente. Esses nós geralmente são encontrados em pontos estratégicos da rede, como grandes cruzamentos ou áreas de alta densidade de tráfego.\n",
        "\n",
        "\n",
        "\n",
        "\n",
        "## 3.3 Indicadores de Conectividade\n",
        "\n",
        "Embora as estatísticas básicas ofereçam um panorama geral e descritivo da rede, abrangendo informações estruturais simples, como o número de nós, a densidade de ruas, o comprimento total das arestas e a distribuição de interseções, elas são mais adequadas para caracterizar a estrutura geral da rede. Essas métricas são permitem entender a organização básica, mas têm limitações quando se trata de explorar aspectos específicos da conectividade ou o comportamento funcional da rede.\n",
        "\n",
        "Por outro lado, os indicadores de conectividade vão além da estrutura, focando em análises mais específicas e funcionais. Eles são métricas que medem o nível de interligação entre os elementos de uma rede, fornecendo uma visão quantitativa sobre sua estrutura, eficiência e resiliência. Eles ajudam a identificar padrões de conectividade entre os nós (pontos de interseção) e as arestas (conexões), permitindo entender o funcionamento da rede e sua resposta a diferentes demandas ou falhas.\n",
        "\n",
        "Em redes espaciais, como redes viárias, de transporte ou de distribuição, esses indicadores são indispensáveis para identificar padrões estruturais, analisar a acessibilidade entre diferentes partes da rede e avaliar a eficiência de deslocamento. Além disso, eles ajudam a localizar pontos críticos, áreas de baixa conectividade e hubs, fornecendo informações que podem auxiliar no planejamento e na gestão da rede.\n",
        "\n",
        "Nesta análise, calcularemos indicadores como a densidade da rede, o grau dos nós, a assortatividade de grau e as eficiências global e local médias. Esses parâmetros proporcionarão uma visão detalhada e abrangente da conectividade da rede, permitindo identificar padrões, avaliar sua eficiência e destacar características importantes de sua organização estrutural.\n",
        "\n",
        "\n",
        "\n",
        "### 3.3.1 Densidade da rede\n",
        "\n",
        "A densidade da rede é uma métrica específica que mede o nível de conectividade relativa da estrutura da rede, enquanto as densidades espaciais (`node_density_km`, etc.) refletem a concentração de componentes viários por área. Portanto, a **densidade da rede** calculada com `nx.density` é uma métrica complementar e oferece uma perspectiva diferente sobre a conectividade geral da rede.\n",
        "\n",
        "Na biblioteca OSMnx, a função `nx.density` calcula a densidade da rede como a razão entre o número de arestas existentes e o número máximo de arestas possíveis em uma rede totalmente conectada. Em termos práticos:\n",
        "\n",
        "- A densidade varia entre 0 e 1:\n",
        "  - **Densidade próxima de 1**: indica que a rede está altamente conectada, com a maioria dos nós ligados diretamente uns aos outros (mais comum em redes de pequeno porte).\n",
        "  - **Densidade baixa**: sugere uma rede esparsa, onde poucos nós estão conectados entre si (típico de redes viárias).\n",
        "\n",
        "Vamos calcular a densidade da rede viária do bairro da Liberdade."
      ]
    },
    {
      "cell_type": "code",
      "execution_count": null,
      "id": "f5ba4880",
      "metadata": {
        "id": "f5ba4880"
      },
      "outputs": [],
      "source": [
        "# Calcular a densidade da rede:\n",
        "densidade = nx.density(grafo_rede_viaria)\n",
        "print(\"Densidade da rede:\", densidade)"
      ]
    },
    {
      "cell_type": "markdown",
      "id": "f6f981bc",
      "metadata": {
        "id": "f6f981bc"
      },
      "source": [
        "A densidade de 0,0053 indica que a rede possui uma conectividade relativamente baixa em relação ao número máximo de conexões possíveis. Em termos práticos, isso é comum em redes viárias, pois as ruas normalmente não conectam todos os nós entre si. Essa baixa densidade confirma a ideia de que a rede viária é composta de ruas específicas e interseções controladas, o que permite a circulação de forma estruturada, em vez de uma rede totalmente conectada.\n",
        "\n",
        "\n",
        "\n",
        "\n",
        "\n",
        "### 3.3.2 Assortatividade de grau\n",
        "\n",
        "A assortatividade de grau em uma rede mede a tendência de nós com graus semelhantes estarem conectados entre si, funcionando como uma medida de correlação entre os graus dos nós conectados por uma aresta. Em redes viárias, essa métrica indica se interseções com muitas conexões (alto grau) tendem a se conectar a outras interseções igualmente bem conectadas ou, ao contrário, a interseções com poucas conexões.\n",
        "\n",
        "- **Assortatividade positiva**: Indica que nós com alto grau tendem a se conectar com outros nós de alto grau. Esse padrão é comum em redes sociais.\n",
        "- **Assortatividade negativa**: Indica que nós de alto grau tendem a se conectar a nós de baixo grau, típico de redes hierárquicas como redes viárias.\n",
        "- **Assortatividade próxima de zero**: Não há um padrão claro de conexão entre graus altos e baixos.\n",
        "\n",
        "Vamos agora calcular a assortatividade de grau."
      ]
    },
    {
      "cell_type": "code",
      "execution_count": null,
      "id": "58d2f029",
      "metadata": {
        "id": "58d2f029"
      },
      "outputs": [],
      "source": [
        "# Calcular a assortatividade de grau\n",
        "assortatividade_grau = nx.degree_assortativity_coefficient(grafo_rede_viaria)\n",
        "print(\"Assortatividade de Grau:\", assortatividade_grau)"
      ]
    },
    {
      "cell_type": "markdown",
      "id": "341be531",
      "metadata": {
        "id": "341be531"
      },
      "source": [
        "A assortatividade de grau de aproximadamente 0,27 indica uma assortatividade positiva moderada na rede viária. Isso sugere que interseções com muitas conexões tendem a se conectar a outras interseções também bem conectadas.\n",
        "\n",
        "\n",
        "\n",
        "\n",
        "### 3.3.3 Grau dos nós\n",
        "\n",
        "O grau de um nó em uma rede representa o número de conexões (ou arestas) que ele possui com outros nós. Em redes viárias, isso corresponde ao número de ruas que convergem em uma determinada interseção. Essa métrica ajuda a identificar interseções estratégicas, com altos graus representando locais de maior fluxo e conectividade.\n",
        "\n",
        "Vamos visualizar os graus dos nós com uma coloração específica."
      ]
    },
    {
      "cell_type": "code",
      "execution_count": null,
      "id": "6b6967b0",
      "metadata": {
        "id": "6b6967b0"
      },
      "outputs": [],
      "source": [
        "# Definir as cores para cada grau de 1 a 8\n",
        "colors = ['#4B0082', '#5D3FD3', '#4682B4', '#40E0D0', '#32CD32', '#ADFF2F', '#FFFF00', '#FFD700']\n",
        "\n",
        "# Obter a posição dos nós do grafo para usar na plotagem\n",
        "node_positions = {node: (data['x'], data['y']) for node, data in grafo_rede_viaria.nodes(data=True)}\n",
        "\n",
        "# Obter o grau de cada nó\n",
        "node_degrees = dict(grafo_rede_viaria.degree())\n",
        "unique_degrees = sorted(set(node_degrees.values()))  # Graus únicos presentes no grafo\n",
        "\n",
        "# Mapear os graus para as cores definidas manualmente\n",
        "node_colors = [colors[min(degree - 1, 7)] for degree in node_degrees.values()]  # Limitar ao índice 7 para graus > 8\n",
        "\n",
        "# Configurar a figura e o fundo preto\n",
        "fig, ax = plt.subplots(figsize=(7, 10))\n",
        "fig.patch.set_facecolor('black')  # Define o fundo da figura como preto\n",
        "ax.set_facecolor('black')  # Define o fundo do gráfico como preto\n",
        "\n",
        "# Plotar a rede viária com coloração de grau dos nós\n",
        "nc = nx.draw_networkx_nodes(\n",
        "    grafo_rede_viaria, pos=node_positions, node_color=node_colors, node_size=10, ax=ax\n",
        ")\n",
        "ec = nx.draw_networkx_edges(grafo_rede_viaria, pos=node_positions, edge_color=\"gray\", width=0.5, ax=ax, arrows=False)\n",
        "\n",
        "# Criar a legenda personalizada com círculos menores para cada grau presente na rede\n",
        "legend_elements = [\n",
        "    mlines.Line2D([], [], color=colors[i], marker='o', linestyle='None', markersize=6, label=f'Grau {i + 1}')\n",
        "    for i in range(8)  # Criar a legenda para os graus de 1 a 8\n",
        "]\n",
        "legend = ax.legend(handles=legend_elements, loc='upper right', bbox_to_anchor=(1.15, 0.96), title=\"Grau dos Nós\", title_fontsize='11', frameon=False, fontsize='9')\n",
        "plt.setp(legend.get_texts(), color=\"white\")  # Define a cor do texto da legenda para branco\n",
        "plt.setp(legend.get_title(), color=\"white\")  # Define a cor do título da legenda para branco\n",
        "\n",
        "# Adicionar título e exibir o gráfico\n",
        "plt.title(\"Rede Viária com Visualização do Grau dos Nós (Legenda por Grau Específico)\", color=\"white\")\n",
        "plt.show()"
      ]
    },
    {
      "cell_type": "markdown",
      "id": "1ab6e39d",
      "metadata": {
        "id": "1ab6e39d"
      },
      "source": [
        "### 3.3.4 Eficiência global e local\n",
        "\n",
        "A eficiência global mede como a rede conecta pares de nós de forma eficiente, enquanto a eficiência local avalia a conectividade entre os vizinhos imediatos de cada nó."
      ]
    },
    {
      "cell_type": "code",
      "execution_count": null,
      "id": "c41573b1",
      "metadata": {
        "id": "c41573b1"
      },
      "outputs": [],
      "source": [
        "# Converter o grafo para não-direcionado\n",
        "grafo_rede_viaria_nao_direcionado = grafo_rede_viaria.to_undirected()\n",
        "\n",
        "# Calcular a eficiência global\n",
        "eficiencia_global = nx.global_efficiency(grafo_rede_viaria_nao_direcionado)\n",
        "print(\"Eficiência Global:\", eficiencia_global)\n",
        "\n",
        "# Calcular a eficiência local média\n",
        "eficiencia_local = nx.local_efficiency(grafo_rede_viaria_nao_direcionado)\n",
        "print(\"Eficiência Local Média:\", eficiencia_local)"
      ]
    },
    {
      "cell_type": "markdown",
      "id": "748db393",
      "metadata": {
        "id": "748db393"
      },
      "source": [
        "No caso do bairro da Liberdade, uma eficiência global de 0,11 sugere que a rede viária não é altamente eficiente para conectar pares de nós de forma direta ou com trajetos curtos. A eficiência local média de 0,055 indica que os vizinhos imediatos não estão bem interconectados, refletindo uma estrutura hierárquica típica de redes viárias urbanas.\n",
        "\n",
        "\n",
        "\n",
        "\n",
        "\n",
        "## 3.4 Centralidade\n",
        "\n",
        "Centralidade é um conceito na teoria de redes que busca medir a importância ou influência dos nós em uma rede. Redes são estruturas compostas de nós (ou vértices) conectados por arestas (ou links), e podem representar uma variedade de sistemas: redes sociais (onde os nós são pessoas e as arestas representam amizades ou interações), redes de comunicação (com servidores e conexões), redes biológicas (como proteínas e suas interações), e muito mais. A centralidade fornece uma maneira de quantificar quais nós desempenham papéis de destaque dentro dessas estruturas, revelando quais elementos são mais conectados, acessíveis ou influentes. Em redes viárias, que são compostas por interseções (nós) e ruas (arestas), as medidas de centralidade ajudam a identificar quais interseções são mais conectadas, acessíveis ou críticas para o fluxo de deslocamento.\n",
        "\n",
        "As métricas de centralidade ajudam a entender a estrutura de uma rede urbana, otimizar o fluxo de tráfego, planejar rotas e identificar áreas centrais ou periféricas em uma cidade.\n",
        "\n",
        "Existem diferentes tipos de centralidade, cada uma abordando a \"importância\" de nós e arestas de maneira diferente. Aqui vamos estudar:\n",
        "\n",
        "- Centralidade de grau;\n",
        "- Centralidade de proximidade;\n",
        "- Centralidade de intermediação (betweenness).\n",
        "\n",
        "\n",
        "\n",
        "### 3.4.1 Centralidade de grau (Degree Centrality)\n",
        "\n",
        "A centralidade de grau é a maneira mais simples de centralidade, medindo o número de conexões diretas que um nó possui. Em redes sociais, por exemplo, a centralidade de grau indica quantas conexões diretas uma pessoa tem com outras pessoas. Quanto mais conexões, maior o grau de centralidade.\n",
        "\n",
        "A centralidade de grau é útil para identificar nós altamente conectados, que frequentemente possuem um papel central em redes de colaboração, comércio, redes de comunicação e outras.\n",
        "\n",
        "Em redes viárias, a centralidade de grau representa o número de ruas que convergem em uma interseção. Quanto maior o grau, mais acessível e importante é essa interseção localmente.\n",
        "\n",
        "Os grafos obtidos a partir do OSMnx são, por padrão, multigrafos não direcionados, ou seja, permitem múltiplas arestas entre os mesmos pares de nós, mas as informações sobre as direções das vias não estão representadas. Na análise de centralidade, é possível realizar os cálculos tanto considerando quanto ignorando essas direções.\n",
        "\n",
        "Se a rede viária tiver muitas ruas de mão única, o uso de um multigrafo pode não ser ideal. Isso ocorre porque o multigrafo trata todas as conexões como bidirecionais, o que ignora restrições de direção nas vias e pode distorcer a análise de acessibilidade e navegabilidade. Em redes com muitas ruas de mão única, o uso de um multidigrafo é mais apropriado, pois permite representar a direção real de cada via, capturando com precisão as limitações de direção e refletindo a dinâmica verdadeira do tráfego e da acessibilidade.\n",
        "\n",
        "Vamos verificar se a rede viária do bairro da liberdade possui muitas vias de mão única."
      ]
    },
    {
      "cell_type": "code",
      "execution_count": null,
      "id": "41bbb74f",
      "metadata": {
        "id": "41bbb74f"
      },
      "outputs": [],
      "source": [
        "# Configurar as cores das arestas com base no atributo 'mão única'\n",
        "cores_arestas = [\"red\" if dados.get('oneway') else \"blue\" for u, v, dados in grafo_rede_viaria.edges(data=True)]\n",
        "\n",
        "# Plotar o grafo\n",
        "fig, ax = ox.plot_graph(\n",
        "    grafo_rede_viaria,\n",
        "    edge_color=cores_arestas,\n",
        "    edge_linewidth=1,\n",
        "    node_size=0,\n",
        "    figsize=(10, 10),\n",
        "    show=False,\n",
        "    close=False\n",
        ")\n",
        "\n",
        "# Adicionar o título\n",
        "plt.suptitle(\"Vias de Mão Única (vermelho) e de Mão Dupla (azul)\", fontsize=16)\n",
        "plt.show()"
      ]
    },
    {
      "cell_type": "markdown",
      "id": "903f641e",
      "metadata": {
        "id": "903f641e"
      },
      "source": [
        "Devido à predominância de ruas de mão única, como mostrado no mapa, é mais apropriado utilizar um multidigrafo para representar a rede viária do bairro da Liberdade. O uso de um multidigrafo permite que as direções das ruas sejam consideradas nas análises, o que proporciona uma visão mais realista e precisa da conectividade e acessibilidade da área. Em redes com muitas vias de mão única, o multidigrafo captura melhor as restrições de direção.\n"
      ]
    },
    {
      "cell_type": "markdown",
      "id": "aab01834",
      "metadata": {
        "id": "aab01834"
      },
      "source": [
        "O primeiro passo é calcular três tipos de centralidade de grau:\n",
        "\n",
        "- Centralidade de Grau de Entrada: Quantas conexões chegam a cada nó (pontos acessíveis de várias direções).\n",
        "- Centralidade de Grau de Saída: Quantas conexões saem de cada nó (pontos que podem levar a várias direções).\n",
        "- Centralidade de Grau Total: A soma do grau de entrada e do grau de saída, representando o total de conexões."
      ]
    },
    {
      "cell_type": "code",
      "execution_count": null,
      "id": "a387d7e8",
      "metadata": {
        "id": "a387d7e8"
      },
      "outputs": [],
      "source": [
        "# Calcular as centralidades de grau\n",
        "centralidade_grau_entrada = nx.in_degree_centrality(grafo_rede_viaria)\n",
        "centralidade_grau_saida = nx.out_degree_centrality(grafo_rede_viaria)\n",
        "centralidade_grau_total = nx.degree_centrality(grafo_rede_viaria)"
      ]
    },
    {
      "cell_type": "markdown",
      "id": "37a76cff",
      "metadata": {
        "id": "37a76cff"
      },
      "source": [
        "Após calcular as centralidades, atribuímos esses valores como atributos dos nós. Isso facilita a visualização e a análise."
      ]
    },
    {
      "cell_type": "code",
      "execution_count": null,
      "id": "93198bae",
      "metadata": {
        "id": "93198bae"
      },
      "outputs": [],
      "source": [
        "# Atribuir as centralidades como atributos dos nós\n",
        "nx.set_node_attributes(grafo_rede_viaria, centralidade_grau_entrada, 'centralidade_grau_entrada')\n",
        "nx.set_node_attributes(grafo_rede_viaria, centralidade_grau_saida, 'centralidade_grau_saida')\n",
        "nx.set_node_attributes(grafo_rede_viaria, centralidade_grau_total, 'centralidade_grau_total')"
      ]
    },
    {
      "cell_type": "markdown",
      "id": "5afd4bcb",
      "metadata": {
        "id": "5afd4bcb"
      },
      "source": [
        "Cada tipo de centralidade é armazenado como um atributo dos nós, facilitando o acesso e visualização no grafo. Vamos consultar os atributos de `grafo_rede_viaria` para verificar se esses atributos foram adicionados corretamente ao grafo."
      ]
    },
    {
      "cell_type": "code",
      "execution_count": null,
      "id": "0122019f",
      "metadata": {
        "id": "0122019f"
      },
      "outputs": [],
      "source": [
        "# Obter os nomes dos atributos do primeiro nó como exemplo\n",
        "atributos_nos = list(next(iter(grafo_rede_viaria.nodes(data=True)))[1].keys())\n",
        "print(\"Atributos dos Nós:\", atributos_nos)"
      ]
    },
    {
      "cell_type": "markdown",
      "id": "d11a0b31",
      "metadata": {
        "id": "d11a0b31"
      },
      "source": [
        "Para facilitar a manipulação dos registros, iremos criar um dataframe para armazenar os valores de centralidade de grau de cada nó."
      ]
    },
    {
      "cell_type": "code",
      "execution_count": null,
      "id": "e8e60857",
      "metadata": {
        "id": "e8e60857"
      },
      "outputs": [],
      "source": [
        "# Criar um DataFrame para armazenar os valores de centralidade\n",
        "centralidade_grau_df = pd.DataFrame({\n",
        "    \"grau_entrada\": centralidade_grau_entrada,\n",
        "    \"grau_saida\": centralidade_grau_saida,\n",
        "    \"grau_total\": centralidade_grau_total\n",
        "})"
      ]
    },
    {
      "cell_type": "markdown",
      "id": "c62bdf81",
      "metadata": {
        "id": "c62bdf81"
      },
      "source": [
        "Vamos visualizar os cinco primeiros registros do dataframe criado."
      ]
    },
    {
      "cell_type": "code",
      "execution_count": null,
      "id": "10d50019",
      "metadata": {
        "id": "10d50019"
      },
      "outputs": [],
      "source": [
        "# Exibir os primeiros registros do DataFrame\n",
        "print(centralidade_grau_df.head())"
      ]
    },
    {
      "cell_type": "markdown",
      "id": "fa7fbf10",
      "metadata": {
        "id": "fa7fbf10"
      },
      "source": [
        "Antes de visualizar a centralidade de grau dos nós, ajustamos o tamanho deles para refletir melhor suas centralidades no gráfico."
      ]
    },
    {
      "cell_type": "code",
      "execution_count": null,
      "id": "0901d004",
      "metadata": {
        "id": "0901d004"
      },
      "outputs": [],
      "source": [
        "# Ajustar os tamanhos dos nós para a visualização\n",
        "centralidade_grau_df[\"tamanho_nos_entrada\"] = centralidade_grau_df[\"grau_entrada\"] * 2500\n",
        "centralidade_grau_df[\"tamanho_nos_saida\"] = centralidade_grau_df[\"grau_saida\"] * 2500\n",
        "centralidade_grau_df[\"tamanho_nos_total\"] = centralidade_grau_df[\"grau_total\"] * 1500"
      ]
    },
    {
      "cell_type": "markdown",
      "id": "c54a38a9",
      "metadata": {
        "id": "c54a38a9"
      },
      "source": [
        "Por fim, vamos plotar os nós na rede viária, ressaltando o valor da centralidade de grau."
      ]
    },
    {
      "cell_type": "code",
      "execution_count": null,
      "id": "34f46738",
      "metadata": {
        "id": "34f46738"
      },
      "outputs": [],
      "source": [
        "# Plotar as centralidades de grau\n",
        "fig, eixos = plt.subplots(1, 3, figsize=(18, 6))\n",
        "fig.patch.set_facecolor('black')\n",
        "plt.subplots_adjust(wspace=0.1)\n",
        "\n",
        "# Centralidade de Grau de Entrada\n",
        "eixo = eixos[0]\n",
        "eixo.set_facecolor(\"black\")\n",
        "cores_nos_entrada = ox.plot.get_node_colors_by_attr(grafo_rede_viaria, \"centralidade_grau_entrada\", cmap=\"plasma\")\n",
        "ox.plot_graph(\n",
        "    grafo_rede_viaria,\n",
        "    ax=eixo,\n",
        "    node_size=centralidade_grau_df[\"tamanho_nos_entrada\"].tolist(),\n",
        "    node_color=cores_nos_entrada,\n",
        "    edge_linewidth=0.5,\n",
        "    edge_color=\"gray\",\n",
        "    show=False,\n",
        "    close=False\n",
        ")\n",
        "eixo.set_title(\"Centralidade de Grau de Entrada\", color=\"white\")\n",
        "\n",
        "# Centralidade de Grau de Saída\n",
        "eixo = eixos[1]\n",
        "eixo.set_facecolor(\"black\")\n",
        "cores_nos_saida = ox.plot.get_node_colors_by_attr(grafo_rede_viaria, \"centralidade_grau_saida\", cmap=\"plasma\")\n",
        "ox.plot_graph(\n",
        "    grafo_rede_viaria,\n",
        "    ax=eixo,\n",
        "    node_size=centralidade_grau_df[\"tamanho_nos_saida\"].tolist(),\n",
        "    node_color=cores_nos_saida,\n",
        "    edge_linewidth=0.5,\n",
        "    edge_color=\"gray\",\n",
        "    show=False,\n",
        "    close=False\n",
        ")\n",
        "eixo.set_title(\"Centralidade de Grau de Saída\", color=\"white\")\n",
        "\n",
        "# Centralidade de Grau Total\n",
        "eixo = eixos[2]\n",
        "\n",
        "\n",
        "eixo.set_facecolor(\"black\")\n",
        "cores_nos_total = ox.plot.get_node_colors_by_attr(grafo_rede_viaria, \"centralidade_grau_total\", cmap=\"plasma\")\n",
        "ox.plot_graph(\n",
        "    grafo_rede_viaria,\n",
        "    ax=eixo,\n",
        "    node_size=centralidade_grau_df[\"tamanho_nos_total\"].tolist(),\n",
        "    node_color=cores_nos_total,\n",
        "    edge_linewidth=0.5,\n",
        "    edge_color=\"gray\",\n",
        "    show=False,\n",
        "    close=False\n",
        ")\n",
        "eixo.set_title(\"Centralidade de Grau Total\", color=\"white\")\n",
        "\n",
        "plt.tight_layout()\n",
        "plt.show()"
      ]
    },
    {
      "cell_type": "markdown",
      "id": "3418a4b7",
      "metadata": {
        "id": "3418a4b7"
      },
      "source": [
        "Com base nessa análise visual, será gerado um histograma para examinar a distribuição da centralidade de grau."
      ]
    },
    {
      "cell_type": "code",
      "execution_count": null,
      "id": "dd172b44",
      "metadata": {
        "id": "dd172b44"
      },
      "outputs": [],
      "source": [
        "# Plotar os histogramas das centralidades de grau\n",
        "fig, eixos = plt.subplots(1, 3, figsize=(18, 6))\n",
        "\n",
        "# Histograma da Centralidade de Grau de Entrada\n",
        "eixos[0].hist(centralidade_grau_entrada.values(), bins=20, color='skyblue', edgecolor='black')\n",
        "eixos[0].set_xlabel(\"Centralidade de Grau de Entrada\")\n",
        "eixos[0].set_ylabel(\"Número de Nós\")\n",
        "eixos[0].set_title(\"Distribuição da Centralidade de Grau de Entrada\")\n",
        "\n",
        "# Histograma da Centralidade de Grau de Saída\n",
        "eixos[1].hist(centralidade_grau_saida.values(), bins=20, color='lightgreen', edgecolor='black')\n",
        "eixos[1].set_xlabel(\"Centralidade de Grau de Saída\")\n",
        "eixos[1].set_ylabel(\"Número de Nós\")\n",
        "eixos[1].set_title(\"Distribuição da Centralidade de Grau de Saída\")\n",
        "\n",
        "# Histograma da Centralidade de Grau Total\n",
        "eixos[2].hist(centralidade_grau_total.values(), bins=20, color='salmon', edgecolor='black')\n",
        "eixos[2].set_xlabel(\"Centralidade de Grau Total\")\n",
        "eixos[2].set_ylabel(\"Número de Nós\")\n",
        "eixos[2].set_title(\"Distribuição da Centralidade de Grau Total\")\n",
        "\n",
        "plt.tight_layout()\n",
        "plt.show()"
      ]
    },
    {
      "cell_type": "markdown",
      "id": "998c6ef9",
      "metadata": {
        "id": "998c6ef9"
      },
      "source": [
        "O primeiro histograma mostra a distribuição da centralidade de grau de entrada dos nós, ou seja, o número de ruas que chegam a cada ponto da rede. Observamos que a maioria dos nós tem uma centralidade de entrada baixa, concentrada em torno de 0,002 a 0,004. Isso indica que muitos pontos na rede possuem poucas conexões de entrada, provavelmente representando interseções simples ou extremidades da rede. Apenas alguns nós têm centralidade de entrada mais alta, sugerindo que poucos pontos funcionam como interseções principais para o fluxo de chegada.\n",
        "\n",
        "O segundo histograma representa a centralidade de grau de saída, ou seja, o número de ruas que saem de cada nó. A distribuição é similar à centralidade de entrada, com a maioria dos nós apresentando valores de centralidade de saída baixos, em torno de 0,002 a 0,004. Isso indica que a maioria dos nós permite que o tráfego flua para poucas direções. Novamente, apenas alguns nós apresentam um número elevado de saídas, o que sugere que apenas algumas interseções desempenham um papel importante no escoamento do tráfego.\n",
        "\n",
        "O terceiro histograma mostra a distribuição da centralidade de grau total, que é a soma das centralidades de entrada e saída. Aqui, a distribuição é mais ampla, com um maior número de nós em faixas de centralidade mais altas, alcançando valores em torno de 0,01 a 0,015. Isso indica que alguns nós têm uma alta conectividade geral, seja para entrada ou saída, o que os torna pontos centrais na rede. Esses nós provavelmente representam interseções principais, com alta acessibilidade e importância para a mobilidade geral da rede.\n",
        "\n",
        "Esses histogramas mostram que a maioria dos nós na rede possui baixa conectividade de entrada e saída, enquanto apenas alguns nós têm alta centralidade, tanto para entrada quanto para saída. Esse padrão sugere uma rede onde alguns pontos específicos (interseções principais) são centrais para a conectividade geral, enquanto a maioria dos nós serve como pontos de conexão menores.\n",
        "\n",
        "\n",
        "\n",
        "\n",
        "\n",
        "### 3.4.2 Centralidade de proximidade (Closeness Centrality)\n",
        "\n",
        "A **Centralidade de Proximidade** avalia a proximidade de um nó em relação a todos os outros na rede. Ela mede a acessibilidade de um nó, indicando quão rapidamente ele pode ser alcançado a partir de outros pontos.\n",
        "\n",
        "Em redes de comunicação, um nó com alta centralidade de proximidade pode ser um ponto eficiente de distribuição de informações, devido ao seu fácil acesso por outros nós. Em redes sociais, pessoas com alta proximidade podem se comunicar rapidamente com qualquer outra pessoa, direta ou indiretamente.\n",
        "\n",
        "Em redes viárias, interseções com alta centralidade de proximidade são aquelas mais \"centrais\" e facilmente acessíveis, sugerindo uma posição vantajosa em termos de deslocamento.\n",
        "\n",
        "Agora, calculamos três tipos de centralidade de proximidade:\n",
        "\n",
        "- **Centralidade de proximidade de Entrada**: Mede o quão acessível um nó é a partir de outros pontos da rede.\n",
        "- **Centralidade de proximidade de Saída**: Mede o quão bem um nó conecta a rede a partir dele.\n",
        "- **Centralidade de proximidade Total**: Combina as centralidades de entrada e saída, representando o total de conexões."
      ]
    },
    {
      "cell_type": "code",
      "execution_count": null,
      "id": "1d2cc642",
      "metadata": {
        "id": "1d2cc642"
      },
      "outputs": [],
      "source": [
        "# Calcular a centralidade de proximidade considerando o peso das arestas ('length')\n",
        "\n",
        "# Centralidade de Proximidade de Entrada (usando .reverse() e peso)\n",
        "centralidade_proximidade_entrada = nx.closeness_centrality(grafo_rede_viaria.reverse(), distance='length')\n",
        "\n",
        "# Centralidade de Proximidade de Saída (usando o grafo original e peso)\n",
        "centralidade_proximidade_saida = nx.closeness_centrality(grafo_rede_viaria, distance='length')\n",
        "\n",
        "# Centralidade de Proximidade Total (usando .to_undirected() e peso)\n",
        "centralidade_proximidade_total = nx.closeness_centrality(grafo_rede_viaria.to_undirected(), distance='length')"
      ]
    },
    {
      "cell_type": "markdown",
      "id": "dcb4785e",
      "metadata": {
        "id": "dcb4785e"
      },
      "source": [
        "Após calcular as centralidades, atribuímos esses valores como atributos dos nós. Isso facilita a visualização e a análise."
      ]
    },
    {
      "cell_type": "code",
      "execution_count": null,
      "id": "6ee6f6fd",
      "metadata": {
        "id": "6ee6f6fd"
      },
      "outputs": [],
      "source": [
        "# Atribuir centralidade de proximidade como atributos dos nós\n",
        "nx.set_node_attributes(grafo_rede_viaria, centralidade_proximidade_entrada, 'centralidade_proximidade_entrada')\n",
        "nx.set_node_attributes(grafo_rede_viaria, centralidade_proximidade_saida, 'centralidade_proximidade_saida')\n",
        "nx.set_node_attributes(grafo_rede_viaria, centralidade_proximidade_total, 'centralidade_proximidade_total')\n",
        "\n",
        "# Obter os nomes dos atributos do primeiro nó como exemplo\n",
        "atributos_nos = list(next(iter(grafo_rede_viaria.nodes(data=True)))[1].keys())\n",
        "print(\"Atributos dos Nós:\", atributos_nos)"
      ]
    },
    {
      "cell_type": "markdown",
      "id": "5ebc512a",
      "metadata": {
        "id": "5ebc512a"
      },
      "source": [
        "Para facilitar a manipulação dos registros, iremos criar um dataframe para armazenar os valores de centralidade de cada nó."
      ]
    },
    {
      "cell_type": "code",
      "execution_count": null,
      "id": "86a0a0a3",
      "metadata": {
        "id": "86a0a0a3"
      },
      "outputs": [],
      "source": [
        "# Criar DataFrame para armazenar as centralidades de proximidade\n",
        "centralidade_proximidade_df = pd.DataFrame({\n",
        "    \"proximidade_entrada\": centralidade_proximidade_entrada,\n",
        "    \"proximidade_saida\": centralidade_proximidade_saida,\n",
        "    \"proximidade_total\": centralidade_proximidade_total\n",
        "})\n",
        "\n",
        "# Exibir os cinco primeiros registros do DataFrame\n",
        "print(centralidade_proximidade_df.head())"
      ]
    },
    {
      "cell_type": "markdown",
      "id": "f689aadc",
      "metadata": {
        "id": "f689aadc"
      },
      "source": [
        "Os valores de centralidade de proximidade são baixos porque a métrica leva em conta as distâncias reais entre os nós (no caso, o atributo `length`, que representa a distância física). Em redes viárias, especialmente em áreas urbanas grandes, as distâncias podem ser grandes o suficiente para fazer com que as centralidades de proximidade resultem em valores baixos, uma vez que esta métrica é inversamente proporcional à soma das distâncias até outros nós."
      ]
    },
    {
      "cell_type": "code",
      "execution_count": null,
      "id": "0883c49b",
      "metadata": {
        "id": "0883c49b"
      },
      "outputs": [],
      "source": [
        "# Ajustar os tamanhos dos nós para a visualização\n",
        "centralidade_proximidade_df[\"tamanho_nos_entrada\"] = centralidade_proximidade_df[\"proximidade_entrada\"] * 50000\n",
        "centralidade_proximidade_df[\"tamanho_nos_saida\"] = centralidade_proximidade_df[\"proximidade_saida\"] * 50000\n",
        "centralidade_proximidade_df[\"tamanho_nos_total\"] = centralidade_proximidade_df[\"proximidade_total\"] * 50000"
      ]
    },
    {
      "cell_type": "markdown",
      "id": "65c39591",
      "metadata": {
        "id": "65c39591"
      },
      "source": [
        "Por fim, vamos plotar os nós na rede viária, ressaltando o valor da centralidade de proximidade."
      ]
    },
    {
      "cell_type": "code",
      "execution_count": null,
      "id": "81242c27",
      "metadata": {
        "id": "81242c27"
      },
      "outputs": [],
      "source": [
        "# Configurar a figura para 3 gráficos em linha com fundo preto\n",
        "fig, eixos = plt.subplots(1, 3, figsize=(18, 6))\n",
        "fig.patch.set_facecolor('black')\n",
        "\n",
        "# Ajustar o espaçamento entre os gráficos\n",
        "plt.subplots_adjust(wspace=0.1)\n",
        "\n",
        "# Plotar Centralidade de Proximidade de Entrada com fundo preto\n",
        "eixo = eixos[0]\n",
        "eixo.set_facecolor(\"black\")\n",
        "cores_nos_entrada = ox.plot.get_node_colors_by_attr(grafo_rede_viaria, \"centralidade_proximidade_entrada\", cmap=\"plasma\")\n",
        "ox.plot_graph(\n",
        "    grafo_rede_viaria,\n",
        "    ax=eixo,\n",
        "    node_size=centralidade_proximidade_df[\"tamanho_nos_entrada\"].tolist(),\n",
        "    node_color=cores_nos_entrada,\n",
        "    node_zorder=2,\n",
        "    edge_linewidth=0.5,\n",
        "    edge_color=\"gray\",\n",
        "    show=False,\n",
        "    close=False\n",
        ")\n",
        "eixo.set_title(\"Centralidade de Proximidade de Entrada\", color=\"white\")\n",
        "\n",
        "# Plotar Centralidade de Proximidade de Saída com fundo preto\n",
        "eixo = eixos[1]\n",
        "eixo.set_facecolor(\"black\")\n",
        "cores_nos_saida = ox.plot.get_node_colors_by_attr(grafo_rede_viaria, \"centralidade_proximidade_saida\", cmap=\"plasma\")\n",
        "ox.plot_graph(\n",
        "    grafo_rede_viaria,\n",
        "    ax=eixo,\n",
        "    node_size=centralidade_proximidade_df[\"tamanho_nos_saida\"].tolist(),\n",
        "    node_color=cores_nos_saida,\n",
        "    node_zorder=2,\n",
        "    edge_linewidth=0.5,\n",
        "    edge_color=\"gray\",\n",
        "    show=False,\n",
        "    close=False\n",
        ")\n",
        "eixo.set_title(\"Centralidade de Proximidade de Saída\", color=\"white\")\n",
        "\n",
        "# Plotar Centralidade de Proximidade Total com fundo preto\n",
        "eixo = eixos[2]\n",
        "eixo.set_facecolor(\"black\")\n",
        "cores_nos_total = ox.plot.get_node_colors_by_attr(grafo_rede_viaria, \"centralidade_proximidade_total\", cmap=\"plasma\")\n",
        "ox.plot_graph(\n",
        "    grafo_rede_viaria,\n",
        "    ax=eixo,\n",
        "    node_size=centralidade_proximidade_df[\"tamanho_nos_total\"].tolist(),\n",
        "    node_color=cores_nos_total,\n",
        "    node_zorder=2,\n",
        "    edge_linewidth=0.5,\n",
        "    edge_color=\"gray\",\n",
        "    show=False,\n",
        "    close=False\n",
        ")\n",
        "eixo.set_title(\"Centralidade de Proximidade Total\", color=\"white\")\n",
        "\n",
        "plt.tight_layout()\n",
        "plt.show()"
      ]
    },
    {
      "cell_type": "markdown",
      "id": "22272a05",
      "metadata": {
        "id": "22272a05"
      },
      "source": [
        "Com base nessa análise visual, será gerado um histograma para examinar a distribuição da centralidade de proximidade entre os nós da rede."
      ]
    },
    {
      "cell_type": "code",
      "execution_count": null,
      "id": "02fbe1ae",
      "metadata": {
        "id": "02fbe1ae"
      },
      "outputs": [],
      "source": [
        "# Plotar os histogramas das centralidades de proximidade\n",
        "fig, eixos = plt.subplots(1, 3, figsize=(18, 6))\n",
        "\n",
        "# Histograma da Centralidade de Proximidade de Entrada\n",
        "eixos[0].hist(centralidade_proximidade_entrada.values(), bins=20, color='skyblue', edgecolor='black')\n",
        "eixos[0].set_xlabel(\"Centralidade de Proximidade de Entrada\")\n",
        "eixos[0].set_ylabel(\"Número de Nós\")\n",
        "eixos[0].set_title(\"Distribuição da Centralidade de Proximidade de Entrada\")\n",
        "\n",
        "# Histograma da Centralidade de Proximidade de Saída\n",
        "eixos[1].hist(centralidade_proximidade_saida.values(), bins=20, color='lightgreen', edgecolor='black')\n",
        "eixos[1].set_xlabel(\"Centralidade de Proximidade de Saída\")\n",
        "eixos[1].set_ylabel(\"Número de Nós\")\n",
        "eixos[1].set_title(\"Distribuição da Centralidade de Proximidade de Saída\")\n",
        "\n",
        "# Histograma da Centralidade de Proximidade Total\n",
        "eixos[2].hist(centralidade_proximidade_total.values(), bins=20, color='salmon', edgecolor='black')\n",
        "eixos[2].set_xlabel(\"Centralidade de Proximidade Total\")\n",
        "eixos[2].set_ylabel(\"Número de Nós\")\n",
        "eixos[2].set_title(\"Distribuição da Centralidade de Proximidade Total\")\n",
        "\n",
        "plt.tight_layout()\n",
        "plt.show()"
      ]
    },
    {
      "cell_type": "markdown",
      "id": "f97500c9",
      "metadata": {
        "id": "f97500c9"
      },
      "source": [
        "Vamos interpretar cada um dos histogramas:\n",
        "\n",
        "\n",
        "*Centralidade de Proximidade de Entrada*\n",
        "\n",
        "- **Distribuição**: A maioria dos nós apresenta valores de centralidade de proximidade de entrada entre 0.0004 e 0.0008, o que indica que muitos nós podem ser alcançados a partir de outros nós na rede com relativa facilidade (em termos de caminhos curtos ponderados).\n",
        "- **Nós com valor próximo de zero**: Há alguns nós com valores muito baixos (próximos de 0), sugerindo que esses nós são menos acessíveis ou mais isolados para serem alcançados de outras partes da rede. Esses podem representar extremidades ou pontos periféricos.\n",
        "- **Pico na distribuição**: O pico na faixa de 0.0006 a 0.0008 indica que a maior parte dos nós tem uma acessibilidade de entrada moderada, tornando-os relativamente bem conectados na rede em termos de proximidade.\n",
        "\n",
        "*Centralidade de Proximidade de Saída*\n",
        "\n",
        "- **Distribuição**: A centralidade de proximidade de saída mostra uma distribuição similar, com a maioria dos valores concentrados entre 0.0004 e 0.0008. Isso indica que muitos nós têm uma conectividade de saída moderada, permitindo o acesso a outros nós na rede em caminhos curtos.\n",
        "- **Nós com valores muito baixos**: Assim como na centralidade de entrada, alguns nós apresentam valores baixos próximos de zero, indicando que eles fornecem pouca acessibilidade para outras partes da rede. Esses nós podem estar em áreas periféricas ou representar pontos menos centrais em termos de saída.\n",
        "- **Pico**: O pico está entre 0.0006 e 0.0008, sugerindo que a rede tem uma estrutura onde muitos nós estão moderadamente conectados para acesso de saída.\n",
        "\n",
        "*Centralidade de Proximidade Total*\n",
        "\n",
        "- **Distribuição**: A centralidade de proximidade total apresenta uma distribuição mais concentrada entre 0.0005 e 0.0010, com um pico entre 0.0006 e 0.0008.\n",
        "- **Valores próximos a zero**: Existem poucos nós com centralidade de proximidade total muito baixa, indicando que a maioria dos nós tem uma acessibilidade geral razoável (considerando tanto entrada quanto saída).\n",
        "- **Interpretação Geral**: A centralidade total fornece uma visão mais equilibrada da proximidade dos nós, sugerindo que a rede é relativamente bem conectada em termos de proximidade geral. A faixa mais concentrada na região central do histograma indica uma distribuição relativamente uniforme de acessibilidade na rede.\n",
        "\n",
        "\n",
        "Esses histogramas indicam que a maioria dos nós na rede viária possui uma acessibilidade moderada, tanto para entrada quanto para saída, o que resulta em uma centralidade de proximidade total similar para muitos nós. Essa distribuição sugere uma rede onde a maioria dos pontos é razoavelmente acessível e conectada, mas existem alguns nós com acessibilidade reduzida, provavelmente em regiões periféricas ou de baixa conectividade.\n",
        "\n",
        "A análise da centralidade de proximidade ajuda a entender quais nós estão mais \"centralmente\" localizados em termos de facilidade de acesso, sendo que a maioria parece estar bem conectada, com alguns nós periféricos e menos acessíveis.\n",
        "\n",
        "\n",
        "\n",
        "\n",
        "### 3.4.3 Centralidade de intermediação (Betweenness Centrality)\n",
        "\n",
        "A centralidade de intermediação mede quantas vezes um nó está presente nos caminhos mais curtos entre pares de nós na rede. Ela avalia o papel de um nó como \"ponte\" ou intermediário, facilitando o fluxo ou a comunicação entre diferentes partes da rede.\n",
        "\n",
        "A centralidade de intermediação difere da centralidade de grau e da centralidade de proximidade em sua abrangência e foco analítico. Enquanto as centralidades de grau e proximidade são mais locais ou quase-locais, a centralidade de intermediação tem um caráter global, avaliando o papel do nó em toda a estrutura da rede.\n",
        "\n",
        "Em redes viárias, a centralidade de intermediação ajuda a identificar interseções importantes que funcionam como pontos críticos de passagem. Esses nós são fundamentais para a conectividade global, pois sustentam o fluxo entre diferentes partes da rede. Incorporar o comprimento das ruas como peso torna a métrica mais alinhada com a realidade física, priorizando caminhos que minimizam a distância total. Isso é crucial para análises de mobilidade e acessibilidade."
      ]
    },
    {
      "cell_type": "code",
      "execution_count": null,
      "id": "f9b74922",
      "metadata": {
        "id": "f9b74922"
      },
      "outputs": [],
      "source": [
        "# Calcular a centralidade de intermediação com base no comprimento das ruas ('length')\n",
        "centralidade_intermediacao = nx.betweenness_centrality(grafo_rede_viaria, weight='length')\n",
        "\n",
        "# Exibir os valores calculados\n",
        "print(centralidade_intermediacao)\n",
        "\n",
        "# Atribuir os valores como atributos dos nós no grafo\n",
        "nx.set_node_attributes(grafo_rede_viaria, centralidade_intermediacao, 'centralidade_intermediacao')\n",
        "\n",
        "# Obter os nomes dos atributos dos nós como exemplo\n",
        "atributos_nos = list(next(iter(grafo_rede_viaria.nodes(data=True)))[1].keys())\n",
        "print(\"Atributos dos Nós:\", atributos_nos)"
      ]
    },
    {
      "cell_type": "markdown",
      "id": "d4670fdc",
      "metadata": {
        "id": "d4670fdc"
      },
      "source": [
        "Para facilitar a manipulação dos registros, criamos um dataframe para armazenar os valores de centralidade de intermediação."
      ]
    },
    {
      "cell_type": "code",
      "execution_count": null,
      "id": "bda2819a",
      "metadata": {
        "id": "bda2819a"
      },
      "outputs": [],
      "source": [
        "# Criar um DataFrame para armazenar os valores de centralidade de intermediação\n",
        "centralidade_intermediacao_df = pd.DataFrame({\n",
        "    \"centralidade_intermediacao\": centralidade_intermediacao\n",
        "})\n",
        "\n",
        "# Exibir os cinco primeiros registros do DataFrame\n",
        "print(centralidade_intermediacao_df.head())"
      ]
    },
    {
      "cell_type": "markdown",
      "id": "99c0f142",
      "metadata": {
        "id": "99c0f142"
      },
      "source": [
        "Por fim, vamos plotar os nós na rede viária, ressaltando o valor da centralidade de intermediação."
      ]
    },
    {
      "cell_type": "code",
      "execution_count": null,
      "id": "3c88deea",
      "metadata": {
        "id": "3c88deea"
      },
      "outputs": [],
      "source": [
        "# Visualizar os nós na rede viária com base na centralidade de intermediação\n",
        "import matplotlib.pyplot as plt\n",
        "import osmnx as ox\n",
        "\n",
        "# Configurar a figura para um único gráfico com fundo preto\n",
        "fig, ax = plt.subplots(figsize=(10, 8))\n",
        "fig.patch.set_facecolor('black')  # Fundo preto para a figura\n",
        "ax.set_facecolor(\"black\")  # Fundo preto para o gráfico\n",
        "\n",
        "# Gerar as cores dos nós com base na centralidade de intermediação\n",
        "cores_intermediacao = ox.plot.get_node_colors_by_attr(grafo_rede_viaria, \"centralidade_intermediacao\", cmap=\"plasma\")\n",
        "\n",
        "# Ajustar os tamanhos dos nós para torná-los mais visíveis\n",
        "tamanhos_nos = [20 + 200 * valor for valor in centralidade_intermediacao_df[\"centralidade_intermediacao\"]]\n",
        "\n",
        "# Plotar o grafo com a centralidade de intermediação\n",
        "ox.plot_graph(\n",
        "    grafo_rede_viaria,\n",
        "    ax=ax,\n",
        "    node_size=tamanhos_nos,\n",
        "    node_color=cores_intermediacao,\n",
        "    node_zorder=2,\n",
        "    edge_linewidth=0.5,\n",
        "    edge_color=\"gray\",\n",
        "    show=False,\n",
        "    close=False\n",
        ")\n",
        "\n",
        "# Adicionar título e exibir o gráfico\n",
        "ax.set_title(\"Centralidade de Intermediação\", color=\"white\")\n",
        "plt.tight_layout()\n",
        "plt.show()"
      ]
    },
    {
      "cell_type": "markdown",
      "id": "534813ec",
      "metadata": {
        "id": "534813ec"
      },
      "source": [
        "A centralidade de intermediação mede a importância de um nó como ponto de passagem nos caminhos mais curtos entre pares de nós. Nós com alta centralidade (tons quentes como amarelo e laranja) desempenham papéis importantes como pontos de passagem na rede, localizados em áreas de maior fluxo. Já os nós com baixa centralidade (tons frios como azul e roxo) são menos utilizados como pontos de passagem, geralmente localizados nas extremidades da rede ou em áreas menos conectadas.\n",
        "\n",
        "Com base nessa análise visual, geramos um histograma para examinar a distribuição da centralidade de intermediação."
      ]
    },
    {
      "cell_type": "code",
      "execution_count": null,
      "id": "e7e0debb",
      "metadata": {
        "id": "e7e0debb"
      },
      "outputs": [],
      "source": [
        "# Plotar o histograma da centralidade de intermediação\n",
        "fig, ax = plt.subplots(figsize=(10, 6))\n",
        "ax.hist(centralidade_intermediacao.values(), bins=20, color='skyblue', edgecolor='black')\n",
        "ax.set_xlabel(\"Centralidade de Intermediação\")\n",
        "ax.set_ylabel(\"Número de Nós\")\n",
        "ax.set_title(\"Distribuição da Centralidade de Intermediação\")\n",
        "plt.tight_layout()\n",
        "plt.show()"
      ]
    },
    {
      "cell_type": "markdown",
      "id": "cac67b41",
      "metadata": {
        "id": "cac67b41"
      },
      "source": [
        "O histograma da centralidade de intermediação mostra a distribuição dos nós na rede viária de acordo com sua importância para o fluxo de caminhos mais curtos. A centralidade de intermediação mede quantas vezes um nó atua como ponto de passagem em rotas entre pares de outros nós, indicando sua relevância na conectividade da rede.\n",
        "\n",
        "A análise do histograma revela que a maioria dos nós possui valores de centralidade de intermediação próximos de zero, conforme evidenciado pela alta concentração de nós na extremidade esquerda do gráfico. Isso sugere que grande parte dos nós tem pouca ou nenhuma importância como pontos de passagem em rotas mais curtas, provavelmente por serem interseções simples ou terminais que não desempenham um papel estratégico no fluxo geral da rede.\n",
        "\n",
        "Conforme os valores de centralidade aumentam, a frequência de nós diminui rapidamente, havendo uma quantidade pequena de nós com centralidade em torno de 0,05 e um número ainda menor com valores entre 0,1 e 0,2. Isso indica que apenas alguns nós atuam como pontos de passagem significativos, conectando diferentes partes da rede.\n",
        "\n",
        "Finalmente, observa-se que existem alguns poucos nós com valores de centralidade de intermediação mais altos, próximos de 0,2. Esses nós provavelmente representam interseções principais ou rotas centrais onde muitos caminhos mais curtos passam, tornando-os cruciais para a conectividade e fluidez do tráfego na rede.\n",
        "\n",
        "Em resumo, o padrão observado sugere uma estrutura hierárquica na rede viária, onde a maioria dos nós apresenta baixa importância para o fluxo de caminhos mais curtos, enquanto um número reduzido de nós atua como pontos centrais, suportando a maior parte da intermediação na rede. Esses nós de alta centralidade de intermediação são importantes para o fluxo e devem ser considerados em análises de acessibilidade e mobilidade, pois interrupções neles podem impactar significativamente a conectividade da rede.\n",
        "\n",
        "\n",
        "\n",
        "Após realizar a análise individual das centralidades de grau, proximidade e intermediação, agora iremos criar um gráfico consolidando as três métricas (grau total, proximidade total e intermediação). Esse plot permitirá uma visão mais ampla e comparativa, facilitando a análise geral da conectividade e da importância dos nós na rede viária."
      ]
    },
    {
      "cell_type": "code",
      "execution_count": null,
      "id": "3d63b4b2",
      "metadata": {
        "id": "3d63b4b2"
      },
      "outputs": [],
      "source": [
        "# Configurar a figura com 3 colunas e 1 linha, fundo preto\n",
        "fig, eixos = plt.subplots(1, 3, figsize=(20, 8), facecolor=\"black\")\n",
        "\n",
        "# Ajustar o fundo preto para cada eixo\n",
        "for eixo in eixos:\n",
        "    eixo.set_facecolor(\"black\")\n",
        "\n",
        "# Plotar a Centralidade de Grau Total\n",
        "cores_grau_total = ox.plot.get_node_colors_by_attr(grafo_rede_viaria, \"centralidade_grau_total\", cmap=\"plasma\")\n",
        "ox.plot_graph(\n",
        "    grafo_rede_viaria,\n",
        "    node_color=cores_grau_total,\n",
        "    node_size=50,\n",
        "    edge_linewidth=0.5,\n",
        "    edge_color=\"lightgray\",\n",
        "    bgcolor=\"black\",\n",
        "    ax=eixos[0],\n",
        "    show=False,\n",
        "    close=False\n",
        ")\n",
        "eixos[0].set_title(\"Centralidade de Grau Total\", color=\"white\")\n",
        "\n",
        "# Plotar a Centralidade de Proximidade Total\n",
        "cores_proximidade_total = ox.plot.get_node_colors_by_attr(grafo_rede_viaria, \"centralidade_proximidade_total\", cmap=\"plasma\")\n",
        "ox.plot_graph(\n",
        "    grafo_rede_viaria,\n",
        "    node_color=cores_proximidade_total,\n",
        "    node_size=50,\n",
        "    edge_linewidth=0.5,\n",
        "    edge_color=\"lightgray\",\n",
        "    bgcolor=\"black\",\n",
        "    ax=eixos[1],\n",
        "    show=False,\n",
        "    close=False\n",
        ")\n",
        "eixos[1].set_title(\"Centralidade de Proximidade Total\", color=\"white\")\n",
        "\n",
        "# Plotar a Centralidade de Intermediação\n",
        "cores_intermediacao = ox.plot.get_node_colors_by_attr(grafo_rede_viaria, \"centralidade_intermediacao\", cmap=\"plasma\")\n",
        "ox.plot_graph(\n",
        "    grafo_rede_viaria,\n",
        "    node_color=cores_intermediacao,\n",
        "    node_size=50,\n",
        "    edge_linewidth=0.5,\n",
        "    edge_color=\"lightgray\",\n",
        "    bgcolor=\"black\",\n",
        "    ax=eixos[2],\n",
        "    show=False,\n",
        "    close=False\n",
        ")\n",
        "eixos[2].set_title(\"Centralidade de Intermediação\", color=\"white\")\n",
        "\n",
        "# Ajustar o layout e exibir o gráfico\n",
        "plt.tight_layout()\n",
        "plt.show()"
      ]
    },
    {
      "cell_type": "markdown",
      "id": "7ed4c9e4",
      "metadata": {
        "id": "7ed4c9e4"
      },
      "source": [
        "Cada plot ilustra o papel distinto que os nós desempenham na conectividade e acessibilidade da rede.\n",
        "\n",
        "O primeiro plot mostra a centralidade de grau total, que mede o número de conexões diretas de cada nó. Nós com maior grau (cores mais claras) correspondem a interseções onde várias ruas convergem, representando pontos centrais de movimentação local. A predominância de nós com grau menor (cores mais escuras) indica que a maioria das interseções conecta apenas algumas ruas, enquanto poucos nós desempenham um papel mais relevante na estrutura geral da rede.\n",
        "\n",
        "O segundo plot apresenta a centralidade de proximidade total, que reflete a facilidade com que um nó pode alcançar outros pontos da rede. Nós com alta centralidade de proximidade (cores claras) estão posicionados de forma estratégica, permitindo acessar outras áreas da rede com poucas etapas. Já os nós com centralidade mais baixa (cores escuras) estão localizados em áreas periféricas ou menos acessíveis, refletindo sua posição mais afastada do centro da rede.\n",
        "\n",
        "O terceiro plot exibe a centralidade de intermediação, que mede o quanto um nó é usado como ponto de passagem nos caminhos mais curtos entre outros pares de nós. Nós com alta centralidade de intermediação (cores quentes) são críticos para o fluxo de tráfego, conectando diferentes partes da rede. Esses nós geralmente estão em posições estratégicas, como grandes interseções ou áreas centrais. Por outro lado, nós com baixa centralidade de intermediação (cores frias) têm menor relevância para o fluxo geral, atuando mais como pontos terminais ou locais de menor conectividade global.\n",
        "\n",
        "Com base nessa análise visual, será gerado um histograma para examinar a distribuição das centtralidades, permitindo uma visão quantitativa complementar ao padrão espacial observado."
      ]
    },
    {
      "cell_type": "code",
      "execution_count": null,
      "id": "f69570c4",
      "metadata": {
        "id": "f69570c4"
      },
      "outputs": [],
      "source": [
        "# Criar uma figura com 3 colunas e 1 linha\n",
        "fig, axes = plt.subplots(1, 3, figsize=(18, 5))\n",
        "\n",
        "# Plotar a distribuição da centralidade de grau\n",
        "axes[0].hist(centralidade_grau_total.values(), bins=20, color=\"skyblue\", edgecolor=\"black\")\n",
        "axes[0].set_xlabel(\"Centralidade de Grau\")\n",
        "axes[0].set_ylabel(\"Número de Nós\")\n",
        "axes[0].set_title(\"Distribuição da Centralidade de Grau\")\n",
        "\n",
        "# Plotar a distribuição da centralidade de proximidade\n",
        "axes[1].hist(centralidade_proximidade_total.values(), bins=20, color=\"lightgreen\", edgecolor=\"black\")\n",
        "axes[1].set_xlabel(\"Centralidade de Proximidade\")\n",
        "axes[1].set_ylabel(\"Número de Nós\")\n",
        "axes[1].set_title(\"Distribuição da Centralidade de Proximidade\")\n",
        "\n",
        "# Criar um DataFrame para a centralidade de intermediação e plotar o histograma\n",
        "axes[2].hist(centralidade_intermediacao.values(), bins=20, color=\"salmon\", edgecolor=\"black\")\n",
        "axes[2].set_xlabel(\"Centralidade de Intermediação\")\n",
        "axes[2].set_ylabel(\"Número de Nós\")\n",
        "axes[2].set_title(\"Distribuição da Centralidade de Intermediação\")\n",
        "\n",
        "# Ajustar o layout e exibir o gráfico\n",
        "plt.tight_layout()\n",
        "plt.show()"
      ]
    },
    {
      "cell_type": "markdown",
      "id": "39a22ea5",
      "metadata": {
        "id": "39a22ea5"
      },
      "source": [
        "Os histogramas fornecem uma visão detalhada sobre a conectividade e acessibilidade dos nós na rede viária. O histograma da centralidade de grau mostra a quantidade de conexões diretas de cada nó, representando a conectividade local. A distribuição apresenta picos concentrados principalmente entre 0,005 e 0,015, indicando que a maioria dos nós possui um número moderado de conexões, característicos de interseções simples. Apenas alguns nós possuem valores mais altos de centralidade de grau, sugerindo interseções principais, conectadas a várias ruas.\n",
        "\n",
        "O histograma da centralidade de proximidade reflete como os nós estão distribuídos em relação à acessibilidade de toda a rede. A maioria dos nós apresenta valores entre 0,0006 e 0,0010, indicando que a rede viária é razoavelmente bem conectada, permitindo alcançar a maior parte dos nós em poucas etapas. A baixa presença de valores extremos, tanto baixos quanto altos, sugere uma rede homogênea em termos de acessibilidade, sem áreas isoladas ou desproporcionalmente conectadas.\n",
        "\n",
        "Já o histograma da centralidade de intermediação revela que a maioria dos nós possui valores próximos de zero, com apenas alguns exibindo valores elevados. Esse padrão reflete que poucos nós desempenham papéis estratégicos como pontos de passagem em caminhos mais curtos entre outros nós. Esses nós, com alta centralidade de intermediação, representam interseções principais ou pontos críticos para o fluxo de tráfego, enquanto a maioria dos nós é composta por terminais ou interseções menos significativas para o fluxo geral.\n",
        "\n",
        "Em resumo, os histogramas mostram que a rede viária apresenta uma estrutura hierárquica: a centralidade de grau aponta para uma maioria de nós com conectividade moderada e alguns altamente conectados; a centralidade de proximidade indica uma acessibilidade bem distribuída, sem grandes desigualdades; e a centralidade de intermediação destaca poucos nós como cruciais para a conectividade global e o fluxo entre diferentes partes da rede.\n",
        "\n",
        "\n",
        "\n",
        "## 3.5 Cálculo da orientação da rede\n",
        "\n",
        "O cálculo da orientação da rede em redes espaciais refere-se à análise das direções predominantes dos segmentos de conexão, como ruas, trilhas ou qualquer outro tipo de conexão espacial. Esse processo permite identificar as direções ou ângulos mais frequentes dos segmentos em uma determinada área, revelando padrões de organização espacial e o layout da rede. A orientação é geralmente expressa em graus (de 0 a 360) ou em radianos e é frequentemente visualizada em gráficos polares ou histogramas que representam os ângulos das conexões.\n",
        "\n",
        "A análise de orientação permite extrair informações relevantes sobre a estrutura e organização da rede. Em redes com estrutura planejada, como bairros ou áreas construídas com regularidade, é comum encontrar orientações dominantes, como segmentos dispostos em ângulos retos ou seguindo uma mesma direção. Em contrapartida, em redes formadas de maneira orgânica, como trilhas em florestas ou caminhos em áreas rurais, a orientação dos segmentos tende a ser mais variada e sem direções predominantes. Essa análise revela se a rede segue um padrão organizado ou apresenta uma estrutura mais aleatória.\n",
        "\n",
        "O cálculo da orientação pode também ser usado para comparar diferentes regiões, setores ou áreas dentro de uma rede espacial. Áreas planejadas geralmente exibem orientações mais consistentes, enquanto áreas desenvolvidas de forma não estruturada apresentam orientações mais dispersas. Essa comparação é útil para identificar contrastes entre áreas com planejamento e sem planejamento, bem como para observar o impacto do desenvolvimento urbano ou natural.\n",
        "\n",
        "A orientação dos segmentos impacta ainda a forma como os indivíduos percebem e navegam pela rede. Em redes organizadas (por exemplo, com segmentos perpendiculares ou paralelos), é mais fácil para as pessoas se localizarem e encontrarem rotas. Em redes mais caóticas, com orientações diversas, a navegação pode ser mais desafiadora.\n",
        "\n",
        "Além disso, redes com orientações uniformes, como aquelas dispostas em ângulos consistentes, tendem a oferecer caminhos mais curtos e eficientes, enquanto redes com segmentos orientados de forma irregular podem aumentar o comprimento dos trajetos.\n",
        "\n",
        "\n",
        "Para analisar a orientação, inicialmente vamos transformar o grafo em um grafo não-direcionado. Isso é necessário porque estamos interessados apenas na direção das ruas, independentemente do sentido de direção de cada via.\n",
        "Além disso, vamos adicionar aos segmentos de rua (arestas) o atributo de \"bearing\" (orientação), que indica o ângulo de cada segmento em relação ao norte."
      ]
    },
    {
      "cell_type": "code",
      "execution_count": null,
      "id": "2b6fda07",
      "metadata": {
        "id": "2b6fda07"
      },
      "outputs": [],
      "source": [
        "grafo_nao_direcionado = ox.add_edge_bearings(ox.convert.to_undirected(grafo_rede_viaria))"
      ]
    },
    {
      "cell_type": "markdown",
      "id": "25d50084",
      "metadata": {
        "id": "25d50084"
      },
      "source": [
        "Para visualizar a orientação de forma clara, vamos criar um gráfico polar. Essa projeção permite mostrar os ângulos em um círculo, destacando as direções predominantes das ruas."
      ]
    },
    {
      "cell_type": "code",
      "execution_count": null,
      "id": "7f6dd75a",
      "metadata": {
        "id": "7f6dd75a"
      },
      "outputs": [],
      "source": [
        "# Configurar a Visualização com Projeção Polar\n",
        "fig, ax = plt.subplots(figsize=(6, 6), subplot_kw={\"projection\": \"polar\"})\n",
        "\n",
        "# Gerar o Histograma de Orientação\n",
        "ox.plot_orientation(grafo_nao_direcionado, ax=ax, title=\"Orientação da Rede Viária - Liberdade\", area=True)\n",
        "\n",
        "# Plotar\n",
        "plt.show()"
      ]
    },
    {
      "cell_type": "markdown",
      "id": "2076bbbb",
      "metadata": {
        "id": "2076bbbb"
      },
      "source": [
        "O gráfico de orientação apresenta a distribuição das direções das ruas do bairro da Liberdade, em relação aos pontos cardeais (Norte, Sul, Leste e Oeste).\n",
        "\n",
        "As barras representam a quantidade de segmentos de rua orientados em cada direção específica, com a altura de cada barra indicando essa quantidade. As direções mostram picos em diversas posições, sugerindo que as ruas não seguem uma única orientação predominante, mas sim uma variedade de direções distribuídas de forma relativamente uniforme.\n",
        "\n",
        "Em termos de *padrões de orientação*, esses múltiplos picos ao redor do círculo indicam que o bairro da Liberdade possui ruas orientadas em várias direções, com uma leve predominância nos eixos Norte-Sul e Leste-Oeste. A presença dessas múltiplas orientações sugere um crescimento urbano menos planejado, ou adaptado à topografia local, onde o traçado das ruas foi moldado de acordo com o terreno e as construções existentes, em vez de seguir um layout estritamente ortogonal.\n",
        "\n",
        "Na *análise de organização espacial*, a ausência de um padrão claro e dominante nas direções das ruas (como uma forte predominância em Norte-Sul e Leste-Oeste) indica que o bairro não apresenta uma estrutura viária em grade regular, característica de áreas planejadas. Essa variedade de orientações pode afetar a trafegabilidade e a percepção espacial, tornando a área potencialmente mais confusa para quem não conhece bem a região."
      ]
    }
  ],
  "metadata": {
    "kernelspec": {
      "display_name": "Python 3 (ipykernel)",
      "language": "python",
      "name": "python3"
    },
    "language_info": {
      "codemirror_mode": {
        "name": "ipython",
        "version": 3
      },
      "file_extension": ".py",
      "mimetype": "text/x-python",
      "name": "python",
      "nbconvert_exporter": "python",
      "pygments_lexer": "ipython3",
      "version": "3.9.20"
    },
    "colab": {
      "provenance": []
    }
  },
  "nbformat": 4,
  "nbformat_minor": 5
}